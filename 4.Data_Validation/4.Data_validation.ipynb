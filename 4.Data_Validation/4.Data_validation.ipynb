{
 "cells": [
  {
   "cell_type": "markdown",
   "id": "8c2ca69f",
   "metadata": {},
   "source": [
    "## <font color=\"Blue\">Phishing-URL Detection Model using Deep Learning algorithm - ConvXGB </font>"
   ]
  },
  {
   "cell_type": "markdown",
   "id": "93fbed47",
   "metadata": {},
   "source": [
    "<b>GOAL:</b> This study employs new deep learning algorithm named \"ConvXGB\" to the field of cybersecurity in detecting phishing URL.</br>\n",
    "<b>Author :</b> Saravanan Muthuramalingam </br>\n",
    "<b>Purpose of this notebook :</b> This Notebook handles the following,\n",
    "    <li> Understanding the datasets </li>\n",
    "    <li> Data Cleaning and Formating </li>\n",
    "    <li> Inferential Statistics </li>\n",
    "    <li> Data Pre-processing </li>\n",
    "    \n"
   ]
  },
  {
   "cell_type": "code",
   "execution_count": 1,
   "id": "38e771f2",
   "metadata": {},
   "outputs": [],
   "source": [
    "# import all required python libraries\n",
    "#-------------------------------------#\n",
    "# Statistics Libraries\n",
    "import numpy as np\n",
    "\n",
    "# Dataset related Libraires\n",
    "import pandas as pd \n",
    "import csv\n",
    "\n",
    "# Data Visualization Libraries\n",
    "import seaborn as sns\n",
    "import matplotlib.pyplot as plt\n",
    "\n",
    "# URL Parsing Libraries\n",
    "import urllib.parse\n",
    "from urllib.parse import urlparse\n",
    "from urllib.parse import urlsplit\n",
    "from urlpath import URL\n",
    "\n",
    "# OS and regular expression Libraries\n",
    "import re\n",
    "import glob\n",
    "import os\n",
    "\n",
    "# Image processing related Libraries\n",
    "from PIL import Image\n",
    "import cv2\n",
    "import skimage.measure\n",
    "import imghdr\n",
    "\n",
    "# Image validation related Libraries\n",
    "from difPy import dif\n",
    "from sklearn.preprocessing import OneHotEncoder\n",
    "\n",
    "# To Build CNN in Keras \n",
    "import keras\n",
    "from keras.models import Sequential\n",
    "from keras.layers import Dense, Dropout, Flatten\n",
    "from keras.layers import Conv2D, MaxPooling2D\n",
    "from keras.optimizers import SGD\n",
    "#from keras.layers.normalization import BatchNormalization\n",
    "from tensorflow.keras.layers import BatchNormalization\n",
    "from keras.layers import LeakyReLU\n",
    "from keras.models import Model\n",
    "from keras.preprocessing.image import ImageDataGenerator\n",
    "from keras.optimizers import Adam, Adadelta, RMSprop\n",
    "\n",
    "# XGBoost classification algorithm\n",
    "from xgboost import XGBClassifier\n",
    "\n",
    "# Perforrmance evaluation Librraries\n",
    "from sklearn.metrics import confusion_matrix, roc_auc_score, roc_curve, classification_report, precision_recall_curve\n",
    "from sklearn.metrics import accuracy_score, f1_score, precision_score, recall_score\n"
   ]
  },
  {
   "cell_type": "markdown",
   "id": "d204eabb",
   "metadata": {},
   "source": [
    "#### <font color=blue> Data Validation </font>"
   ]
  },
  {
   "cell_type": "code",
   "execution_count": 14,
   "id": "3e970e3b",
   "metadata": {},
   "outputs": [],
   "source": [
    "# loading the raw-dataset to pandas dataframe\n",
    "Phishing_url_df = pd.read_csv('phishing_dataset.csv', encoding='unicode_escape')"
   ]
  },
  {
   "cell_type": "code",
   "execution_count": 33,
   "id": "20f9f83d",
   "metadata": {},
   "outputs": [
    {
     "data": {
      "text/html": [
       "<div>\n",
       "<style scoped>\n",
       "    .dataframe tbody tr th:only-of-type {\n",
       "        vertical-align: middle;\n",
       "    }\n",
       "\n",
       "    .dataframe tbody tr th {\n",
       "        vertical-align: top;\n",
       "    }\n",
       "\n",
       "    .dataframe thead th {\n",
       "        text-align: right;\n",
       "    }\n",
       "</style>\n",
       "<table border=\"1\" class=\"dataframe\">\n",
       "  <thead>\n",
       "    <tr style=\"text-align: right;\">\n",
       "      <th></th>\n",
       "      <th>rec_id</th>\n",
       "      <th>url</th>\n",
       "      <th>website</th>\n",
       "      <th>result</th>\n",
       "      <th>created_date</th>\n",
       "    </tr>\n",
       "  </thead>\n",
       "  <tbody>\n",
       "    <tr>\n",
       "      <th>0</th>\n",
       "      <td>1</td>\n",
       "      <td>https://www.screamingfrog.co.uk/pay-per-click/</td>\n",
       "      <td>1635703174277606.html</td>\n",
       "      <td>0</td>\n",
       "      <td>2021-10-31 17:59:34</td>\n",
       "    </tr>\n",
       "    <tr>\n",
       "      <th>1</th>\n",
       "      <td>2</td>\n",
       "      <td>https://sms-labanquepostale-sms-labanqueposta...</td>\n",
       "      <td>1613573052480813.html</td>\n",
       "      <td>1</td>\n",
       "      <td>2021-02-17 20:14:12</td>\n",
       "    </tr>\n",
       "    <tr>\n",
       "      <th>2</th>\n",
       "      <td>3</td>\n",
       "      <td>http://mrsbt213.yolasite.com/</td>\n",
       "      <td>1607095600394378.html</td>\n",
       "      <td>1</td>\n",
       "      <td>2020-12-04 20:56:40</td>\n",
       "    </tr>\n",
       "    <tr>\n",
       "      <th>3</th>\n",
       "      <td>4</td>\n",
       "      <td>http://234.50.198.35.bc.googleusercontent.com...</td>\n",
       "      <td>1620759901211522.html</td>\n",
       "      <td>1</td>\n",
       "      <td>2021-05-12 00:35:01</td>\n",
       "    </tr>\n",
       "    <tr>\n",
       "      <th>4</th>\n",
       "      <td>5</td>\n",
       "      <td>https://3-138-183-243.cprapid.com/secureNetfl...</td>\n",
       "      <td>1626464266508342.html</td>\n",
       "      <td>1</td>\n",
       "      <td>2021-07-16 19:37:46</td>\n",
       "    </tr>\n",
       "  </tbody>\n",
       "</table>\n",
       "</div>"
      ],
      "text/plain": [
       "   rec_id                                                url  \\\n",
       "0       1     https://www.screamingfrog.co.uk/pay-per-click/   \n",
       "1       2   https://sms-labanquepostale-sms-labanqueposta...   \n",
       "2       3                      http://mrsbt213.yolasite.com/   \n",
       "3       4   http://234.50.198.35.bc.googleusercontent.com...   \n",
       "4       5   https://3-138-183-243.cprapid.com/secureNetfl...   \n",
       "\n",
       "                  website  result          created_date  \n",
       "0   1635703174277606.html       0   2021-10-31 17:59:34  \n",
       "1   1613573052480813.html       1   2021-02-17 20:14:12  \n",
       "2   1607095600394378.html       1   2020-12-04 20:56:40  \n",
       "3   1620759901211522.html       1   2021-05-12 00:35:01  \n",
       "4   1626464266508342.html       1   2021-07-16 19:37:46  "
      ]
     },
     "execution_count": 33,
     "metadata": {},
     "output_type": "execute_result"
    }
   ],
   "source": [
    "# Reading the top rows of dataset\n",
    "Phishing_url_df.head()"
   ]
  },
  {
   "cell_type": "code",
   "execution_count": 34,
   "id": "ef80710c",
   "metadata": {},
   "outputs": [
    {
     "data": {
      "text/plain": [
       "Index(['rec_id', 'url', 'website', 'result', 'created_date'], dtype='object')"
      ]
     },
     "execution_count": 34,
     "metadata": {},
     "output_type": "execute_result"
    }
   ],
   "source": [
    "# Viewing the features in the raw dataset\n",
    "Phishing_url_df.columns"
   ]
  },
  {
   "cell_type": "code",
   "execution_count": 7,
   "id": "4342a5dc",
   "metadata": {},
   "outputs": [
    {
     "data": {
      "text/plain": [
       "79741"
      ]
     },
     "execution_count": 7,
     "metadata": {},
     "output_type": "execute_result"
    }
   ],
   "source": [
    "# Calculating the total row-count of raw dataset\n",
    "Phishing_url_df['url'].size"
   ]
  },
  {
   "cell_type": "code",
   "execution_count": 8,
   "id": "5340e0e5",
   "metadata": {},
   "outputs": [
    {
     "name": "stdout",
     "output_type": "stream",
     "text": [
      "<class 'pandas.core.frame.DataFrame'>\n",
      "RangeIndex: 79741 entries, 0 to 79740\n",
      "Data columns (total 5 columns):\n",
      " #   Column        Non-Null Count  Dtype \n",
      "---  ------        --------------  ----- \n",
      " 0   rec_id        79741 non-null  int64 \n",
      " 1   url           79741 non-null  object\n",
      " 2   website       79741 non-null  object\n",
      " 3   result        79741 non-null  int64 \n",
      " 4   created_date  79741 non-null  object\n",
      "dtypes: int64(2), object(3)\n",
      "memory usage: 3.0+ MB\n"
     ]
    }
   ],
   "source": [
    "# Understanding the datatype of each features\n",
    "Phishing_url_df.info()"
   ]
  },
  {
   "cell_type": "code",
   "execution_count": 9,
   "id": "2d37d679",
   "metadata": {},
   "outputs": [
    {
     "data": {
      "text/plain": [
       "rec_id          0\n",
       "url             0\n",
       "website         0\n",
       "result          0\n",
       "created_date    0\n",
       "dtype: int64"
      ]
     },
     "execution_count": 9,
     "metadata": {},
     "output_type": "execute_result"
    }
   ],
   "source": [
    "# Checking for any missing values in the dataset features\n",
    "Phishing_url_df.isnull().sum()"
   ]
  },
  {
   "cell_type": "markdown",
   "id": "83567388",
   "metadata": {},
   "source": [
    "#### a. Data Similarity Check"
   ]
  },
  {
   "cell_type": "markdown",
   "id": "ec0d7788",
   "metadata": {},
   "source": [
    "Here in the data validation, we are checking if there is similar/fake screenshot images in the dataset as unique screenshot will result in poor test result."
   ]
  },
  {
   "cell_type": "code",
   "execution_count": 4,
   "id": "ea9ebb0e",
   "metadata": {},
   "outputs": [],
   "source": [
    "# Function that searches the folder for image files, converts them to a tensor\n",
    "def create_imgs_matrix(directory, px_size=50):\n",
    "    global image_files   \n",
    "    image_files = []\n",
    "    # create list of all files in directory     \n",
    "    folder_files = [filename for filename in os.listdir(directory)]  \n",
    "    \n",
    "    # create images matrix   \n",
    "    counter = 0\n",
    "    for filename in folder_files: \n",
    "        # check if the file is accesible and if the file format is an image\n",
    "        if not os.path.isdir(directory + filename) and imghdr.what(directory + filename):\n",
    "            # decode the image and create the matrix\n",
    "            img = cv2.imdecode(np.fromfile(directory + filename, dtype=np.uint8), cv2.IMREAD_UNCHANGED)\n",
    "            if type(img) == np.ndarray:\n",
    "                img = img[...,0:3]\n",
    "                # resize the image based on the given compression value\n",
    "                img = cv2.resize(img, dsize=(px_size, px_size), interpolation=cv2.INTER_CUBIC)\n",
    "                if counter == 0:\n",
    "                    imgs_matrix = img\n",
    "                    image_files.append(filename)\n",
    "                    counter += 1\n",
    "                else:\n",
    "                    imgs_matrix = np.concatenate((imgs_matrix, img))\n",
    "                    image_files.append(filename)\n",
    "    return imgs_matrix\n",
    "\n",
    "#Function for rotating an image matrix by a 90 degree angle\n",
    "def rotate_img(image):\n",
    "    image = np.rot90(image, k=1, axes=(0, 1))\n",
    "    return image\n",
    "\n",
    "# Function for checking the quality of compared images, appends the lower quality image to the list\n",
    "def check_img_quality(directory, imageA, imageB, list):\n",
    "    size_imgA = os.stat(directory + imageA).st_size\n",
    "    size_imgB = os.stat(directory + imageB).st_size\n",
    "    if size_imgA > size_imgB:\n",
    "        add_to_list(imageB, list)\n",
    "    else:\n",
    "        add_to_list(imageA, list)"
   ]
  },
  {
   "cell_type": "code",
   "execution_count": 6,
   "id": "8c2aa68f",
   "metadata": {},
   "outputs": [
    {
     "name": "stdout",
     "output_type": "stream",
     "text": [
      "DifPy preparing files: [14999/14999] [100%]\n",
      "DifPy comparing images: [14999/14999] [100%]\n",
      "Found 2869 images with one or more duplicate/similar images in 25555.3503 seconds.\n"
     ]
    }
   ],
   "source": [
    "#To print the duplicates images ratio.\n",
    "search = dif(r\"C:\\Users\\msara\\Desktop\\dataset\\converted_images\")"
   ]
  },
  {
   "cell_type": "markdown",
   "id": "8e942b55",
   "metadata": {},
   "source": [
    "#### b. Checking missing values"
   ]
  },
  {
   "cell_type": "code",
   "execution_count": 4,
   "id": "f95e7386",
   "metadata": {},
   "outputs": [
    {
     "data": {
      "text/html": [
       "<div>\n",
       "<style scoped>\n",
       "    .dataframe tbody tr th:only-of-type {\n",
       "        vertical-align: middle;\n",
       "    }\n",
       "\n",
       "    .dataframe tbody tr th {\n",
       "        vertical-align: top;\n",
       "    }\n",
       "\n",
       "    .dataframe thead th {\n",
       "        text-align: right;\n",
       "    }\n",
       "</style>\n",
       "<table border=\"1\" class=\"dataframe\">\n",
       "  <thead>\n",
       "    <tr style=\"text-align: right;\">\n",
       "      <th></th>\n",
       "      <th>Total</th>\n",
       "      <th>Percent</th>\n",
       "    </tr>\n",
       "  </thead>\n",
       "  <tbody>\n",
       "    <tr>\n",
       "      <th>rec_id</th>\n",
       "      <td>0</td>\n",
       "      <td>0.0</td>\n",
       "    </tr>\n",
       "    <tr>\n",
       "      <th>url</th>\n",
       "      <td>0</td>\n",
       "      <td>0.0</td>\n",
       "    </tr>\n",
       "    <tr>\n",
       "      <th>website</th>\n",
       "      <td>0</td>\n",
       "      <td>0.0</td>\n",
       "    </tr>\n",
       "    <tr>\n",
       "      <th>result</th>\n",
       "      <td>0</td>\n",
       "      <td>0.0</td>\n",
       "    </tr>\n",
       "    <tr>\n",
       "      <th>created_date</th>\n",
       "      <td>0</td>\n",
       "      <td>0.0</td>\n",
       "    </tr>\n",
       "  </tbody>\n",
       "</table>\n",
       "</div>"
      ],
      "text/plain": [
       "              Total  Percent\n",
       "rec_id            0      0.0\n",
       "url               0      0.0\n",
       "website           0      0.0\n",
       "result            0      0.0\n",
       "created_date      0      0.0"
      ]
     },
     "execution_count": 4,
     "metadata": {},
     "output_type": "execute_result"
    }
   ],
   "source": [
    "#Checking if there is any featureset with missing values\n",
    "total = Phishing_url_df.isnull().sum().sort_values(ascending=False)\n",
    "percent = (Phishing_url_df.isnull().sum())/Phishing_url_df.isnull().count().sort_values(ascending=False)\n",
    "missing_data = pd.concat([total, percent], axis=1, keys=['Total','Percent'], sort=False).sort_values('Total', ascending=False)\n",
    "missing_data.head(5)"
   ]
  },
  {
   "cell_type": "code",
   "execution_count": 5,
   "id": "736bf17e",
   "metadata": {},
   "outputs": [
    {
     "data": {
      "text/html": [
       "<div>\n",
       "<style scoped>\n",
       "    .dataframe tbody tr th:only-of-type {\n",
       "        vertical-align: middle;\n",
       "    }\n",
       "\n",
       "    .dataframe tbody tr th {\n",
       "        vertical-align: top;\n",
       "    }\n",
       "\n",
       "    .dataframe thead th {\n",
       "        text-align: right;\n",
       "    }\n",
       "</style>\n",
       "<table border=\"1\" class=\"dataframe\">\n",
       "  <thead>\n",
       "    <tr style=\"text-align: right;\">\n",
       "      <th></th>\n",
       "      <th>Total</th>\n",
       "      <th>Percent</th>\n",
       "    </tr>\n",
       "  </thead>\n",
       "  <tbody>\n",
       "  </tbody>\n",
       "</table>\n",
       "</div>"
      ],
      "text/plain": [
       "Empty DataFrame\n",
       "Columns: [Total, Percent]\n",
       "Index: []"
      ]
     },
     "execution_count": 5,
     "metadata": {},
     "output_type": "execute_result"
    }
   ],
   "source": [
    "#Checking if there is any featureset with missing values\n",
    "missing_data[missing_data['Percent'] != 0.0]"
   ]
  },
  {
   "cell_type": "markdown",
   "id": "07a0e677",
   "metadata": {},
   "source": [
    "#### c. Data duplication Check"
   ]
  },
  {
   "cell_type": "code",
   "execution_count": 6,
   "id": "585b36b4",
   "metadata": {},
   "outputs": [
    {
     "data": {
      "text/plain": [
       "(79741, 5)"
      ]
     },
     "execution_count": 6,
     "metadata": {},
     "output_type": "execute_result"
    }
   ],
   "source": [
    "Phishing_url_df.shape"
   ]
  },
  {
   "cell_type": "code",
   "execution_count": 11,
   "id": "52c936cf",
   "metadata": {},
   "outputs": [
    {
     "data": {
      "text/plain": [
       "79564"
      ]
     },
     "execution_count": 11,
     "metadata": {},
     "output_type": "execute_result"
    }
   ],
   "source": [
    "Phishing_url_df['url'].unique().size"
   ]
  },
  {
   "cell_type": "code",
   "execution_count": 23,
   "id": "1cedfd6b",
   "metadata": {},
   "outputs": [
    {
     "data": {
      "text/html": [
       "<div>\n",
       "<style scoped>\n",
       "    .dataframe tbody tr th:only-of-type {\n",
       "        vertical-align: middle;\n",
       "    }\n",
       "\n",
       "    .dataframe tbody tr th {\n",
       "        vertical-align: top;\n",
       "    }\n",
       "\n",
       "    .dataframe thead th {\n",
       "        text-align: right;\n",
       "    }\n",
       "</style>\n",
       "<table border=\"1\" class=\"dataframe\">\n",
       "  <thead>\n",
       "    <tr style=\"text-align: right;\">\n",
       "      <th></th>\n",
       "      <th>rec_id</th>\n",
       "      <th>url</th>\n",
       "      <th>website</th>\n",
       "      <th>result</th>\n",
       "      <th>created_date</th>\n",
       "    </tr>\n",
       "  </thead>\n",
       "  <tbody>\n",
       "    <tr>\n",
       "      <th>0</th>\n",
       "      <td>1</td>\n",
       "      <td>https://www.screamingfrog.co.uk/pay-per-click/</td>\n",
       "      <td>1635703174277606.html</td>\n",
       "      <td>0</td>\n",
       "      <td>2021-10-31 17:59:34</td>\n",
       "    </tr>\n",
       "    <tr>\n",
       "      <th>1</th>\n",
       "      <td>2</td>\n",
       "      <td>https://sms-labanquepostale-sms-labanqueposta...</td>\n",
       "      <td>1613573052480813.html</td>\n",
       "      <td>1</td>\n",
       "      <td>2021-02-17 20:14:12</td>\n",
       "    </tr>\n",
       "    <tr>\n",
       "      <th>2</th>\n",
       "      <td>3</td>\n",
       "      <td>http://mrsbt213.yolasite.com/</td>\n",
       "      <td>1607095600394378.html</td>\n",
       "      <td>1</td>\n",
       "      <td>2020-12-04 20:56:40</td>\n",
       "    </tr>\n",
       "    <tr>\n",
       "      <th>3</th>\n",
       "      <td>4</td>\n",
       "      <td>http://234.50.198.35.bc.googleusercontent.com...</td>\n",
       "      <td>1620759901211522.html</td>\n",
       "      <td>1</td>\n",
       "      <td>2021-05-12 00:35:01</td>\n",
       "    </tr>\n",
       "    <tr>\n",
       "      <th>4</th>\n",
       "      <td>5</td>\n",
       "      <td>https://3-138-183-243.cprapid.com/secureNetfl...</td>\n",
       "      <td>1626464266508342.html</td>\n",
       "      <td>1</td>\n",
       "      <td>2021-07-16 19:37:46</td>\n",
       "    </tr>\n",
       "    <tr>\n",
       "      <th>...</th>\n",
       "      <td>...</td>\n",
       "      <td>...</td>\n",
       "      <td>...</td>\n",
       "      <td>...</td>\n",
       "      <td>...</td>\n",
       "    </tr>\n",
       "    <tr>\n",
       "      <th>79736</th>\n",
       "      <td>79737</td>\n",
       "      <td>https://bestjobmanage.com/adminservicedesk/True/</td>\n",
       "      <td>1622125898152592.html</td>\n",
       "      <td>1</td>\n",
       "      <td>2021-05-27 14:31:38</td>\n",
       "    </tr>\n",
       "    <tr>\n",
       "      <th>79737</th>\n",
       "      <td>79738</td>\n",
       "      <td>http://vieuxshack.com/download/adobe/b51f1807...</td>\n",
       "      <td>160822961118687.html</td>\n",
       "      <td>1</td>\n",
       "      <td>2020-12-17 23:56:51</td>\n",
       "    </tr>\n",
       "    <tr>\n",
       "      <th>79738</th>\n",
       "      <td>79739</td>\n",
       "      <td>https://www.tumblr.com/search/gas%20mask%20ta...</td>\n",
       "      <td>163570726902772.html</td>\n",
       "      <td>0</td>\n",
       "      <td>2021-10-31 19:07:49</td>\n",
       "    </tr>\n",
       "    <tr>\n",
       "      <th>79739</th>\n",
       "      <td>79740</td>\n",
       "      <td>https://www.magnetic-shield.com/pdf/wc_4.pdf</td>\n",
       "      <td>1635701992217159.html</td>\n",
       "      <td>0</td>\n",
       "      <td>2021-10-31 17:39:52</td>\n",
       "    </tr>\n",
       "    <tr>\n",
       "      <th>79740</th>\n",
       "      <td>79741</td>\n",
       "      <td>https://sqm50.codesandbox.io/</td>\n",
       "      <td>1613575077067764.html</td>\n",
       "      <td>1</td>\n",
       "      <td>2021-02-17 20:47:57;</td>\n",
       "    </tr>\n",
       "  </tbody>\n",
       "</table>\n",
       "<p>79564 rows × 5 columns</p>\n",
       "</div>"
      ],
      "text/plain": [
       "       rec_id                                                url  \\\n",
       "0           1     https://www.screamingfrog.co.uk/pay-per-click/   \n",
       "1           2   https://sms-labanquepostale-sms-labanqueposta...   \n",
       "2           3                      http://mrsbt213.yolasite.com/   \n",
       "3           4   http://234.50.198.35.bc.googleusercontent.com...   \n",
       "4           5   https://3-138-183-243.cprapid.com/secureNetfl...   \n",
       "...       ...                                                ...   \n",
       "79736   79737   https://bestjobmanage.com/adminservicedesk/True/   \n",
       "79737   79738   http://vieuxshack.com/download/adobe/b51f1807...   \n",
       "79738   79739   https://www.tumblr.com/search/gas%20mask%20ta...   \n",
       "79739   79740       https://www.magnetic-shield.com/pdf/wc_4.pdf   \n",
       "79740   79741                      https://sqm50.codesandbox.io/   \n",
       "\n",
       "                      website  result           created_date  \n",
       "0       1635703174277606.html       0    2021-10-31 17:59:34  \n",
       "1       1613573052480813.html       1    2021-02-17 20:14:12  \n",
       "2       1607095600394378.html       1    2020-12-04 20:56:40  \n",
       "3       1620759901211522.html       1    2021-05-12 00:35:01  \n",
       "4       1626464266508342.html       1    2021-07-16 19:37:46  \n",
       "...                       ...     ...                    ...  \n",
       "79736   1622125898152592.html       1    2021-05-27 14:31:38  \n",
       "79737    160822961118687.html       1    2020-12-17 23:56:51  \n",
       "79738    163570726902772.html       0    2021-10-31 19:07:49  \n",
       "79739   1635701992217159.html       0    2021-10-31 17:39:52  \n",
       "79740   1613575077067764.html       1   2021-02-17 20:47:57;  \n",
       "\n",
       "[79564 rows x 5 columns]"
      ]
     },
     "execution_count": 23,
     "metadata": {},
     "output_type": "execute_result"
    }
   ],
   "source": [
    "Phishing_url_df[~Phishing_url_df[\"url\"].duplicated()]"
   ]
  },
  {
   "cell_type": "code",
   "execution_count": null,
   "id": "c143a438",
   "metadata": {},
   "outputs": [],
   "source": []
  }
 ],
 "metadata": {
  "kernelspec": {
   "display_name": "Python 3 (ipykernel)",
   "language": "python",
   "name": "python3"
  },
  "language_info": {
   "codemirror_mode": {
    "name": "ipython",
    "version": 3
   },
   "file_extension": ".py",
   "mimetype": "text/x-python",
   "name": "python",
   "nbconvert_exporter": "python",
   "pygments_lexer": "ipython3",
   "version": "3.9.13"
  }
 },
 "nbformat": 4,
 "nbformat_minor": 5
}
