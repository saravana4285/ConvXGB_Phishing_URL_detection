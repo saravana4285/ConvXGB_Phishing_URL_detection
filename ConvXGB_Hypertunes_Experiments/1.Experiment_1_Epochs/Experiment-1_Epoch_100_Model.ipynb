{
 "cells": [
  {
   "cell_type": "markdown",
   "id": "8c2ca69f",
   "metadata": {},
   "source": [
    "## <font color=\"Blue\">Phishing URL Detection - ConvXGB Model</font>"
   ]
  },
  {
   "cell_type": "markdown",
   "id": "93fbed47",
   "metadata": {},
   "source": [
    "<b>GOAL:</b> This study employs new deep learning algorithm named \"ConvXGB\" to the field of cybersecurity in detecting phishing URL.</br>\n",
    "<b>Author :</b> Saravanan Muthuramalingam </br>\n",
    "<b>Purpose of this notebook :</b> This Notebook handles the following,\n",
    "    <li> Hyperparamter Tuning </li>\n",
    "    <li> EPOCH = 100 </li>\n",
    "\n",
    "    "
   ]
  },
  {
   "cell_type": "code",
   "execution_count": 1,
   "id": "38e771f2",
   "metadata": {},
   "outputs": [],
   "source": [
    "# import all required python libraries\n",
    "#-------------------------------------#\n",
    "# Statistics Libraries\n",
    "import numpy as np\n",
    "\n",
    "# Dataset related Libraires\n",
    "import pandas as pd \n",
    "import csv\n",
    "\n",
    "# Data Visualization Libraries\n",
    "import seaborn as sns\n",
    "import matplotlib.pyplot as plt\n",
    "\n",
    "# URL Parsing Libraries\n",
    "import urllib.parse\n",
    "from urllib.parse import urlparse\n",
    "from urllib.parse import urlsplit\n",
    "from urlpath import URL\n",
    "\n",
    "# OS and regular expression Libraries\n",
    "import re\n",
    "import glob\n",
    "import os\n",
    "\n",
    "# Image processing related Libraries\n",
    "from PIL import Image\n",
    "import cv2\n",
    "import skimage.measure\n",
    "import imghdr\n",
    "\n",
    "# Image validation related Libraries\n",
    "from difPy import dif\n",
    "from sklearn.preprocessing import OneHotEncoder\n",
    "\n",
    "# To Build CNN in Keras \n",
    "import keras\n",
    "from keras.models import Sequential\n",
    "from keras.layers import Dense, Dropout, Flatten\n",
    "from keras.layers import Conv2D, MaxPooling2D\n",
    "from keras.optimizers import SGD\n",
    "#from keras.layers.normalization import BatchNormalization\n",
    "from tensorflow.keras.layers import BatchNormalization\n",
    "from keras.layers import LeakyReLU\n",
    "from keras.models import Model\n",
    "from keras.preprocessing.image import ImageDataGenerator\n",
    "from keras.optimizers import Adam, Adadelta, RMSprop\n",
    "\n",
    "# XGBoost classification algorithm\n",
    "from xgboost import XGBClassifier\n",
    "\n",
    "# Perforrmance evaluation Librraries\n",
    "from sklearn.metrics import confusion_matrix, roc_auc_score, roc_curve, classification_report, precision_recall_curve\n",
    "from sklearn.metrics import accuracy_score, f1_score, precision_score, recall_score\n"
   ]
  },
  {
   "cell_type": "markdown",
   "id": "7a5c22c8",
   "metadata": {},
   "source": [
    "#### <font color='blue'>7. Splitting Train/Test Data</font>"
   ]
  },
  {
   "cell_type": "code",
   "execution_count": 2,
   "id": "667dcd92",
   "metadata": {},
   "outputs": [],
   "source": [
    "#spliting test and train\n",
    "#80% of the datasets is reserved for training the model\n",
    "raw_df = pd.read_csv(r'C:\\Users\\msara\\Desktop\\dataset\\preprocessed_data.csv')\n",
    "#raw_df = raw_df.drop(columns=['protocol'])\n",
    "raw_df['split'] = np.random.randn(raw_df.shape[0], 1)\n",
    "\n",
    "#msk = np.random.rand(len(raw_df)) <= 0.8\n",
    "\n",
    "#train = raw_df[msk]\n",
    "#test = raw_df[~msk]"
   ]
  },
  {
   "cell_type": "code",
   "execution_count": 3,
   "id": "fb37186e",
   "metadata": {},
   "outputs": [],
   "source": [
    "y = raw_df.pop('result')\n",
    "\n",
    "X = raw_df"
   ]
  },
  {
   "cell_type": "code",
   "execution_count": 4,
   "id": "0c8a65f2",
   "metadata": {},
   "outputs": [
    {
     "data": {
      "text/plain": [
       "Text(0.5, 1.0, 'Phishing vs Legitmate count')"
      ]
     },
     "execution_count": 4,
     "metadata": {},
     "output_type": "execute_result"
    },
    {
     "data": {
      "image/png": "[encoded data removed]",
      "text/plain": [
       "<Figure size 640x480 with 1 Axes>"
      ]
     },
     "metadata": {},
     "output_type": "display_data"
    }
   ],
   "source": [
    "#before class imablance\n",
    "y.value_counts().plot.bar()\n",
    "plt.title(\"Phishing vs Legitmate count\")"
   ]
  },
  {
   "cell_type": "code",
   "execution_count": 5,
   "id": "38727bb9",
   "metadata": {},
   "outputs": [
    {
     "data": {
      "text/plain": [
       "0    13948\n",
       "1     3735\n",
       "Name: result, dtype: int64"
      ]
     },
     "execution_count": 5,
     "metadata": {},
     "output_type": "execute_result"
    }
   ],
   "source": [
    "y.value_counts()"
   ]
  },
  {
   "cell_type": "code",
   "execution_count": 6,
   "id": "c9e80fd4",
   "metadata": {},
   "outputs": [
    {
     "name": "stdout",
     "output_type": "stream",
     "text": [
      "class 0: 78.24868183941801 %\n",
      "class 1: 21.75131816058199\n"
     ]
    }
   ],
   "source": [
    "print(\"class 0:\",11724 *100/(11724+3259),\"%\")\n",
    "print(\"class 1:\",3259* 100/(11724+3259))"
   ]
  },
  {
   "cell_type": "code",
   "execution_count": 7,
   "id": "75564749",
   "metadata": {},
   "outputs": [
    {
     "name": "stdout",
     "output_type": "stream",
     "text": [
      "(17683, 786)\n",
      "(17683,)\n"
     ]
    }
   ],
   "source": [
    "print(X.shape)\n",
    "print(y.shape)"
   ]
  },
  {
   "cell_type": "markdown",
   "id": "543d279e",
   "metadata": {},
   "source": [
    "#### Handling Class Imbalance"
   ]
  },
  {
   "cell_type": "code",
   "execution_count": 8,
   "id": "f45d900d",
   "metadata": {},
   "outputs": [],
   "source": [
    "#classs imabalance\n",
    "from imblearn.over_sampling import SMOTE\n",
    "sm = SMOTE(random_state=42)\n",
    "X_res, y_res = sm.fit_resample(X, y)"
   ]
  },
  {
   "cell_type": "code",
   "execution_count": 9,
   "id": "20035483",
   "metadata": {},
   "outputs": [
    {
     "name": "stdout",
     "output_type": "stream",
     "text": [
      "(27896, 786)\n",
      "(27896,)\n"
     ]
    }
   ],
   "source": [
    "#Oversampling results\n",
    "print(X_res.shape)\n",
    "print(y_res.shape)"
   ]
  },
  {
   "cell_type": "code",
   "execution_count": 10,
   "id": "5a62d2d8",
   "metadata": {},
   "outputs": [],
   "source": [
    "new_df = pd.concat([X_res,y_res],axis=1)"
   ]
  },
  {
   "cell_type": "code",
   "execution_count": 11,
   "id": "2694edc4",
   "metadata": {},
   "outputs": [
    {
     "data": {
      "text/html": [
       "<div>\n",
       "<style scoped>\n",
       "    .dataframe tbody tr th:only-of-type {\n",
       "        vertical-align: middle;\n",
       "    }\n",
       "\n",
       "    .dataframe tbody tr th {\n",
       "        vertical-align: top;\n",
       "    }\n",
       "\n",
       "    .dataframe thead th {\n",
       "        text-align: right;\n",
       "    }\n",
       "</style>\n",
       "<table border=\"1\" class=\"dataframe\">\n",
       "  <thead>\n",
       "    <tr style=\"text-align: right;\">\n",
       "      <th></th>\n",
       "      <th>Unnamed: 0</th>\n",
       "      <th>pixel2</th>\n",
       "      <th>pixel3</th>\n",
       "      <th>pixel4</th>\n",
       "      <th>pixel5</th>\n",
       "      <th>pixel6</th>\n",
       "      <th>pixel7</th>\n",
       "      <th>pixel8</th>\n",
       "      <th>pixel9</th>\n",
       "      <th>pixel10</th>\n",
       "      <th>...</th>\n",
       "      <th>pixel778</th>\n",
       "      <th>pixel779</th>\n",
       "      <th>pixel780</th>\n",
       "      <th>pixel781</th>\n",
       "      <th>pixel782</th>\n",
       "      <th>pixel783</th>\n",
       "      <th>pixel784</th>\n",
       "      <th>pixel785</th>\n",
       "      <th>split</th>\n",
       "      <th>result</th>\n",
       "    </tr>\n",
       "  </thead>\n",
       "  <tbody>\n",
       "    <tr>\n",
       "      <th>0</th>\n",
       "      <td>0</td>\n",
       "      <td>161.0</td>\n",
       "      <td>161.0</td>\n",
       "      <td>161.0</td>\n",
       "      <td>161.0</td>\n",
       "      <td>161.0</td>\n",
       "      <td>161.0</td>\n",
       "      <td>161.0</td>\n",
       "      <td>161.0</td>\n",
       "      <td>161.0</td>\n",
       "      <td>...</td>\n",
       "      <td>85.0</td>\n",
       "      <td>151.0</td>\n",
       "      <td>155.0</td>\n",
       "      <td>94.0</td>\n",
       "      <td>65.0</td>\n",
       "      <td>69.0</td>\n",
       "      <td>68.0</td>\n",
       "      <td>68.0</td>\n",
       "      <td>-0.663690</td>\n",
       "      <td>0</td>\n",
       "    </tr>\n",
       "    <tr>\n",
       "      <th>1</th>\n",
       "      <td>1</td>\n",
       "      <td>253.0</td>\n",
       "      <td>253.0</td>\n",
       "      <td>253.0</td>\n",
       "      <td>252.0</td>\n",
       "      <td>253.0</td>\n",
       "      <td>223.0</td>\n",
       "      <td>204.0</td>\n",
       "      <td>206.0</td>\n",
       "      <td>201.0</td>\n",
       "      <td>...</td>\n",
       "      <td>4.0</td>\n",
       "      <td>2.0</td>\n",
       "      <td>3.0</td>\n",
       "      <td>4.0</td>\n",
       "      <td>4.0</td>\n",
       "      <td>4.0</td>\n",
       "      <td>4.0</td>\n",
       "      <td>4.0</td>\n",
       "      <td>-0.265376</td>\n",
       "      <td>0</td>\n",
       "    </tr>\n",
       "    <tr>\n",
       "      <th>2</th>\n",
       "      <td>2</td>\n",
       "      <td>100.0</td>\n",
       "      <td>106.0</td>\n",
       "      <td>106.0</td>\n",
       "      <td>102.0</td>\n",
       "      <td>102.0</td>\n",
       "      <td>101.0</td>\n",
       "      <td>117.0</td>\n",
       "      <td>109.0</td>\n",
       "      <td>104.0</td>\n",
       "      <td>...</td>\n",
       "      <td>192.0</td>\n",
       "      <td>192.0</td>\n",
       "      <td>65.0</td>\n",
       "      <td>37.0</td>\n",
       "      <td>46.0</td>\n",
       "      <td>44.0</td>\n",
       "      <td>44.0</td>\n",
       "      <td>39.0</td>\n",
       "      <td>-0.556710</td>\n",
       "      <td>0</td>\n",
       "    </tr>\n",
       "    <tr>\n",
       "      <th>3</th>\n",
       "      <td>3</td>\n",
       "      <td>229.0</td>\n",
       "      <td>224.0</td>\n",
       "      <td>249.0</td>\n",
       "      <td>238.0</td>\n",
       "      <td>229.0</td>\n",
       "      <td>236.0</td>\n",
       "      <td>235.0</td>\n",
       "      <td>244.0</td>\n",
       "      <td>248.0</td>\n",
       "      <td>...</td>\n",
       "      <td>247.0</td>\n",
       "      <td>246.0</td>\n",
       "      <td>241.0</td>\n",
       "      <td>240.0</td>\n",
       "      <td>240.0</td>\n",
       "      <td>237.0</td>\n",
       "      <td>239.0</td>\n",
       "      <td>244.0</td>\n",
       "      <td>-0.807883</td>\n",
       "      <td>0</td>\n",
       "    </tr>\n",
       "    <tr>\n",
       "      <th>4</th>\n",
       "      <td>4</td>\n",
       "      <td>234.0</td>\n",
       "      <td>234.0</td>\n",
       "      <td>230.0</td>\n",
       "      <td>233.0</td>\n",
       "      <td>230.0</td>\n",
       "      <td>218.0</td>\n",
       "      <td>222.0</td>\n",
       "      <td>232.0</td>\n",
       "      <td>233.0</td>\n",
       "      <td>...</td>\n",
       "      <td>48.0</td>\n",
       "      <td>49.0</td>\n",
       "      <td>45.0</td>\n",
       "      <td>38.0</td>\n",
       "      <td>39.0</td>\n",
       "      <td>39.0</td>\n",
       "      <td>39.0</td>\n",
       "      <td>39.0</td>\n",
       "      <td>0.068029</td>\n",
       "      <td>0</td>\n",
       "    </tr>\n",
       "  </tbody>\n",
       "</table>\n",
       "<p>5 rows × 787 columns</p>\n",
       "</div>"
      ],
      "text/plain": [
       "   Unnamed: 0  pixel2  pixel3  pixel4  pixel5  pixel6  pixel7  pixel8  pixel9  \\\n",
       "0           0   161.0   161.0   161.0   161.0   161.0   161.0   161.0   161.0   \n",
       "1           1   253.0   253.0   253.0   252.0   253.0   223.0   204.0   206.0   \n",
       "2           2   100.0   106.0   106.0   102.0   102.0   101.0   117.0   109.0   \n",
       "3           3   229.0   224.0   249.0   238.0   229.0   236.0   235.0   244.0   \n",
       "4           4   234.0   234.0   230.0   233.0   230.0   218.0   222.0   232.0   \n",
       "\n",
       "   pixel10  ...  pixel778  pixel779  pixel780  pixel781  pixel782  pixel783  \\\n",
       "0    161.0  ...      85.0     151.0     155.0      94.0      65.0      69.0   \n",
       "1    201.0  ...       4.0       2.0       3.0       4.0       4.0       4.0   \n",
       "2    104.0  ...     192.0     192.0      65.0      37.0      46.0      44.0   \n",
       "3    248.0  ...     247.0     246.0     241.0     240.0     240.0     237.0   \n",
       "4    233.0  ...      48.0      49.0      45.0      38.0      39.0      39.0   \n",
       "\n",
       "   pixel784  pixel785     split  result  \n",
       "0      68.0      68.0 -0.663690       0  \n",
       "1       4.0       4.0 -0.265376       0  \n",
       "2      44.0      39.0 -0.556710       0  \n",
       "3     239.0     244.0 -0.807883       0  \n",
       "4      39.0      39.0  0.068029       0  \n",
       "\n",
       "[5 rows x 787 columns]"
      ]
     },
     "execution_count": 11,
     "metadata": {},
     "output_type": "execute_result"
    }
   ],
   "source": [
    "new_df.head(5)"
   ]
  },
  {
   "cell_type": "code",
   "execution_count": 12,
   "id": "9ee620d4",
   "metadata": {},
   "outputs": [
    {
     "data": {
      "text/plain": [
       "<AxesSubplot:>"
      ]
     },
     "execution_count": 12,
     "metadata": {},
     "output_type": "execute_result"
    },
    {
     "data": {
      "image/png": "[encoded data removed]",
      "text/plain": [
       "<Figure size 640x480 with 1 Axes>"
      ]
     },
     "metadata": {},
     "output_type": "display_data"
    }
   ],
   "source": [
    "#after class imablance\n",
    "y_res.value_counts().plot.bar()"
   ]
  },
  {
   "cell_type": "code",
   "execution_count": 13,
   "id": "e365a1c3",
   "metadata": {},
   "outputs": [
    {
     "data": {
      "text/plain": [
       "(27896, 785)"
      ]
     },
     "execution_count": 13,
     "metadata": {},
     "output_type": "execute_result"
    }
   ],
   "source": [
    "raw_df = new_df.copy()\n",
    "raw_df = raw_df.drop(['Unnamed: 0', 'split'],axis=1)\n",
    "raw_df.shape"
   ]
  },
  {
   "cell_type": "markdown",
   "id": "0623c254",
   "metadata": {},
   "source": [
    "#### <font color='blue'>9. Train/Test Data Pre-processing</font>"
   ]
  },
  {
   "cell_type": "code",
   "execution_count": 14,
   "id": "30e35d8b",
   "metadata": {},
   "outputs": [],
   "source": [
    "# Removing unwanted columns from train dataset\n",
    "#train = train.drop(['Unnamed: 0', 'protocol','split'],axis=1)\n",
    "#print(\"Train_data shape:\", train.shape)\n",
    "\n",
    "# Removing unwanted columns from test dataset\n",
    "#test = test.drop(['Unnamed: 0', 'protocol', 'split'],axis=1)\n",
    "#print(\"Test_data shape:\", test.shape)"
   ]
  },
  {
   "cell_type": "code",
   "execution_count": 15,
   "id": "ad47a71d",
   "metadata": {},
   "outputs": [],
   "source": [
    "msk = np.random.rand(len(raw_df)) <= 0.7\n",
    "\n",
    "train = raw_df[msk]\n",
    "test = raw_df[~msk]"
   ]
  },
  {
   "cell_type": "code",
   "execution_count": 16,
   "id": "5790b130",
   "metadata": {},
   "outputs": [
    {
     "name": "stdout",
     "output_type": "stream",
     "text": [
      "(19493, 785)\n",
      "(8403, 785)\n"
     ]
    }
   ],
   "source": [
    "print(train.shape)\n",
    "print(test.shape)"
   ]
  },
  {
   "cell_type": "code",
   "execution_count": 17,
   "id": "8c3ef086",
   "metadata": {},
   "outputs": [
    {
     "name": "stdout",
     "output_type": "stream",
     "text": [
      "train shape: (19493, 785)\n",
      "val shape: (8003, 785)\n",
      "train_label shape: (19493,)\n",
      "val_label shape: (8003,)\n",
      "train_image shape: (19493, 784)\n",
      "val_image shape: (8003, 784)\n",
      "test_image shape: (8403, 784)\n",
      "test_label shape: (8403,)\n"
     ]
    }
   ],
   "source": [
    "#converting the data to appropripate shapes using numpy\n",
    "train_data = train[:]\n",
    "val_data = test[400:]\n",
    "train_label = np.float32(train_data.result)\n",
    "val_label = np.float32(val_data.result)\n",
    "train_image = np.float32(train_data[train_data.columns[1:]])\n",
    "val_image = np.float32(val_data[val_data.columns[1:]])\n",
    "test_image = np.float32(test[test.columns[1:]])\n",
    "test_label = np.float32(test.result)\n",
    "print('train shape: %s'%str(train_data.shape))\n",
    "print('val shape: %s'%str(val_data.shape))\n",
    "print('train_label shape: %s'%str(train_label.shape))\n",
    "print('val_label shape: %s'%str(val_label.shape))\n",
    "print('train_image shape: %s'%str(train_image.shape))\n",
    "print('val_image shape: %s'%str(val_image.shape))\n",
    "print('test_image shape: %s'%str(test_image.shape))\n",
    "print('test_label shape: %s'%str(test_label.shape))"
   ]
  },
  {
   "cell_type": "code",
   "execution_count": 18,
   "id": "29b95873",
   "metadata": {},
   "outputs": [
    {
     "name": "stdout",
     "output_type": "stream",
     "text": [
      "(19493, 784)\n",
      "(19493, 784)\n",
      "train_image shape: (19493, 28, 28, 1)\n",
      "train_image shape: (19493, 28, 28, 1)\n",
      "val_image shape: (8003, 28, 28, 1)\n",
      "(8003,)\n"
     ]
    }
   ],
   "source": [
    "\n",
    "\n",
    "plt.show()\n",
    "print(train_image.shape)\n",
    "\n",
    "train_image = train_image/255.0\n",
    "val_image = val_image/255.0\n",
    "test_image = test_image/255.0\n",
    "\n",
    "print(train_image.shape)\n",
    "\n",
    "#28 x 28 = 784\n",
    "train_image = train_image.reshape(train_image.shape[0],28,28,1)\n",
    "val_image = val_image.reshape(val_image.shape[0],28,28,1)\n",
    "test_image = test_image.reshape(test_image.shape[0],28,28,1)\n",
    "\n",
    "\n",
    "print('train_image shape: %s'%str(train_image.shape))\n",
    "\n",
    "print('train_image shape: %s'%str(train_image.shape))\n",
    "print('val_image shape: %s'%str(val_image.shape))\n",
    "\n",
    "train_label1 = train_label\n",
    "val_label1 = val_label\n",
    "print(val_label1.shape)"
   ]
  },
  {
   "cell_type": "markdown",
   "id": "5a2f8802",
   "metadata": {},
   "source": [
    "#### <font color='blue'>10. One Hot Encoding</font>"
   ]
  },
  {
   "cell_type": "code",
   "execution_count": 19,
   "id": "8e8c379b",
   "metadata": {},
   "outputs": [
    {
     "name": "stdout",
     "output_type": "stream",
     "text": [
      "train_label shape: (19493, 10)\n",
      "val_label shape: (8003, 10)\n"
     ]
    }
   ],
   "source": [
    "#onehot encoding\n",
    "encoder = OneHotEncoder(sparse=False,categories='auto')\n",
    "yy = [[0],[1],[2],[3],[4],[5],[6],[7],[8],[9]]\n",
    "encoder.fit(yy)\n",
    "# transform\n",
    "train_label = train_label.reshape(-1,1)\n",
    "val_label = val_label.reshape(-1,1)\n",
    "\n",
    "train_label = encoder.transform(train_label)\n",
    "val_label = encoder.transform(val_label)\n",
    "\n",
    "print('train_label shape: %s'%str(train_label.shape))\n",
    "print('val_label shape: %s'%str(val_label.shape))"
   ]
  },
  {
   "cell_type": "markdown",
   "id": "a4877b91",
   "metadata": {
    "scrolled": true
   },
   "source": [
    "#### <font color='blue'> 11. CNN Model Building </font>"
   ]
  },
  {
   "cell_type": "code",
   "execution_count": 20,
   "id": "9751ccc4",
   "metadata": {},
   "outputs": [
    {
     "name": "stdout",
     "output_type": "stream",
     "text": [
      "Model: \"sequential\"\n",
      "_________________________________________________________________\n",
      " Layer (type)                Output Shape              Param #   \n",
      "=================================================================\n",
      " conv2d (Conv2D)             (None, 28, 28, 32)        320       \n",
      "                                                                 \n",
      " batch_normalization (BatchN  (None, 28, 28, 32)       128       \n",
      " ormalization)                                                   \n",
      "                                                                 \n",
      " leaky_re_lu (LeakyReLU)     (None, 28, 28, 32)        0         \n",
      "                                                                 \n",
      " conv2d_1 (Conv2D)           (None, 28, 28, 32)        9248      \n",
      "                                                                 \n",
      " batch_normalization_1 (Batc  (None, 28, 28, 32)       128       \n",
      " hNormalization)                                                 \n",
      "                                                                 \n",
      " leaky_re_lu_1 (LeakyReLU)   (None, 28, 28, 32)        0         \n",
      "                                                                 \n",
      " max_pooling2d (MaxPooling2D  (None, 14, 14, 32)       0         \n",
      " )                                                               \n",
      "                                                                 \n",
      " dropout (Dropout)           (None, 14, 14, 32)        0         \n",
      "                                                                 \n",
      " conv2d_2 (Conv2D)           (None, 14, 14, 64)        18496     \n",
      "                                                                 \n",
      " batch_normalization_2 (Batc  (None, 14, 14, 64)       256       \n",
      " hNormalization)                                                 \n",
      "                                                                 \n",
      " leaky_re_lu_2 (LeakyReLU)   (None, 14, 14, 64)        0         \n",
      "                                                                 \n",
      " conv2d_3 (Conv2D)           (None, 14, 14, 64)        36928     \n",
      "                                                                 \n",
      " batch_normalization_3 (Batc  (None, 14, 14, 64)       256       \n",
      " hNormalization)                                                 \n",
      "                                                                 \n",
      " leaky_re_lu_3 (LeakyReLU)   (None, 14, 14, 64)        0         \n",
      "                                                                 \n",
      " max_pooling2d_1 (MaxPooling  (None, 7, 7, 64)         0         \n",
      " 2D)                                                             \n",
      "                                                                 \n",
      " dropout_1 (Dropout)         (None, 7, 7, 64)          0         \n",
      "                                                                 \n",
      " conv2d_4 (Conv2D)           (None, 7, 7, 128)         204928    \n",
      "                                                                 \n",
      " batch_normalization_4 (Batc  (None, 7, 7, 128)        512       \n",
      " hNormalization)                                                 \n",
      "                                                                 \n",
      " leaky_re_lu_4 (LeakyReLU)   (None, 7, 7, 128)         0         \n",
      "                                                                 \n",
      " conv2d_5 (Conv2D)           (None, 7, 7, 128)         409728    \n",
      "                                                                 \n",
      " batch_normalization_5 (Batc  (None, 7, 7, 128)        512       \n",
      " hNormalization)                                                 \n",
      "                                                                 \n",
      " leaky_re_lu_5 (LeakyReLU)   (None, 7, 7, 128)         0         \n",
      "                                                                 \n",
      " max_pooling2d_2 (MaxPooling  (None, 3, 3, 128)        0         \n",
      " 2D)                                                             \n",
      "                                                                 \n",
      " dropout_2 (Dropout)         (None, 3, 3, 128)         0         \n",
      "                                                                 \n",
      " conv2d_6 (Conv2D)           (None, 3, 3, 256)         819456    \n",
      "                                                                 \n",
      " batch_normalization_6 (Batc  (None, 3, 3, 256)        1024      \n",
      " hNormalization)                                                 \n",
      "                                                                 \n",
      " leaky_re_lu_6 (LeakyReLU)   (None, 3, 3, 256)         0         \n",
      "                                                                 \n",
      " conv2d_7 (Conv2D)           (None, 3, 3, 256)         1638656   \n",
      "                                                                 \n",
      " batch_normalization_7 (Batc  (None, 3, 3, 256)        1024      \n",
      " hNormalization)                                                 \n",
      "                                                                 \n",
      " leaky_re_lu_7 (LeakyReLU)   (None, 3, 3, 256)         0         \n",
      "                                                                 \n",
      " max_pooling2d_3 (MaxPooling  (None, 1, 1, 256)        0         \n",
      " 2D)                                                             \n",
      "                                                                 \n",
      " dropout_3 (Dropout)         (None, 1, 1, 256)         0         \n",
      "                                                                 \n",
      " flatten (Flatten)           (None, 256)               0         \n",
      "                                                                 \n",
      " my_dense (Dense)            (None, 256)               65792     \n",
      "                                                                 \n",
      " dropout_4 (Dropout)         (None, 256)               0         \n",
      "                                                                 \n",
      " dense (Dense)               (None, 128)               32896     \n",
      "                                                                 \n",
      " dropout_5 (Dropout)         (None, 128)               0         \n",
      "                                                                 \n",
      " dense_1 (Dense)             (None, 10)                1290      \n",
      "                                                                 \n",
      "=================================================================\n",
      "Total params: 3,241,578\n",
      "Trainable params: 3,239,658\n",
      "Non-trainable params: 1,920\n",
      "_________________________________________________________________\n"
     ]
    }
   ],
   "source": [
    "#CNN Model Building\n",
    "model = Sequential()\n",
    "# input: 28x28 images with 1 channels -> (28, 28, 1) tensors.\n",
    "#REason for having grey scale 1 channel\n",
    "# https://stackoverflow.com/questions/53044116/difference-between-grayscale-images-represented-by-3-channels-and-1-channel-in-c#:~:text=The%20information%20given%20by%20the,take%20more%20time%20to%20compute\n",
    "# this applies 32 convolution filters of size 3x3 each.\n",
    "# First two convolution layer has 32 Feature Maps\n",
    "model.add(Conv2D(32, (3, 3), activation='relu', input_shape=(28, 28, 1),padding='same'))\n",
    "model.add(BatchNormalization(momentum=0.9, epsilon=1e-5, gamma_initializer=\"uniform\"))\n",
    "model.add(LeakyReLU(alpha=0.1))\n",
    "model.add(Conv2D(32, (3, 3), activation='relu',padding='same'))\n",
    "model.add(BatchNormalization(momentum=0.9, epsilon=1e-5, gamma_initializer=\"uniform\"))\n",
    "model.add(LeakyReLU(alpha=0.1))\n",
    "model.add(MaxPooling2D(pool_size=(2, 2)))\n",
    "model.add(Dropout(0.25))\n",
    "\n",
    "# Subsequent two convolution layer has 64 Feature Maps\n",
    "model.add(Conv2D(64, (3, 3), activation='relu',padding='same'))\n",
    "model.add(BatchNormalization(momentum=0.9, epsilon=1e-5, gamma_initializer=\"uniform\"))\n",
    "model.add(LeakyReLU(alpha=0.1))\n",
    "model.add(Conv2D(64, (3, 3), activation='relu',padding='same'))\n",
    "model.add(BatchNormalization(momentum=0.9, epsilon=1e-5, gamma_initializer=\"uniform\"))\n",
    "model.add(LeakyReLU(alpha=0.1))\n",
    "model.add(MaxPooling2D(pool_size=(2, 2)))\n",
    "model.add(Dropout(0.25))\n",
    "\n",
    "# Next two convolution layer has 128 Feature Maps\n",
    "model.add(Conv2D(128, kernel_size=5, activation='relu',padding='same'))\n",
    "model.add(BatchNormalization(momentum=0.9, epsilon=1e-5, gamma_initializer=\"uniform\"))\n",
    "model.add(LeakyReLU(alpha=0.1))\n",
    "model.add(Conv2D(128, kernel_size=5, activation='relu',padding='same'))\n",
    "model.add(BatchNormalization(momentum=0.9, epsilon=1e-5, gamma_initializer=\"uniform\"))\n",
    "model.add(LeakyReLU(alpha=0.1))\n",
    "model.add(MaxPooling2D(pool_size=(2, 2)))\n",
    "model.add(Dropout(0.25))\n",
    "\n",
    "# Final two convolution layer has 128 Feature Maps\n",
    "model.add(Conv2D(256, kernel_size=5, activation='relu',padding='same'))\n",
    "model.add(BatchNormalization(momentum=0.9, epsilon=1e-5, gamma_initializer=\"uniform\"))\n",
    "model.add(LeakyReLU(alpha=0.1))\n",
    "model.add(Conv2D(256, kernel_size=5, activation='relu',padding='same'))\n",
    "model.add(BatchNormalization(momentum=0.9, epsilon=1e-5, gamma_initializer=\"uniform\"))\n",
    "model.add(LeakyReLU(alpha=0.1))\n",
    "model.add(MaxPooling2D(pool_size=(2, 2)))\n",
    "model.add(Dropout(0.25))\n",
    "\n",
    "\n",
    "model.add(Flatten())\n",
    "\n",
    "\n",
    "# Dense Layer\n",
    "#model = keras.applications.inception_v3.InceptionV3(weights= None, include_top=False, input_shape= (28,28,1))\n",
    "model.add(Dense(256, activation='relu', name='my_dense'))\n",
    "model.add(Dropout(0.5))\n",
    "model.add(Dense(128, activation='relu'))\n",
    "model.add(Dropout(0.5))\n",
    "model.add(Dense(10, activation='softmax'))\n",
    "\n",
    "#sgd = SGD(lr=0.01, decay=1e-6, momentum=0.9, nesterov=True)\n",
    "#model.compile(loss='categorical_crossentropy', optimizer=sgd)\n",
    "\n",
    "model.summary()"
   ]
  },
  {
   "cell_type": "markdown",
   "id": "e0b3e2df",
   "metadata": {},
   "source": [
    "#### <font color='blue'> 11. Creating Intermediate Layer </font>"
   ]
  },
  {
   "cell_type": "code",
   "execution_count": 21,
   "id": "b60cd20b",
   "metadata": {},
   "outputs": [
    {
     "name": "stdout",
     "output_type": "stream",
     "text": [
      "Model: \"model\"\n",
      "_________________________________________________________________\n",
      " Layer (type)                Output Shape              Param #   \n",
      "=================================================================\n",
      " conv2d_input (InputLayer)   [(None, 28, 28, 1)]       0         \n",
      "                                                                 \n",
      " conv2d (Conv2D)             (None, 28, 28, 32)        320       \n",
      "                                                                 \n",
      " batch_normalization (BatchN  (None, 28, 28, 32)       128       \n",
      " ormalization)                                                   \n",
      "                                                                 \n",
      " leaky_re_lu (LeakyReLU)     (None, 28, 28, 32)        0         \n",
      "                                                                 \n",
      " conv2d_1 (Conv2D)           (None, 28, 28, 32)        9248      \n",
      "                                                                 \n",
      " batch_normalization_1 (Batc  (None, 28, 28, 32)       128       \n",
      " hNormalization)                                                 \n",
      "                                                                 \n",
      " leaky_re_lu_1 (LeakyReLU)   (None, 28, 28, 32)        0         \n",
      "                                                                 \n",
      " max_pooling2d (MaxPooling2D  (None, 14, 14, 32)       0         \n",
      " )                                                               \n",
      "                                                                 \n",
      " dropout (Dropout)           (None, 14, 14, 32)        0         \n",
      "                                                                 \n",
      " conv2d_2 (Conv2D)           (None, 14, 14, 64)        18496     \n",
      "                                                                 \n",
      " batch_normalization_2 (Batc  (None, 14, 14, 64)       256       \n",
      " hNormalization)                                                 \n",
      "                                                                 \n",
      " leaky_re_lu_2 (LeakyReLU)   (None, 14, 14, 64)        0         \n",
      "                                                                 \n",
      " conv2d_3 (Conv2D)           (None, 14, 14, 64)        36928     \n",
      "                                                                 \n",
      " batch_normalization_3 (Batc  (None, 14, 14, 64)       256       \n",
      " hNormalization)                                                 \n",
      "                                                                 \n",
      " leaky_re_lu_3 (LeakyReLU)   (None, 14, 14, 64)        0         \n",
      "                                                                 \n",
      " max_pooling2d_1 (MaxPooling  (None, 7, 7, 64)         0         \n",
      " 2D)                                                             \n",
      "                                                                 \n",
      " dropout_1 (Dropout)         (None, 7, 7, 64)          0         \n",
      "                                                                 \n",
      " conv2d_4 (Conv2D)           (None, 7, 7, 128)         204928    \n",
      "                                                                 \n",
      " batch_normalization_4 (Batc  (None, 7, 7, 128)        512       \n",
      " hNormalization)                                                 \n",
      "                                                                 \n",
      " leaky_re_lu_4 (LeakyReLU)   (None, 7, 7, 128)         0         \n",
      "                                                                 \n",
      " conv2d_5 (Conv2D)           (None, 7, 7, 128)         409728    \n",
      "                                                                 \n",
      " batch_normalization_5 (Batc  (None, 7, 7, 128)        512       \n",
      " hNormalization)                                                 \n",
      "                                                                 \n",
      " leaky_re_lu_5 (LeakyReLU)   (None, 7, 7, 128)         0         \n",
      "                                                                 \n",
      " max_pooling2d_2 (MaxPooling  (None, 3, 3, 128)        0         \n",
      " 2D)                                                             \n",
      "                                                                 \n",
      " dropout_2 (Dropout)         (None, 3, 3, 128)         0         \n",
      "                                                                 \n",
      " conv2d_6 (Conv2D)           (None, 3, 3, 256)         819456    \n",
      "                                                                 \n",
      " batch_normalization_6 (Batc  (None, 3, 3, 256)        1024      \n",
      " hNormalization)                                                 \n",
      "                                                                 \n",
      " leaky_re_lu_6 (LeakyReLU)   (None, 3, 3, 256)         0         \n",
      "                                                                 \n",
      " conv2d_7 (Conv2D)           (None, 3, 3, 256)         1638656   \n",
      "                                                                 \n",
      " batch_normalization_7 (Batc  (None, 3, 3, 256)        1024      \n",
      " hNormalization)                                                 \n",
      "                                                                 \n",
      " leaky_re_lu_7 (LeakyReLU)   (None, 3, 3, 256)         0         \n",
      "                                                                 \n",
      " max_pooling2d_3 (MaxPooling  (None, 1, 1, 256)        0         \n",
      " 2D)                                                             \n",
      "                                                                 \n",
      " dropout_3 (Dropout)         (None, 1, 1, 256)         0         \n",
      "                                                                 \n",
      " flatten (Flatten)           (None, 256)               0         \n",
      "                                                                 \n",
      " my_dense (Dense)            (None, 256)               65792     \n",
      "                                                                 \n",
      "=================================================================\n",
      "Total params: 3,207,392\n",
      "Trainable params: 3,205,472\n",
      "Non-trainable params: 1,920\n",
      "_________________________________________________________________\n"
     ]
    }
   ],
   "source": [
    "#Crating a Intermediate Layer from the CNN's dense layer\n",
    "layer_name='my_dense'\n",
    "intermediate_layer_model = Model(inputs=model.input,\n",
    "                                 outputs=model.get_layer(layer_name).output)\n",
    "\n",
    "intermediate_layer_model.summary()"
   ]
  },
  {
   "cell_type": "markdown",
   "id": "5db1da83",
   "metadata": {},
   "source": [
    "#### <font color='blue'> 12. Data Augmentation </font>"
   ]
  },
  {
   "cell_type": "markdown",
   "id": "15b27c8a",
   "metadata": {},
   "source": [
    "The ImageDataGenerator class in Keras is used for implementing image augmentation. The major advantage of the Keras ImageDataGenerator class is its ability to produce real-time image augmentation. This simply means it can generate augmented images dynamically during the training of the model making the overall mode more robust and accurate."
   ]
  },
  {
   "cell_type": "code",
   "execution_count": 22,
   "id": "86be8d2e",
   "metadata": {},
   "outputs": [],
   "source": [
    "# Data Augmentation using keras\n",
    "datagen = ImageDataGenerator(\n",
    "    rotation_range=15,\n",
    "    width_shift_range=0.2,\n",
    "    height_shift_range=0.2,\n",
    "    shear_range = 15,\n",
    "    horizontal_flip = False,\n",
    "    zoom_range = 0.20)"
   ]
  },
  {
   "cell_type": "markdown",
   "id": "d489c108",
   "metadata": {},
   "source": [
    "#### <font color='blue'> 13. Optimisation </font>"
   ]
  },
  {
   "cell_type": "raw",
   "id": "9beb6633",
   "metadata": {},
   "source": [
    "#0ptimisation - Need to understand how the validation accuracy is compared here for feature extraction\n",
    "#from keras.optimizers import Adam, Adadelta, RMSprop\n",
    "\n",
    "#model.compile(loss='categorical_crossentropy',optimizer=Adam(),metrics=['accuracy'])\n",
    "intermediate_layer_model.compile(loss='categorical_crossentropy',optimizer=Adam(),metrics=['accuracy'])\n",
    "datagen.fit(train_image)\n",
    "\n",
    "# training\n",
    "history = intermediate_layer_model.fit_generator(datagen.flow(train_image,train_label, batch_size=32),\n",
    "                              epochs = 2, #epoch,batch_size can try with different values 50,100,\n",
    "                              shuffle=True,\n",
    "                              validation_data = (val_image,val_label),\n",
    "                              verbose = 1,\n",
    "                              steps_per_epoch=train_image.shape[0] // 32) #ned to change as per above"
   ]
  },
  {
   "cell_type": "code",
   "execution_count": null,
   "id": "d8f08fce",
   "metadata": {},
   "outputs": [],
   "source": []
  },
  {
   "cell_type": "code",
   "execution_count": 23,
   "id": "05d5c258",
   "metadata": {},
   "outputs": [
    {
     "name": "stdout",
     "output_type": "stream",
     "text": [
      "Epoch 1/100\n",
      "609/609 [==============================] - 173s 279ms/step - loss: 0.6660 - accuracy: 0.6498 - val_loss: 0.5549 - val_accuracy: 0.7225\n",
      "Epoch 2/100\n",
      "609/609 [==============================] - 172s 282ms/step - loss: 0.5935 - accuracy: 0.7015 - val_loss: 0.5647 - val_accuracy: 0.7085\n",
      "Epoch 3/100\n",
      "609/609 [==============================] - 168s 276ms/step - loss: 0.5842 - accuracy: 0.7037 - val_loss: 0.6311 - val_accuracy: 0.6759\n",
      "Epoch 4/100\n",
      "609/609 [==============================] - 167s 274ms/step - loss: 0.5752 - accuracy: 0.7117 - val_loss: 0.5603 - val_accuracy: 0.7376\n",
      "Epoch 5/100\n",
      "609/609 [==============================] - 167s 274ms/step - loss: 0.5706 - accuracy: 0.7210 - val_loss: 0.6328 - val_accuracy: 0.5182\n",
      "Epoch 6/100\n",
      "609/609 [==============================] - 166s 272ms/step - loss: 0.5645 - accuracy: 0.7253 - val_loss: 0.5482 - val_accuracy: 0.7368\n",
      "Epoch 7/100\n",
      "609/609 [==============================] - 166s 273ms/step - loss: 0.5614 - accuracy: 0.7275 - val_loss: 0.5160 - val_accuracy: 0.7646\n",
      "Epoch 8/100\n",
      "609/609 [==============================] - 167s 274ms/step - loss: 0.5544 - accuracy: 0.7370 - val_loss: 0.5835 - val_accuracy: 0.7069\n",
      "Epoch 9/100\n",
      "609/609 [==============================] - 166s 273ms/step - loss: 0.5490 - accuracy: 0.7381 - val_loss: 0.5411 - val_accuracy: 0.7365\n",
      "Epoch 10/100\n",
      "609/609 [==============================] - 167s 274ms/step - loss: 0.5397 - accuracy: 0.7441 - val_loss: 0.5004 - val_accuracy: 0.7752\n",
      "Epoch 11/100\n",
      "609/609 [==============================] - 167s 274ms/step - loss: 0.5388 - accuracy: 0.7452 - val_loss: 0.4941 - val_accuracy: 0.7781\n",
      "Epoch 12/100\n",
      "609/609 [==============================] - 167s 274ms/step - loss: 0.5321 - accuracy: 0.7479 - val_loss: 0.6021 - val_accuracy: 0.7327\n",
      "Epoch 13/100\n",
      "609/609 [==============================] - 167s 274ms/step - loss: 0.5254 - accuracy: 0.7542 - val_loss: 0.5336 - val_accuracy: 0.7398\n",
      "Epoch 14/100\n",
      "609/609 [==============================] - 166s 273ms/step - loss: 0.5238 - accuracy: 0.7595 - val_loss: 0.5955 - val_accuracy: 0.7159\n",
      "Epoch 15/100\n",
      "609/609 [==============================] - 167s 274ms/step - loss: 0.5232 - accuracy: 0.7570 - val_loss: 0.6209 - val_accuracy: 0.6737\n",
      "Epoch 16/100\n",
      "609/609 [==============================] - 166s 273ms/step - loss: 0.5169 - accuracy: 0.7651 - val_loss: 0.4848 - val_accuracy: 0.7795\n",
      "Epoch 17/100\n",
      "609/609 [==============================] - 167s 274ms/step - loss: 0.5172 - accuracy: 0.7596 - val_loss: 0.4887 - val_accuracy: 0.7796\n",
      "Epoch 18/100\n",
      "609/609 [==============================] - 166s 272ms/step - loss: 0.5145 - accuracy: 0.7642 - val_loss: 0.4759 - val_accuracy: 0.7893\n",
      "Epoch 19/100\n",
      "609/609 [==============================] - 166s 272ms/step - loss: 0.5097 - accuracy: 0.7691 - val_loss: 0.5262 - val_accuracy: 0.7722\n",
      "Epoch 20/100\n",
      "609/609 [==============================] - 164s 270ms/step - loss: 0.5089 - accuracy: 0.7691 - val_loss: 0.4608 - val_accuracy: 0.7968\n",
      "Epoch 21/100\n",
      "609/609 [==============================] - 164s 269ms/step - loss: 0.5068 - accuracy: 0.7668 - val_loss: 0.5333 - val_accuracy: 0.7446\n",
      "Epoch 22/100\n",
      "609/609 [==============================] - 165s 271ms/step - loss: 0.5053 - accuracy: 0.7703 - val_loss: 0.6214 - val_accuracy: 0.7184\n",
      "Epoch 23/100\n",
      "609/609 [==============================] - 164s 270ms/step - loss: 0.5083 - accuracy: 0.7646 - val_loss: 0.6233 - val_accuracy: 0.6601\n",
      "Epoch 24/100\n",
      "609/609 [==============================] - 164s 270ms/step - loss: 0.5021 - accuracy: 0.7720 - val_loss: 0.4971 - val_accuracy: 0.7793\n",
      "Epoch 25/100\n",
      "609/609 [==============================] - 165s 271ms/step - loss: 0.4980 - accuracy: 0.7727 - val_loss: 0.4990 - val_accuracy: 0.7748\n",
      "Epoch 26/100\n",
      "609/609 [==============================] - 165s 271ms/step - loss: 0.4998 - accuracy: 0.7753 - val_loss: 0.5059 - val_accuracy: 0.7650\n",
      "Epoch 27/100\n",
      "609/609 [==============================] - 241s 397ms/step - loss: 0.4960 - accuracy: 0.7756 - val_loss: 0.5138 - val_accuracy: 0.7672\n",
      "Epoch 28/100\n",
      "609/609 [==============================] - 167s 274ms/step - loss: 0.4940 - accuracy: 0.7744 - val_loss: 0.5152 - val_accuracy: 0.7698\n",
      "Epoch 29/100\n",
      "609/609 [==============================] - 166s 273ms/step - loss: 0.4955 - accuracy: 0.7734 - val_loss: 0.5053 - val_accuracy: 0.7878\n",
      "Epoch 30/100\n",
      "609/609 [==============================] - 165s 271ms/step - loss: 0.4923 - accuracy: 0.7815 - val_loss: 0.5282 - val_accuracy: 0.7736\n",
      "Epoch 31/100\n",
      "609/609 [==============================] - 165s 272ms/step - loss: 0.4924 - accuracy: 0.7794 - val_loss: 0.4705 - val_accuracy: 0.7891\n",
      "Epoch 32/100\n",
      "609/609 [==============================] - 166s 272ms/step - loss: 0.4888 - accuracy: 0.7816 - val_loss: 0.5392 - val_accuracy: 0.7737\n",
      "Epoch 33/100\n",
      "609/609 [==============================] - 165s 272ms/step - loss: 0.4867 - accuracy: 0.7807 - val_loss: 0.4791 - val_accuracy: 0.7818\n",
      "Epoch 34/100\n",
      "609/609 [==============================] - 165s 272ms/step - loss: 0.4857 - accuracy: 0.7832 - val_loss: 0.4451 - val_accuracy: 0.7996\n",
      "Epoch 35/100\n",
      "609/609 [==============================] - 165s 271ms/step - loss: 0.4796 - accuracy: 0.7871 - val_loss: 0.4780 - val_accuracy: 0.7947\n",
      "Epoch 36/100\n",
      "609/609 [==============================] - 164s 270ms/step - loss: 0.4829 - accuracy: 0.7821 - val_loss: 0.4687 - val_accuracy: 0.7858\n",
      "Epoch 37/100\n",
      "609/609 [==============================] - 164s 269ms/step - loss: 0.4814 - accuracy: 0.7860 - val_loss: 0.5493 - val_accuracy: 0.7566\n",
      "Epoch 38/100\n",
      "609/609 [==============================] - 164s 270ms/step - loss: 0.4786 - accuracy: 0.7881 - val_loss: 0.4416 - val_accuracy: 0.8048\n",
      "Epoch 39/100\n",
      "609/609 [==============================] - 165s 271ms/step - loss: 0.4812 - accuracy: 0.7834 - val_loss: 0.5630 - val_accuracy: 0.7806\n",
      "Epoch 40/100\n",
      "609/609 [==============================] - 165s 271ms/step - loss: 0.4771 - accuracy: 0.7896 - val_loss: 1.2469 - val_accuracy: 0.5668\n",
      "Epoch 41/100\n",
      "609/609 [==============================] - 165s 271ms/step - loss: 0.4771 - accuracy: 0.7888 - val_loss: 0.8119 - val_accuracy: 0.5500\n",
      "Epoch 42/100\n",
      "609/609 [==============================] - 165s 271ms/step - loss: 0.4750 - accuracy: 0.7889 - val_loss: 0.5412 - val_accuracy: 0.7601\n",
      "Epoch 43/100\n",
      "609/609 [==============================] - 165s 272ms/step - loss: 0.4729 - accuracy: 0.7888 - val_loss: 0.5686 - val_accuracy: 0.7737\n",
      "Epoch 44/100\n",
      "609/609 [==============================] - 165s 272ms/step - loss: 0.4720 - accuracy: 0.7936 - val_loss: 0.4631 - val_accuracy: 0.7963\n",
      "Epoch 45/100\n",
      "609/609 [==============================] - 165s 271ms/step - loss: 0.4732 - accuracy: 0.7874 - val_loss: 0.4443 - val_accuracy: 0.8071\n",
      "Epoch 46/100\n",
      "609/609 [==============================] - 165s 271ms/step - loss: 0.4758 - accuracy: 0.7881 - val_loss: 0.4511 - val_accuracy: 0.8018\n",
      "Epoch 47/100\n",
      "609/609 [==============================] - 165s 271ms/step - loss: 0.4692 - accuracy: 0.7922 - val_loss: 0.4636 - val_accuracy: 0.7897\n",
      "Epoch 48/100\n",
      "609/609 [==============================] - 164s 270ms/step - loss: 0.4695 - accuracy: 0.7914 - val_loss: 0.4924 - val_accuracy: 0.7825\n",
      "Epoch 49/100\n",
      "609/609 [==============================] - 164s 269ms/step - loss: 0.4688 - accuracy: 0.7930 - val_loss: 0.4579 - val_accuracy: 0.8027\n",
      "Epoch 50/100\n",
      "609/609 [==============================] - 165s 270ms/step - loss: 0.4647 - accuracy: 0.7915 - val_loss: 0.4891 - val_accuracy: 0.7928\n",
      "Epoch 51/100\n",
      "609/609 [==============================] - 166s 272ms/step - loss: 0.4632 - accuracy: 0.7913 - val_loss: 0.4898 - val_accuracy: 0.7770\n",
      "Epoch 52/100\n",
      "609/609 [==============================] - 168s 277ms/step - loss: 0.4634 - accuracy: 0.7977 - val_loss: 0.5138 - val_accuracy: 0.7655\n",
      "Epoch 53/100\n",
      "609/609 [==============================] - 167s 274ms/step - loss: 0.4591 - accuracy: 0.7975 - val_loss: 0.4362 - val_accuracy: 0.8169\n",
      "Epoch 54/100\n",
      "609/609 [==============================] - 166s 272ms/step - loss: 0.4635 - accuracy: 0.7976 - val_loss: 0.5425 - val_accuracy: 0.7800\n",
      "Epoch 55/100\n",
      "609/609 [==============================] - 166s 273ms/step - loss: 0.4613 - accuracy: 0.7946 - val_loss: 0.4649 - val_accuracy: 0.8047\n",
      "Epoch 56/100\n",
      "609/609 [==============================] - 166s 272ms/step - loss: 0.4626 - accuracy: 0.7953 - val_loss: 0.4556 - val_accuracy: 0.7988\n",
      "Epoch 57/100\n",
      "609/609 [==============================] - 165s 270ms/step - loss: 0.4685 - accuracy: 0.7910 - val_loss: 0.5704 - val_accuracy: 0.7720\n",
      "Epoch 58/100\n",
      "609/609 [==============================] - 165s 271ms/step - loss: 0.4608 - accuracy: 0.7948 - val_loss: 0.4688 - val_accuracy: 0.7926\n",
      "Epoch 59/100\n",
      "609/609 [==============================] - 164s 270ms/step - loss: 0.4601 - accuracy: 0.7953 - val_loss: 0.4768 - val_accuracy: 0.7867\n",
      "Epoch 60/100\n",
      "609/609 [==============================] - 163s 268ms/step - loss: 0.4611 - accuracy: 0.7924 - val_loss: 0.6606 - val_accuracy: 0.7645\n",
      "Epoch 61/100\n",
      "609/609 [==============================] - 165s 271ms/step - loss: 0.4573 - accuracy: 0.8004 - val_loss: 0.4804 - val_accuracy: 0.7918\n",
      "Epoch 62/100\n",
      "609/609 [==============================] - 164s 269ms/step - loss: 0.4560 - accuracy: 0.7963 - val_loss: 0.4480 - val_accuracy: 0.7995\n",
      "Epoch 63/100\n",
      "609/609 [==============================] - 235s 387ms/step - loss: 0.4544 - accuracy: 0.8009 - val_loss: 0.5428 - val_accuracy: 0.7781\n",
      "Epoch 64/100\n",
      "609/609 [==============================] - 167s 274ms/step - loss: 0.4582 - accuracy: 0.7992 - val_loss: 0.4928 - val_accuracy: 0.7860\n",
      "Epoch 65/100\n",
      "609/609 [==============================] - 168s 275ms/step - loss: 0.4532 - accuracy: 0.7977 - val_loss: 0.5875 - val_accuracy: 0.7621\n",
      "Epoch 66/100\n",
      "609/609 [==============================] - 165s 271ms/step - loss: 0.4523 - accuracy: 0.7985 - val_loss: 0.4302 - val_accuracy: 0.8124\n",
      "Epoch 67/100\n",
      "609/609 [==============================] - 165s 271ms/step - loss: 0.4564 - accuracy: 0.7991 - val_loss: 0.4385 - val_accuracy: 0.8111\n",
      "Epoch 68/100\n",
      "609/609 [==============================] - 166s 272ms/step - loss: 0.4493 - accuracy: 0.8030 - val_loss: 0.4453 - val_accuracy: 0.8004\n",
      "Epoch 69/100\n",
      "609/609 [==============================] - 166s 273ms/step - loss: 0.4490 - accuracy: 0.8035 - val_loss: 0.4513 - val_accuracy: 0.8072\n",
      "Epoch 70/100\n",
      "609/609 [==============================] - 166s 272ms/step - loss: 0.4511 - accuracy: 0.7988 - val_loss: 0.4667 - val_accuracy: 0.7893\n",
      "Epoch 71/100\n",
      "609/609 [==============================] - 165s 271ms/step - loss: 0.4490 - accuracy: 0.8012 - val_loss: 0.4349 - val_accuracy: 0.8089\n",
      "Epoch 72/100\n",
      "609/609 [==============================] - 165s 272ms/step - loss: 0.4472 - accuracy: 0.8027 - val_loss: 0.4666 - val_accuracy: 0.7933\n",
      "Epoch 73/100\n",
      "609/609 [==============================] - 165s 272ms/step - loss: 0.4503 - accuracy: 0.8024 - val_loss: 0.4411 - val_accuracy: 0.8054\n",
      "Epoch 74/100\n",
      "609/609 [==============================] - 166s 272ms/step - loss: 0.4491 - accuracy: 0.7988 - val_loss: 0.4346 - val_accuracy: 0.8129\n",
      "Epoch 75/100\n",
      "609/609 [==============================] - 126s 206ms/step - loss: 0.4457 - accuracy: 0.8023 - val_loss: 0.5386 - val_accuracy: 0.7773\n",
      "Epoch 76/100\n",
      "609/609 [==============================] - 93s 152ms/step - loss: 0.4469 - accuracy: 0.7988 - val_loss: 0.4807 - val_accuracy: 0.7950\n",
      "Epoch 77/100\n",
      "609/609 [==============================] - 92s 152ms/step - loss: 0.4413 - accuracy: 0.8059 - val_loss: 0.4731 - val_accuracy: 0.7953\n",
      "Epoch 78/100\n",
      "609/609 [==============================] - 92s 152ms/step - loss: 0.4443 - accuracy: 0.8049 - val_loss: 0.4291 - val_accuracy: 0.8099\n",
      "Epoch 79/100\n",
      "609/609 [==============================] - 93s 152ms/step - loss: 0.4476 - accuracy: 0.8050 - val_loss: 0.4764 - val_accuracy: 0.7991\n",
      "Epoch 80/100\n",
      "609/609 [==============================] - 93s 153ms/step - loss: 0.4549 - accuracy: 0.7990 - val_loss: 0.4107 - val_accuracy: 0.8243\n",
      "Epoch 81/100\n",
      "609/609 [==============================] - 93s 152ms/step - loss: 0.4405 - accuracy: 0.8039 - val_loss: 0.5139 - val_accuracy: 0.7835\n",
      "Epoch 82/100\n",
      "609/609 [==============================] - 93s 152ms/step - loss: 0.4382 - accuracy: 0.8089 - val_loss: 0.4607 - val_accuracy: 0.7975\n",
      "Epoch 83/100\n",
      "609/609 [==============================] - 93s 152ms/step - loss: 0.4396 - accuracy: 0.8081 - val_loss: 0.5547 - val_accuracy: 0.7798\n",
      "Epoch 84/100\n",
      "609/609 [==============================] - 92s 152ms/step - loss: 0.4460 - accuracy: 0.8054 - val_loss: 0.4732 - val_accuracy: 0.7962\n",
      "Epoch 85/100\n",
      "609/609 [==============================] - 92s 152ms/step - loss: 0.4362 - accuracy: 0.8075 - val_loss: 0.4287 - val_accuracy: 0.8094\n",
      "Epoch 86/100\n",
      "609/609 [==============================] - 93s 152ms/step - loss: 0.4402 - accuracy: 0.8079 - val_loss: 0.4336 - val_accuracy: 0.8122\n",
      "Epoch 87/100\n",
      "609/609 [==============================] - 93s 152ms/step - loss: 0.4387 - accuracy: 0.8079 - val_loss: 2.8391 - val_accuracy: 0.8033\n",
      "Epoch 88/100\n",
      "609/609 [==============================] - 93s 152ms/step - loss: 0.4382 - accuracy: 0.8073 - val_loss: 0.4205 - val_accuracy: 0.8166\n",
      "Epoch 89/100\n",
      "609/609 [==============================] - 93s 152ms/step - loss: 0.4358 - accuracy: 0.8094 - val_loss: 0.5213 - val_accuracy: 0.7460\n",
      "Epoch 90/100\n",
      "609/609 [==============================] - 92s 152ms/step - loss: 0.4369 - accuracy: 0.8087 - val_loss: 0.4123 - val_accuracy: 0.8214\n",
      "Epoch 91/100\n",
      "609/609 [==============================] - 92s 152ms/step - loss: 0.4384 - accuracy: 0.8113 - val_loss: 0.4661 - val_accuracy: 0.7812\n",
      "Epoch 92/100\n",
      "609/609 [==============================] - 93s 152ms/step - loss: 0.4323 - accuracy: 0.8145 - val_loss: 0.4149 - val_accuracy: 0.8241\n",
      "Epoch 93/100\n",
      "609/609 [==============================] - 93s 152ms/step - loss: 0.4340 - accuracy: 0.8122 - val_loss: 0.4186 - val_accuracy: 0.8182\n",
      "Epoch 94/100\n",
      "609/609 [==============================] - 93s 152ms/step - loss: 0.4345 - accuracy: 0.8097 - val_loss: 0.4292 - val_accuracy: 0.8152\n",
      "Epoch 95/100\n",
      "609/609 [==============================] - 92s 152ms/step - loss: 0.4301 - accuracy: 0.8119 - val_loss: 0.5167 - val_accuracy: 0.7813\n",
      "Epoch 96/100\n",
      "609/609 [==============================] - 92s 152ms/step - loss: 0.4327 - accuracy: 0.8111 - val_loss: 0.4537 - val_accuracy: 0.7993\n",
      "Epoch 97/100\n",
      "609/609 [==============================] - 92s 152ms/step - loss: 0.4314 - accuracy: 0.8095 - val_loss: 0.4066 - val_accuracy: 0.8286\n",
      "Epoch 98/100\n",
      "609/609 [==============================] - 93s 152ms/step - loss: 0.4303 - accuracy: 0.8116 - val_loss: 0.4190 - val_accuracy: 0.8243\n",
      "Epoch 99/100\n",
      "609/609 [==============================] - 92s 151ms/step - loss: 0.4332 - accuracy: 0.8107 - val_loss: 0.5053 - val_accuracy: 0.7776\n",
      "Epoch 100/100\n",
      "609/609 [==============================] - 92s 151ms/step - loss: 0.4262 - accuracy: 0.8118 - val_loss: 0.4656 - val_accuracy: 0.8109\n"
     ]
    }
   ],
   "source": [
    "#0ptimisation - Need to understand how the validation accuracy is compared here for feature extraction\n",
    "#from keras.optimizers import Adam, Adadelta, RMSprop\n",
    "\n",
    "#model.compile(loss='categorical_crossentropy',optimizer=Adam(),metrics=['accuracy'])\n",
    "model.compile(loss='categorical_crossentropy',optimizer=Adam(),metrics=['accuracy'])\n",
    "datagen.fit(train_image)\n",
    "\n",
    "epochs = 100\n",
    "\n",
    "# training\n",
    "history = model.fit_generator(datagen.flow(train_image,train_label, batch_size=32),\n",
    "                              epochs = epochs,#epoch,batch_size can try with different values 50,100,\n",
    "                              shuffle=True,\n",
    "                              validation_data = (val_image,val_label),\n",
    "                              verbose = 1,\n",
    "                              steps_per_epoch=train_image.shape[0] // 32) #ned to change as per above"
   ]
  },
  {
   "cell_type": "code",
   "execution_count": 24,
   "id": "ca51c0e0",
   "metadata": {},
   "outputs": [
    {
     "name": "stdout",
     "output_type": "stream",
     "text": [
      "610/610 [==============================] - 15s 24ms/step\n"
     ]
    },
    {
     "data": {
      "text/plain": [
       "(19493, 256)"
      ]
     },
     "execution_count": 24,
     "metadata": {},
     "output_type": "execute_result"
    }
   ],
   "source": [
    "##### Extract the train - intermediate output from CNN\n",
    "intermediate_output = intermediate_layer_model.predict(train_image) \n",
    "intermediate_output = pd.DataFrame(data=intermediate_output)\n",
    "intermediate_output.shape"
   ]
  },
  {
   "cell_type": "code",
   "execution_count": 25,
   "id": "9bde5307",
   "metadata": {},
   "outputs": [
    {
     "name": "stdout",
     "output_type": "stream",
     "text": [
      "(8003, 28, 28, 1)\n",
      "(8003, 10)\n"
     ]
    }
   ],
   "source": [
    "# check the shape of test dataset\n",
    "print(val_image.shape)\n",
    "print(val_label.shape)"
   ]
  },
  {
   "cell_type": "code",
   "execution_count": 36,
   "id": "8d47c969",
   "metadata": {},
   "outputs": [],
   "source": [
    "#reshape the dataset for XGBoost model building\n",
    "val_data = intermediate_output[11490:]"
   ]
  },
  {
   "cell_type": "code",
   "execution_count": 27,
   "id": "acd70a38",
   "metadata": {},
   "outputs": [
    {
     "name": "stdout",
     "output_type": "stream",
     "text": [
      "263/263 [==============================] - 6s 24ms/step\n"
     ]
    }
   ],
   "source": [
    "# Extract the test - intermediate output from CNN\n",
    "intermediate_test_output = intermediate_layer_model.predict(test_image)\n",
    "intermediate_test_output = pd.DataFrame(data=intermediate_test_output)"
   ]
  },
  {
   "cell_type": "markdown",
   "id": "38b37b85",
   "metadata": {},
   "source": [
    "#### <font color='blue'> 14. XGBooost model creation for intermediate values </font>"
   ]
  },
  {
   "cell_type": "code",
   "execution_count": 37,
   "id": "849eefbb",
   "metadata": {
    "scrolled": true
   },
   "outputs": [
    {
     "name": "stdout",
     "output_type": "stream",
     "text": [
      "(19493, 256)\n",
      "(19493,)\n",
      "(8003, 256)\n",
      "(8003,)\n"
     ]
    }
   ],
   "source": [
    "#printing shape of intermediate values\n",
    "print(intermediate_output.shape)\n",
    "print(train_label1.shape)\n",
    "print(val_data.shape)\n",
    "print(val_label1.shape)"
   ]
  },
  {
   "cell_type": "code",
   "execution_count": 35,
   "id": "030ccfde",
   "metadata": {},
   "outputs": [
    {
     "data": {
      "text/plain": [
       "11490"
      ]
     },
     "execution_count": 35,
     "metadata": {},
     "output_type": "execute_result"
    }
   ],
   "source": [
    "19493 - 8003\n"
   ]
  },
  {
   "cell_type": "code",
   "execution_count": 58,
   "id": "9d8358af",
   "metadata": {},
   "outputs": [
    {
     "name": "stdout",
     "output_type": "stream",
     "text": [
      "Accuracy: 54.54%\n"
     ]
    },
    {
     "data": {
      "text/plain": [
       "0.5454204673247532"
      ]
     },
     "execution_count": 58,
     "metadata": {},
     "output_type": "execute_result"
    }
   ],
   "source": [
    "# #XGBoost model creation & XGBoost evaluate predictions\n",
    "\n",
    "xgb_model = XGBClassifier()\n",
    "xgb_model.fit(intermediate_output, train_label1)\n",
    "# make predictions for test data\n",
    "y_pred = xgb_model.predict(val_data)\n",
    "predictions = [round(value) for value in y_pred]\n",
    "# evaluate predictions\n",
    "accuracy = accuracy_score(val_label1, predictions)\n",
    "print(\"Accuracy: %.2f%%\" % (accuracy * 100.0))\n",
    "#xgb_model.score(val_data, val_label1)"
   ]
  },
  {
   "cell_type": "code",
   "execution_count": 60,
   "id": "13f4638f",
   "metadata": {},
   "outputs": [
    {
     "data": {
      "text/plain": [
       "(8403,)"
      ]
     },
     "execution_count": 60,
     "metadata": {},
     "output_type": "execute_result"
    }
   ],
   "source": []
  },
  {
   "cell_type": "markdown",
   "id": "ab942369",
   "metadata": {},
   "source": [
    "Accuracy of XGBoost seems to be less, this could be due to less validation set, hence lets intorduce K-Fold cross validation to mitigate this issue and increase the accuracy of the model"
   ]
  },
  {
   "cell_type": "code",
   "execution_count": 39,
   "id": "36dc82f9",
   "metadata": {},
   "outputs": [],
   "source": [
    "submission_xgb = xgb_model.predict(intermediate_test_output)"
   ]
  },
  {
   "cell_type": "code",
   "execution_count": 40,
   "id": "66adb715",
   "metadata": {},
   "outputs": [],
   "source": [
    "#model = list()\n",
    "resample_xgb = list()\n",
    "precision_xgb = list()\n",
    "recall_xgb = list()\n",
    "F1score_xgb = list()\n",
    "AUCROC_xgb = list()"
   ]
  },
  {
   "cell_type": "code",
   "execution_count": 41,
   "id": "7e53a1a5",
   "metadata": {},
   "outputs": [],
   "source": [
    "def test_eval( y_test, y_pred, algo=None, sampling=None):\n",
    "    # Test set prediction\n",
    "    #y_prob=clf_model.predict_proba(X_test)\n",
    "    #y_pred=clf_model.predict(X_test)\n",
    "    \n",
    "    #print('Confusion Matrix')\n",
    "    print('='*60)\n",
    "    print('Classification Report')\n",
    "    print('='*60)\n",
    "    print(classification_report(y_test,y_pred),\"\\n\")\n",
    "    #print('AUC-ROC')\n",
    "    #print('='*60)\n",
    "    #print(roc_auc_score(y_test, y_prob[:,1]))\n",
    "          \n",
    "    #model.append(algo)\n",
    "    precision_xgb.append(precision_score(y_test, y_pred))\n",
    "    recall_xgb.append(recall_score(y_test, y_pred))\n",
    "    F1score_xgb.append(f1_score(y_test, y_pred))\n",
    "    #AUCROC.append(roc_auc_score(y_test, y_prob[:,1]))\n",
    "    #resample.append(sampling)"
   ]
  },
  {
   "cell_type": "code",
   "execution_count": 42,
   "id": "13dec3d2",
   "metadata": {},
   "outputs": [
    {
     "name": "stdout",
     "output_type": "stream",
     "text": [
      "============================================================\n",
      "Classification Report\n",
      "============================================================\n",
      "              precision    recall  f1-score   support\n",
      "\n",
      "         0.0       0.81      0.82      0.82      4224\n",
      "         1.0       0.82      0.81      0.81      4179\n",
      "\n",
      "    accuracy                           0.81      8403\n",
      "   macro avg       0.81      0.81      0.81      8403\n",
      "weighted avg       0.81      0.81      0.81      8403\n",
      " \n",
      "\n"
     ]
    }
   ],
   "source": [
    "test_eval(test_label, submission_xgb)"
   ]
  },
  {
   "cell_type": "markdown",
   "id": "ebca93c3",
   "metadata": {},
   "source": [
    "https://github.com/arpcode/SMOTE-ADA-BOOST-COBRA/blob/main/Notebooks/SmoteAdaBoostedCC.ipynb"
   ]
  },
  {
   "cell_type": "markdown",
   "id": "cc418531",
   "metadata": {},
   "source": [
    "#### <font color='blue'>  K-Fold Validation </font>"
   ]
  },
  {
   "cell_type": "code",
   "execution_count": 43,
   "id": "ec15c820",
   "metadata": {},
   "outputs": [],
   "source": [
    "#Importing required libraries\n",
    "from sklearn.datasets import load_breast_cancer\n",
    "import pandas as pd\n",
    "from sklearn.model_selection import KFold \n",
    "from sklearn.linear_model import LogisticRegression\n",
    "from sklearn.metrics import accuracy_score"
   ]
  },
  {
   "cell_type": "markdown",
   "id": "56ceef3d",
   "metadata": {},
   "source": [
    "#### Train Accuracy"
   ]
  },
  {
   "cell_type": "code",
   "execution_count": 46,
   "id": "de409efe",
   "metadata": {},
   "outputs": [
    {
     "name": "stdout",
     "output_type": "stream",
     "text": [
      "Accuracy: 82.88%\n"
     ]
    }
   ],
   "source": [
    "Train Accuracy\n",
    "# k-fold cross validation evaluation of xgboost model\n",
    "from numpy import loadtxt\n",
    "import xgboost\n",
    "from sklearn.model_selection import KFold\n",
    "from sklearn.model_selection import cross_val_score\n",
    "from sklearn.metrics import make_scorer, accuracy_score, precision_score, recall_score, f1_score \n",
    "from sklearn.model_selection import cross_validate\n",
    "\n",
    "scoring = {'accuracy' : make_scorer(accuracy_score), \n",
    "           'precision' : make_scorer(precision_score),\n",
    "           'recall' : make_scorer(recall_score), \n",
    "           'f1_score' : make_scorer(f1_score)}\n",
    "\n",
    "kfold = KFold(n_splits=10, random_state=7, shuffle=True)\n",
    "results = cross_val_score(xgb_model, intermediate_output, train_label1, cv=kfold)\n",
    "#Test_results = cross_val_score(xgb_model, intermediate_output, val_label1, cv=kfold)\n",
    "#cv_results = cross_validate(xgb_model, X, y, cv=kfold, scoring=accuracy, verbose=10)\n",
    "print(\"Accuracy: %.2f%%\" % (results.mean()*100))"
   ]
  },
  {
   "cell_type": "markdown",
   "id": "c89a0d8b",
   "metadata": {},
   "source": [
    "#### Test Accuracy"
   ]
  },
  {
   "cell_type": "code",
   "execution_count": 50,
   "id": "a3a8e285",
   "metadata": {},
   "outputs": [
    {
     "name": "stdout",
     "output_type": "stream",
     "text": [
      "Accuracy: 80.55%\n"
     ]
    }
   ],
   "source": [
    "Test Accuracy\n",
    "kfold = KFold(n_splits=10, random_state=7, shuffle=True)\n",
    "results = cross_val_score(xgb_model, intermediate_test_output, test_label, cv=kfold)\n",
    "#Test_results = cross_val_score(xgb_model, intermediate_output, val_label1, cv=kfold)\n",
    "#cv_results = cross_validate(xgb_model, X, y, cv=kfold, scoring=accuracy, verbose=10)\n",
    "print(\"Accuracy: %.2f%%\" % (results.mean()*100))"
   ]
  },
  {
   "cell_type": "code",
   "execution_count": 49,
   "id": "a638c5c2",
   "metadata": {},
   "outputs": [
    {
     "name": "stdout",
     "output_type": "stream",
     "text": [
      "(19493,)\n",
      "(8403,)\n",
      "(8003,)\n"
     ]
    }
   ],
   "source": [
    "print(train_label1.shape)\n",
    "print(test_label.shape)\n",
    "print(val_label1.shape)"
   ]
  },
  {
   "cell_type": "code",
   "execution_count": 61,
   "id": "a06d0c7e",
   "metadata": {},
   "outputs": [
    {
     "data": {
      "text/plain": [
       "{'objective': 'binary:logistic',\n",
       " 'base_score': 0.5,\n",
       " 'booster': 'gbtree',\n",
       " 'colsample_bylevel': 1,\n",
       " 'colsample_bynode': 1,\n",
       " 'colsample_bytree': 1,\n",
       " 'eval_metric': None,\n",
       " 'gamma': 0,\n",
       " 'gpu_id': -1,\n",
       " 'grow_policy': 'depthwise',\n",
       " 'interaction_constraints': '',\n",
       " 'learning_rate': 0.300000012,\n",
       " 'max_bin': 256,\n",
       " 'max_cat_to_onehot': 4,\n",
       " 'max_delta_step': 0,\n",
       " 'max_depth': 6,\n",
       " 'max_leaves': 0,\n",
       " 'min_child_weight': 1,\n",
       " 'monotone_constraints': '()',\n",
       " 'n_jobs': 0,\n",
       " 'num_parallel_tree': 1,\n",
       " 'predictor': 'auto',\n",
       " 'random_state': 0,\n",
       " 'reg_alpha': 0,\n",
       " 'reg_lambda': 1,\n",
       " 'sampling_method': 'uniform',\n",
       " 'scale_pos_weight': 1,\n",
       " 'subsample': 1,\n",
       " 'tree_method': 'exact',\n",
       " 'validate_parameters': 1,\n",
       " 'verbosity': None}"
      ]
     },
     "execution_count": 61,
     "metadata": {},
     "output_type": "execute_result"
    }
   ],
   "source": [
    "#Hyperparameters of XGB model\n",
    "xgb_model.get_xgb_params()"
   ]
  },
  {
   "cell_type": "markdown",
   "id": "d1ab928b",
   "metadata": {},
   "source": [
    "#### <font color='blue'> Ploting confusion matrix </font>"
   ]
  },
  {
   "cell_type": "code",
   "execution_count": 62,
   "id": "d0c78d59",
   "metadata": {},
   "outputs": [
    {
     "data": {
      "text/plain": [
       "array([[3462,  762],\n",
       "       [ 809, 3370]], dtype=int64)"
      ]
     },
     "execution_count": 62,
     "metadata": {},
     "output_type": "execute_result"
    }
   ],
   "source": [
    "from sklearn import metrics\n",
    "metrics.confusion_matrix(test_label, submission_xgb)"
   ]
  },
  {
   "cell_type": "code",
   "execution_count": null,
   "id": "70043ff9",
   "metadata": {},
   "outputs": [],
   "source": [
    "# TYPE-1 Error = False Positive = 4.66%  # predicted value is postive but it is false\n",
    "# TYPE-2 Error - False Negative = 10.39%  # predicted value is negative but it is true\n"
   ]
  },
  {
   "cell_type": "code",
   "execution_count": 68,
   "id": "4bf4395c",
   "metadata": {},
   "outputs": [
    {
     "data": {
      "text/plain": [
       "<AxesSubplot:>"
      ]
     },
     "execution_count": 68,
     "metadata": {},
     "output_type": "execute_result"
    },
    {
     "data": {
      "image/png": "[encoded data removed]",
      "text/plain": [
       "<Figure size 640x480 with 2 Axes>"
      ]
     },
     "metadata": {},
     "output_type": "display_data"
    }
   ],
   "source": [
    "group_names = ['True Pos','False Pos','False Neg','True Neg']\n",
    "group_counts = [\"{0:0.0f}\".format(value) for value in\n",
    "                confusion_matrix(test_label, submission_xgb).flatten()]\n",
    "group_percentages = [\"{0:.2%}\".format(value) for value in\n",
    "                     confusion_matrix(test_label, submission_xgb).flatten()/np.sum(confusion_matrix(test_label, submission_xgb))]\n",
    "labels = [f\"{v1}\\n{v2}\\n{v3}\" for v1, v2, v3 in\n",
    "          zip(group_names,group_counts,group_percentages)]\n",
    "labels = np.asarray(labels).reshape(2,2)\n",
    "sns.heatmap(confusion_matrix(test_label, submission_xgb),fmt='', cmap='Blues', annot=labels)"
   ]
  },
  {
   "cell_type": "code",
   "execution_count": null,
   "id": "f265cb78",
   "metadata": {},
   "outputs": [],
   "source": []
  }
 ],
 "metadata": {
  "kernelspec": {
   "display_name": "Python 3 (ipykernel)",
   "language": "python",
   "name": "python3"
  },
  "language_info": {
   "codemirror_mode": {
    "name": "ipython",
    "version": 3
   },
   "file_extension": ".py",
   "mimetype": "text/x-python",
   "name": "python",
   "nbconvert_exporter": "python",
   "pygments_lexer": "ipython3",
   "version": "3.9.13"
  }
 },
 "nbformat": 4,
 "nbformat_minor": 5
}
