{
 "cells": [
  {
   "cell_type": "markdown",
   "id": "8c2ca69f",
   "metadata": {},
   "source": [
    "## <font color=\"Blue\">Phishing URL Detection - ConvXGB Model</font>"
   ]
  },
  {
   "cell_type": "markdown",
   "id": "93fbed47",
   "metadata": {},
   "source": [
    "<b>GOAL:</b> This study employs new deep learning algorithm named \"ConvXGB\" to the field of cybersecurity in detecting phishing URL.</br>\n",
    "<b>Author :</b> Saravanan Muthuramalingam </br>\n",
    "<b>Purpose of this notebook :</b> This Notebook handles the following,\n",
    "    <li> Hyperparamter Tuning </li>\n",
    "    <li> EPOCH = 75 </li>\n",
    "    <li> Dropout = 0.5 </li>\n",
    "    "
   ]
  },
  {
   "cell_type": "code",
   "execution_count": 70,
   "id": "38e771f2",
   "metadata": {},
   "outputs": [],
   "source": [
    "# import all required python libraries\n",
    "#-------------------------------------#\n",
    "# Statistics Libraries\n",
    "import numpy as np\n",
    "\n",
    "# Dataset related Libraires\n",
    "import pandas as pd \n",
    "import csv\n",
    "\n",
    "# Data Visualization Libraries\n",
    "import seaborn as sns\n",
    "import matplotlib.pyplot as plt\n",
    "\n",
    "# URL Parsing Libraries\n",
    "import urllib.parse\n",
    "from urllib.parse import urlparse\n",
    "from urllib.parse import urlsplit\n",
    "from urlpath import URL\n",
    "\n",
    "# OS and regular expression Libraries\n",
    "import re\n",
    "import glob\n",
    "import os\n",
    "\n",
    "# Image processing related Libraries\n",
    "from PIL import Image\n",
    "import cv2\n",
    "import skimage.measure\n",
    "import imghdr\n",
    "\n",
    "# Image validation related Libraries\n",
    "from difPy import dif\n",
    "from sklearn.preprocessing import OneHotEncoder\n",
    "\n",
    "# To Build CNN in Keras \n",
    "import keras\n",
    "from keras.models import Sequential\n",
    "from keras.layers import Dense, Dropout, Flatten\n",
    "from keras.layers import Conv2D, MaxPooling2D\n",
    "from keras.optimizers import SGD\n",
    "#from keras.layers.normalization import BatchNormalization\n",
    "from tensorflow.keras.layers import BatchNormalization\n",
    "from keras.layers import LeakyReLU\n",
    "from keras.models import Model\n",
    "from keras.preprocessing.image import ImageDataGenerator\n",
    "from keras.optimizers import Adam, Adadelta, RMSprop\n",
    "\n",
    "# XGBoost classification algorithm\n",
    "from xgboost import XGBClassifier\n",
    "\n",
    "# Perforrmance evaluation Librraries\n",
    "from sklearn.metrics import confusion_matrix, roc_auc_score, roc_curve, classification_report, precision_recall_curve\n",
    "from sklearn.metrics import accuracy_score, f1_score, precision_score, recall_score\n"
   ]
  },
  {
   "cell_type": "markdown",
   "id": "7a5c22c8",
   "metadata": {},
   "source": [
    "#### <font color='blue'>7. Splitting Train/Test Data</font>"
   ]
  },
  {
   "cell_type": "code",
   "execution_count": 71,
   "id": "667dcd92",
   "metadata": {},
   "outputs": [],
   "source": [
    "#spliting test and train\n",
    "#80% of the datasets is reserved for training the model\n",
    "raw_df = pd.read_csv(r'C:\\Users\\msara\\Desktop\\dataset\\preprocessed_data.csv')\n",
    "#raw_df = raw_df.drop(columns=['protocol'])\n",
    "raw_df['split'] = np.random.randn(raw_df.shape[0], 1)\n",
    "\n",
    "#msk = np.random.rand(len(raw_df)) <= 0.8\n",
    "\n",
    "#train = raw_df[msk]\n",
    "#test = raw_df[~msk]"
   ]
  },
  {
   "cell_type": "code",
   "execution_count": 72,
   "id": "fb37186e",
   "metadata": {},
   "outputs": [],
   "source": [
    "y = raw_df.pop('result')\n",
    "\n",
    "X = raw_df"
   ]
  },
  {
   "cell_type": "code",
   "execution_count": 73,
   "id": "0c8a65f2",
   "metadata": {},
   "outputs": [
    {
     "data": {
      "text/plain": [
       "Text(0.5, 1.0, 'Phishing vs Legitmate count')"
      ]
     },
     "execution_count": 73,
     "metadata": {},
     "output_type": "execute_result"
    },
    {
     "data": {
      "image/png": "[encoded data removed]",
      "text/plain": [
       "<Figure size 640x480 with 1 Axes>"
      ]
     },
     "metadata": {},
     "output_type": "display_data"
    }
   ],
   "source": [
    "#before class imablance\n",
    "y.value_counts().plot.bar()\n",
    "plt.title(\"Phishing vs Legitmate count\")"
   ]
  },
  {
   "cell_type": "code",
   "execution_count": 74,
   "id": "38727bb9",
   "metadata": {},
   "outputs": [
    {
     "data": {
      "text/plain": [
       "0    13948\n",
       "1     3735\n",
       "Name: result, dtype: int64"
      ]
     },
     "execution_count": 74,
     "metadata": {},
     "output_type": "execute_result"
    }
   ],
   "source": [
    "y.value_counts()"
   ]
  },
  {
   "cell_type": "code",
   "execution_count": 75,
   "id": "c9e80fd4",
   "metadata": {},
   "outputs": [
    {
     "name": "stdout",
     "output_type": "stream",
     "text": [
      "class 0: 78.24868183941801 %\n",
      "class 1: 21.75131816058199\n"
     ]
    }
   ],
   "source": [
    "print(\"class 0:\",11724 *100/(11724+3259),\"%\")\n",
    "print(\"class 1:\",3259* 100/(11724+3259))"
   ]
  },
  {
   "cell_type": "code",
   "execution_count": 76,
   "id": "75564749",
   "metadata": {},
   "outputs": [
    {
     "name": "stdout",
     "output_type": "stream",
     "text": [
      "(17683, 786)\n",
      "(17683,)\n"
     ]
    }
   ],
   "source": [
    "print(X.shape)\n",
    "print(y.shape)"
   ]
  },
  {
   "cell_type": "markdown",
   "id": "543d279e",
   "metadata": {},
   "source": [
    "#### Handling Class Imbalance"
   ]
  },
  {
   "cell_type": "code",
   "execution_count": 77,
   "id": "f45d900d",
   "metadata": {},
   "outputs": [],
   "source": [
    "#classs imabalance\n",
    "from imblearn.over_sampling import SMOTE\n",
    "sm = SMOTE(random_state=42)\n",
    "X_res, y_res = sm.fit_resample(X, y)"
   ]
  },
  {
   "cell_type": "code",
   "execution_count": 78,
   "id": "20035483",
   "metadata": {},
   "outputs": [
    {
     "name": "stdout",
     "output_type": "stream",
     "text": [
      "(27896, 786)\n",
      "(27896,)\n"
     ]
    }
   ],
   "source": [
    "#Oversampling results\n",
    "print(X_res.shape)\n",
    "print(y_res.shape)"
   ]
  },
  {
   "cell_type": "code",
   "execution_count": 79,
   "id": "5a62d2d8",
   "metadata": {},
   "outputs": [],
   "source": [
    "new_df = pd.concat([X_res,y_res],axis=1)"
   ]
  },
  {
   "cell_type": "code",
   "execution_count": 80,
   "id": "2694edc4",
   "metadata": {},
   "outputs": [
    {
     "data": {
      "text/html": [
       "<div>\n",
       "<style scoped>\n",
       "    .dataframe tbody tr th:only-of-type {\n",
       "        vertical-align: middle;\n",
       "    }\n",
       "\n",
       "    .dataframe tbody tr th {\n",
       "        vertical-align: top;\n",
       "    }\n",
       "\n",
       "    .dataframe thead th {\n",
       "        text-align: right;\n",
       "    }\n",
       "</style>\n",
       "<table border=\"1\" class=\"dataframe\">\n",
       "  <thead>\n",
       "    <tr style=\"text-align: right;\">\n",
       "      <th></th>\n",
       "      <th>Unnamed: 0</th>\n",
       "      <th>pixel2</th>\n",
       "      <th>pixel3</th>\n",
       "      <th>pixel4</th>\n",
       "      <th>pixel5</th>\n",
       "      <th>pixel6</th>\n",
       "      <th>pixel7</th>\n",
       "      <th>pixel8</th>\n",
       "      <th>pixel9</th>\n",
       "      <th>pixel10</th>\n",
       "      <th>...</th>\n",
       "      <th>pixel778</th>\n",
       "      <th>pixel779</th>\n",
       "      <th>pixel780</th>\n",
       "      <th>pixel781</th>\n",
       "      <th>pixel782</th>\n",
       "      <th>pixel783</th>\n",
       "      <th>pixel784</th>\n",
       "      <th>pixel785</th>\n",
       "      <th>split</th>\n",
       "      <th>result</th>\n",
       "    </tr>\n",
       "  </thead>\n",
       "  <tbody>\n",
       "    <tr>\n",
       "      <th>0</th>\n",
       "      <td>0</td>\n",
       "      <td>161.0</td>\n",
       "      <td>161.0</td>\n",
       "      <td>161.0</td>\n",
       "      <td>161.0</td>\n",
       "      <td>161.0</td>\n",
       "      <td>161.0</td>\n",
       "      <td>161.0</td>\n",
       "      <td>161.0</td>\n",
       "      <td>161.0</td>\n",
       "      <td>...</td>\n",
       "      <td>85.0</td>\n",
       "      <td>151.0</td>\n",
       "      <td>155.0</td>\n",
       "      <td>94.0</td>\n",
       "      <td>65.0</td>\n",
       "      <td>69.0</td>\n",
       "      <td>68.0</td>\n",
       "      <td>68.0</td>\n",
       "      <td>-0.975857</td>\n",
       "      <td>0</td>\n",
       "    </tr>\n",
       "    <tr>\n",
       "      <th>1</th>\n",
       "      <td>1</td>\n",
       "      <td>253.0</td>\n",
       "      <td>253.0</td>\n",
       "      <td>253.0</td>\n",
       "      <td>252.0</td>\n",
       "      <td>253.0</td>\n",
       "      <td>223.0</td>\n",
       "      <td>204.0</td>\n",
       "      <td>206.0</td>\n",
       "      <td>201.0</td>\n",
       "      <td>...</td>\n",
       "      <td>4.0</td>\n",
       "      <td>2.0</td>\n",
       "      <td>3.0</td>\n",
       "      <td>4.0</td>\n",
       "      <td>4.0</td>\n",
       "      <td>4.0</td>\n",
       "      <td>4.0</td>\n",
       "      <td>4.0</td>\n",
       "      <td>-0.554819</td>\n",
       "      <td>0</td>\n",
       "    </tr>\n",
       "    <tr>\n",
       "      <th>2</th>\n",
       "      <td>2</td>\n",
       "      <td>100.0</td>\n",
       "      <td>106.0</td>\n",
       "      <td>106.0</td>\n",
       "      <td>102.0</td>\n",
       "      <td>102.0</td>\n",
       "      <td>101.0</td>\n",
       "      <td>117.0</td>\n",
       "      <td>109.0</td>\n",
       "      <td>104.0</td>\n",
       "      <td>...</td>\n",
       "      <td>192.0</td>\n",
       "      <td>192.0</td>\n",
       "      <td>65.0</td>\n",
       "      <td>37.0</td>\n",
       "      <td>46.0</td>\n",
       "      <td>44.0</td>\n",
       "      <td>44.0</td>\n",
       "      <td>39.0</td>\n",
       "      <td>-0.973488</td>\n",
       "      <td>0</td>\n",
       "    </tr>\n",
       "    <tr>\n",
       "      <th>3</th>\n",
       "      <td>3</td>\n",
       "      <td>229.0</td>\n",
       "      <td>224.0</td>\n",
       "      <td>249.0</td>\n",
       "      <td>238.0</td>\n",
       "      <td>229.0</td>\n",
       "      <td>236.0</td>\n",
       "      <td>235.0</td>\n",
       "      <td>244.0</td>\n",
       "      <td>248.0</td>\n",
       "      <td>...</td>\n",
       "      <td>247.0</td>\n",
       "      <td>246.0</td>\n",
       "      <td>241.0</td>\n",
       "      <td>240.0</td>\n",
       "      <td>240.0</td>\n",
       "      <td>237.0</td>\n",
       "      <td>239.0</td>\n",
       "      <td>244.0</td>\n",
       "      <td>-0.464725</td>\n",
       "      <td>0</td>\n",
       "    </tr>\n",
       "    <tr>\n",
       "      <th>4</th>\n",
       "      <td>4</td>\n",
       "      <td>234.0</td>\n",
       "      <td>234.0</td>\n",
       "      <td>230.0</td>\n",
       "      <td>233.0</td>\n",
       "      <td>230.0</td>\n",
       "      <td>218.0</td>\n",
       "      <td>222.0</td>\n",
       "      <td>232.0</td>\n",
       "      <td>233.0</td>\n",
       "      <td>...</td>\n",
       "      <td>48.0</td>\n",
       "      <td>49.0</td>\n",
       "      <td>45.0</td>\n",
       "      <td>38.0</td>\n",
       "      <td>39.0</td>\n",
       "      <td>39.0</td>\n",
       "      <td>39.0</td>\n",
       "      <td>39.0</td>\n",
       "      <td>1.461139</td>\n",
       "      <td>0</td>\n",
       "    </tr>\n",
       "  </tbody>\n",
       "</table>\n",
       "<p>5 rows × 787 columns</p>\n",
       "</div>"
      ],
      "text/plain": [
       "   Unnamed: 0  pixel2  pixel3  pixel4  pixel5  pixel6  pixel7  pixel8  pixel9  \\\n",
       "0           0   161.0   161.0   161.0   161.0   161.0   161.0   161.0   161.0   \n",
       "1           1   253.0   253.0   253.0   252.0   253.0   223.0   204.0   206.0   \n",
       "2           2   100.0   106.0   106.0   102.0   102.0   101.0   117.0   109.0   \n",
       "3           3   229.0   224.0   249.0   238.0   229.0   236.0   235.0   244.0   \n",
       "4           4   234.0   234.0   230.0   233.0   230.0   218.0   222.0   232.0   \n",
       "\n",
       "   pixel10  ...  pixel778  pixel779  pixel780  pixel781  pixel782  pixel783  \\\n",
       "0    161.0  ...      85.0     151.0     155.0      94.0      65.0      69.0   \n",
       "1    201.0  ...       4.0       2.0       3.0       4.0       4.0       4.0   \n",
       "2    104.0  ...     192.0     192.0      65.0      37.0      46.0      44.0   \n",
       "3    248.0  ...     247.0     246.0     241.0     240.0     240.0     237.0   \n",
       "4    233.0  ...      48.0      49.0      45.0      38.0      39.0      39.0   \n",
       "\n",
       "   pixel784  pixel785     split  result  \n",
       "0      68.0      68.0 -0.975857       0  \n",
       "1       4.0       4.0 -0.554819       0  \n",
       "2      44.0      39.0 -0.973488       0  \n",
       "3     239.0     244.0 -0.464725       0  \n",
       "4      39.0      39.0  1.461139       0  \n",
       "\n",
       "[5 rows x 787 columns]"
      ]
     },
     "execution_count": 80,
     "metadata": {},
     "output_type": "execute_result"
    }
   ],
   "source": [
    "new_df.head(5)"
   ]
  },
  {
   "cell_type": "code",
   "execution_count": 81,
   "id": "9ee620d4",
   "metadata": {},
   "outputs": [
    {
     "data": {
      "text/plain": [
       "<AxesSubplot:>"
      ]
     },
     "execution_count": 81,
     "metadata": {},
     "output_type": "execute_result"
    },
    {
     "data": {
      "image/png": "[encoded data removed]",
      "text/plain": [
       "<Figure size 640x480 with 1 Axes>"
      ]
     },
     "metadata": {},
     "output_type": "display_data"
    }
   ],
   "source": [
    "#after class imablance\n",
    "y_res.value_counts().plot.bar()"
   ]
  },
  {
   "cell_type": "code",
   "execution_count": 82,
   "id": "e365a1c3",
   "metadata": {},
   "outputs": [
    {
     "data": {
      "text/plain": [
       "(27896, 785)"
      ]
     },
     "execution_count": 82,
     "metadata": {},
     "output_type": "execute_result"
    }
   ],
   "source": [
    "raw_df = new_df.copy()\n",
    "raw_df = raw_df.drop(['Unnamed: 0', 'split'],axis=1)\n",
    "raw_df.shape"
   ]
  },
  {
   "cell_type": "markdown",
   "id": "0623c254",
   "metadata": {},
   "source": [
    "#### <font color='blue'>9. Train/Test Data Pre-processing</font>"
   ]
  },
  {
   "cell_type": "code",
   "execution_count": 83,
   "id": "30e35d8b",
   "metadata": {},
   "outputs": [],
   "source": [
    "# Removing unwanted columns from train dataset\n",
    "#train = train.drop(['Unnamed: 0', 'protocol','split'],axis=1)\n",
    "#print(\"Train_data shape:\", train.shape)\n",
    "\n",
    "# Removing unwanted columns from test dataset\n",
    "#test = test.drop(['Unnamed: 0', 'protocol', 'split'],axis=1)\n",
    "#print(\"Test_data shape:\", test.shape)"
   ]
  },
  {
   "cell_type": "code",
   "execution_count": 84,
   "id": "ad47a71d",
   "metadata": {},
   "outputs": [],
   "source": [
    "msk = np.random.rand(len(raw_df)) <= 0.7\n",
    "\n",
    "train = raw_df[msk]\n",
    "test = raw_df[~msk]"
   ]
  },
  {
   "cell_type": "code",
   "execution_count": 85,
   "id": "5790b130",
   "metadata": {},
   "outputs": [
    {
     "name": "stdout",
     "output_type": "stream",
     "text": [
      "(19518, 785)\n",
      "(8378, 785)\n"
     ]
    }
   ],
   "source": [
    "print(train.shape)\n",
    "print(test.shape)"
   ]
  },
  {
   "cell_type": "code",
   "execution_count": 86,
   "id": "8c3ef086",
   "metadata": {},
   "outputs": [
    {
     "name": "stdout",
     "output_type": "stream",
     "text": [
      "train shape: (19518, 785)\n",
      "val shape: (7978, 785)\n",
      "train_label shape: (19518,)\n",
      "val_label shape: (7978,)\n",
      "train_image shape: (19518, 784)\n",
      "val_image shape: (7978, 784)\n",
      "test_image shape: (8378, 784)\n",
      "test_label shape: (8378,)\n"
     ]
    }
   ],
   "source": [
    "#converting the data to appropripate shapes using numpy\n",
    "train_data = train[:]\n",
    "val_data = test[400:]\n",
    "train_label = np.float32(train_data.result)\n",
    "val_label = np.float32(val_data.result)\n",
    "train_image = np.float32(train_data[train_data.columns[1:]])\n",
    "val_image = np.float32(val_data[val_data.columns[1:]])\n",
    "test_image = np.float32(test[test.columns[1:]])\n",
    "test_label = np.float32(test.result)\n",
    "print('train shape: %s'%str(train_data.shape))\n",
    "print('val shape: %s'%str(val_data.shape))\n",
    "print('train_label shape: %s'%str(train_label.shape))\n",
    "print('val_label shape: %s'%str(val_label.shape))\n",
    "print('train_image shape: %s'%str(train_image.shape))\n",
    "print('val_image shape: %s'%str(val_image.shape))\n",
    "print('test_image shape: %s'%str(test_image.shape))\n",
    "print('test_label shape: %s'%str(test_label.shape))"
   ]
  },
  {
   "cell_type": "code",
   "execution_count": 87,
   "id": "29b95873",
   "metadata": {},
   "outputs": [
    {
     "name": "stdout",
     "output_type": "stream",
     "text": [
      "(19518, 784)\n",
      "(19518, 784)\n",
      "train_image shape: (19518, 28, 28, 1)\n",
      "train_image shape: (19518, 28, 28, 1)\n",
      "val_image shape: (7978, 28, 28, 1)\n",
      "(7978,)\n"
     ]
    }
   ],
   "source": [
    "\n",
    "\n",
    "plt.show()\n",
    "print(train_image.shape)\n",
    "\n",
    "train_image = train_image/255.0\n",
    "val_image = val_image/255.0\n",
    "test_image = test_image/255.0\n",
    "\n",
    "print(train_image.shape)\n",
    "\n",
    "#28 x 28 = 784\n",
    "train_image = train_image.reshape(train_image.shape[0],28,28,1)\n",
    "val_image = val_image.reshape(val_image.shape[0],28,28,1)\n",
    "test_image = test_image.reshape(test_image.shape[0],28,28,1)\n",
    "\n",
    "\n",
    "print('train_image shape: %s'%str(train_image.shape))\n",
    "\n",
    "print('train_image shape: %s'%str(train_image.shape))\n",
    "print('val_image shape: %s'%str(val_image.shape))\n",
    "\n",
    "train_label1 = train_label\n",
    "val_label1 = val_label\n",
    "print(val_label1.shape)"
   ]
  },
  {
   "cell_type": "markdown",
   "id": "5a2f8802",
   "metadata": {},
   "source": [
    "#### <font color='blue'>10. One Hot Encoding</font>"
   ]
  },
  {
   "cell_type": "code",
   "execution_count": 88,
   "id": "8e8c379b",
   "metadata": {},
   "outputs": [
    {
     "name": "stdout",
     "output_type": "stream",
     "text": [
      "train_label shape: (19518, 10)\n",
      "val_label shape: (7978, 10)\n"
     ]
    }
   ],
   "source": [
    "#onehot encoding\n",
    "encoder = OneHotEncoder(sparse=False,categories='auto')\n",
    "yy = [[0],[1],[2],[3],[4],[5],[6],[7],[8],[9]]\n",
    "encoder.fit(yy)\n",
    "# transform\n",
    "train_label = train_label.reshape(-1,1)\n",
    "val_label = val_label.reshape(-1,1)\n",
    "\n",
    "train_label = encoder.transform(train_label)\n",
    "val_label = encoder.transform(val_label)\n",
    "\n",
    "print('train_label shape: %s'%str(train_label.shape))\n",
    "print('val_label shape: %s'%str(val_label.shape))"
   ]
  },
  {
   "cell_type": "markdown",
   "id": "a4877b91",
   "metadata": {
    "scrolled": true
   },
   "source": [
    "#### <font color='blue'> 11. CNN Model Building </font>"
   ]
  },
  {
   "cell_type": "code",
   "execution_count": 89,
   "id": "9751ccc4",
   "metadata": {},
   "outputs": [
    {
     "name": "stdout",
     "output_type": "stream",
     "text": [
      "Model: \"sequential_1\"\n",
      "_________________________________________________________________\n",
      " Layer (type)                Output Shape              Param #   \n",
      "=================================================================\n",
      " conv2d_8 (Conv2D)           (None, 28, 28, 32)        320       \n",
      "                                                                 \n",
      " batch_normalization_8 (Batc  (None, 28, 28, 32)       128       \n",
      " hNormalization)                                                 \n",
      "                                                                 \n",
      " leaky_re_lu_8 (LeakyReLU)   (None, 28, 28, 32)        0         \n",
      "                                                                 \n",
      " conv2d_9 (Conv2D)           (None, 28, 28, 32)        9248      \n",
      "                                                                 \n",
      " batch_normalization_9 (Batc  (None, 28, 28, 32)       128       \n",
      " hNormalization)                                                 \n",
      "                                                                 \n",
      " leaky_re_lu_9 (LeakyReLU)   (None, 28, 28, 32)        0         \n",
      "                                                                 \n",
      " max_pooling2d_4 (MaxPooling  (None, 14, 14, 32)       0         \n",
      " 2D)                                                             \n",
      "                                                                 \n",
      " dropout_6 (Dropout)         (None, 14, 14, 32)        0         \n",
      "                                                                 \n",
      " conv2d_10 (Conv2D)          (None, 14, 14, 64)        18496     \n",
      "                                                                 \n",
      " batch_normalization_10 (Bat  (None, 14, 14, 64)       256       \n",
      " chNormalization)                                                \n",
      "                                                                 \n",
      " leaky_re_lu_10 (LeakyReLU)  (None, 14, 14, 64)        0         \n",
      "                                                                 \n",
      " conv2d_11 (Conv2D)          (None, 14, 14, 64)        36928     \n",
      "                                                                 \n",
      " batch_normalization_11 (Bat  (None, 14, 14, 64)       256       \n",
      " chNormalization)                                                \n",
      "                                                                 \n",
      " leaky_re_lu_11 (LeakyReLU)  (None, 14, 14, 64)        0         \n",
      "                                                                 \n",
      " max_pooling2d_5 (MaxPooling  (None, 7, 7, 64)         0         \n",
      " 2D)                                                             \n",
      "                                                                 \n",
      " dropout_7 (Dropout)         (None, 7, 7, 64)          0         \n",
      "                                                                 \n",
      " conv2d_12 (Conv2D)          (None, 7, 7, 128)         204928    \n",
      "                                                                 \n",
      " batch_normalization_12 (Bat  (None, 7, 7, 128)        512       \n",
      " chNormalization)                                                \n",
      "                                                                 \n",
      " leaky_re_lu_12 (LeakyReLU)  (None, 7, 7, 128)         0         \n",
      "                                                                 \n",
      " conv2d_13 (Conv2D)          (None, 7, 7, 128)         409728    \n",
      "                                                                 \n",
      " batch_normalization_13 (Bat  (None, 7, 7, 128)        512       \n",
      " chNormalization)                                                \n",
      "                                                                 \n",
      " leaky_re_lu_13 (LeakyReLU)  (None, 7, 7, 128)         0         \n",
      "                                                                 \n",
      " max_pooling2d_6 (MaxPooling  (None, 3, 3, 128)        0         \n",
      " 2D)                                                             \n",
      "                                                                 \n",
      " dropout_8 (Dropout)         (None, 3, 3, 128)         0         \n",
      "                                                                 \n",
      " conv2d_14 (Conv2D)          (None, 3, 3, 256)         819456    \n",
      "                                                                 \n",
      " batch_normalization_14 (Bat  (None, 3, 3, 256)        1024      \n",
      " chNormalization)                                                \n",
      "                                                                 \n",
      " leaky_re_lu_14 (LeakyReLU)  (None, 3, 3, 256)         0         \n",
      "                                                                 \n",
      " conv2d_15 (Conv2D)          (None, 3, 3, 256)         1638656   \n",
      "                                                                 \n",
      " batch_normalization_15 (Bat  (None, 3, 3, 256)        1024      \n",
      " chNormalization)                                                \n",
      "                                                                 \n",
      " leaky_re_lu_15 (LeakyReLU)  (None, 3, 3, 256)         0         \n",
      "                                                                 \n",
      " max_pooling2d_7 (MaxPooling  (None, 1, 1, 256)        0         \n",
      " 2D)                                                             \n",
      "                                                                 \n",
      " dropout_9 (Dropout)         (None, 1, 1, 256)         0         \n",
      "                                                                 \n",
      " flatten_1 (Flatten)         (None, 256)               0         \n",
      "                                                                 \n",
      " my_dense (Dense)            (None, 256)               65792     \n",
      "                                                                 \n",
      " dropout_10 (Dropout)        (None, 256)               0         \n",
      "                                                                 \n",
      " dense_2 (Dense)             (None, 128)               32896     \n",
      "                                                                 \n",
      " dropout_11 (Dropout)        (None, 128)               0         \n",
      "                                                                 \n",
      " dense_3 (Dense)             (None, 10)                1290      \n",
      "                                                                 \n",
      "=================================================================\n",
      "Total params: 3,241,578\n",
      "Trainable params: 3,239,658\n",
      "Non-trainable params: 1,920\n",
      "_________________________________________________________________\n"
     ]
    }
   ],
   "source": [
    "#CNN Model Building\n",
    "model = Sequential()\n",
    "# input: 28x28 images with 1 channels -> (28, 28, 1) tensors.\n",
    "#REason for having grey scale 1 channel\n",
    "# https://stackoverflow.com/questions/53044116/difference-between-grayscale-images-represented-by-3-channels-and-1-channel-in-c#:~:text=The%20information%20given%20by%20the,take%20more%20time%20to%20compute\n",
    "# this applies 32 convolution filters of size 3x3 each.\n",
    "# First two convolution layer has 32 Feature Maps\n",
    "model.add(Conv2D(32, (3, 3), activation='relu', input_shape=(28, 28, 1),padding='same'))\n",
    "model.add(BatchNormalization(momentum=0.9, epsilon=1e-5, gamma_initializer=\"uniform\"))\n",
    "model.add(LeakyReLU(alpha=0.1))\n",
    "model.add(Conv2D(32, (3, 3), activation='relu',padding='same'))\n",
    "model.add(BatchNormalization(momentum=0.9, epsilon=1e-5, gamma_initializer=\"uniform\"))\n",
    "model.add(LeakyReLU(alpha=0.1))\n",
    "model.add(MaxPooling2D(pool_size=(2, 2)))\n",
    "model.add(Dropout(0.5))\n",
    "\n",
    "# Subsequent two convolution layer has 64 Feature Maps\n",
    "model.add(Conv2D(64, (3, 3), activation='relu',padding='same'))\n",
    "model.add(BatchNormalization(momentum=0.9, epsilon=1e-5, gamma_initializer=\"uniform\"))\n",
    "model.add(LeakyReLU(alpha=0.1))\n",
    "model.add(Conv2D(64, (3, 3), activation='relu',padding='same'))\n",
    "model.add(BatchNormalization(momentum=0.9, epsilon=1e-5, gamma_initializer=\"uniform\"))\n",
    "model.add(LeakyReLU(alpha=0.1))\n",
    "model.add(MaxPooling2D(pool_size=(2, 2)))\n",
    "model.add(Dropout(0.5))\n",
    "\n",
    "# Next two convolution layer has 128 Feature Maps\n",
    "model.add(Conv2D(128, kernel_size=5, activation='relu',padding='same'))\n",
    "model.add(BatchNormalization(momentum=0.9, epsilon=1e-5, gamma_initializer=\"uniform\"))\n",
    "model.add(LeakyReLU(alpha=0.1))\n",
    "model.add(Conv2D(128, kernel_size=5, activation='relu',padding='same'))\n",
    "model.add(BatchNormalization(momentum=0.9, epsilon=1e-5, gamma_initializer=\"uniform\"))\n",
    "model.add(LeakyReLU(alpha=0.1))\n",
    "model.add(MaxPooling2D(pool_size=(2, 2)))\n",
    "model.add(Dropout(0.5))\n",
    "\n",
    "# Final two convolution layer has 128 Feature Maps\n",
    "model.add(Conv2D(256, kernel_size=5, activation='relu',padding='same'))\n",
    "model.add(BatchNormalization(momentum=0.9, epsilon=1e-5, gamma_initializer=\"uniform\"))\n",
    "model.add(LeakyReLU(alpha=0.1))\n",
    "model.add(Conv2D(256, kernel_size=5, activation='relu',padding='same'))\n",
    "model.add(BatchNormalization(momentum=0.9, epsilon=1e-5, gamma_initializer=\"uniform\"))\n",
    "model.add(LeakyReLU(alpha=0.1))\n",
    "model.add(MaxPooling2D(pool_size=(2, 2)))\n",
    "model.add(Dropout(0.5))\n",
    "\n",
    "\n",
    "model.add(Flatten())\n",
    "\n",
    "\n",
    "# Dense Layer\n",
    "#model = keras.applications.inception_v3.InceptionV3(weights= None, include_top=False, input_shape= (28,28,1))\n",
    "model.add(Dense(256, activation='relu', name='my_dense'))\n",
    "model.add(Dropout(0.5))\n",
    "model.add(Dense(128, activation='relu'))\n",
    "model.add(Dropout(0.5))\n",
    "model.add(Dense(10, activation='softmax'))\n",
    "\n",
    "#sgd = SGD(lr=0.01, decay=1e-6, momentum=0.9, nesterov=True)\n",
    "#model.compile(loss='categorical_crossentropy', optimizer=sgd)\n",
    "\n",
    "model.summary()"
   ]
  },
  {
   "cell_type": "markdown",
   "id": "e0b3e2df",
   "metadata": {},
   "source": [
    "#### <font color='blue'> 11. Creating Intermediate Layer </font>"
   ]
  },
  {
   "cell_type": "code",
   "execution_count": 90,
   "id": "b60cd20b",
   "metadata": {},
   "outputs": [
    {
     "name": "stdout",
     "output_type": "stream",
     "text": [
      "Model: \"model_2\"\n",
      "_________________________________________________________________\n",
      " Layer (type)                Output Shape              Param #   \n",
      "=================================================================\n",
      " conv2d_8_input (InputLayer)  [(None, 28, 28, 1)]      0         \n",
      "                                                                 \n",
      " conv2d_8 (Conv2D)           (None, 28, 28, 32)        320       \n",
      "                                                                 \n",
      " batch_normalization_8 (Batc  (None, 28, 28, 32)       128       \n",
      " hNormalization)                                                 \n",
      "                                                                 \n",
      " leaky_re_lu_8 (LeakyReLU)   (None, 28, 28, 32)        0         \n",
      "                                                                 \n",
      " conv2d_9 (Conv2D)           (None, 28, 28, 32)        9248      \n",
      "                                                                 \n",
      " batch_normalization_9 (Batc  (None, 28, 28, 32)       128       \n",
      " hNormalization)                                                 \n",
      "                                                                 \n",
      " leaky_re_lu_9 (LeakyReLU)   (None, 28, 28, 32)        0         \n",
      "                                                                 \n",
      " max_pooling2d_4 (MaxPooling  (None, 14, 14, 32)       0         \n",
      " 2D)                                                             \n",
      "                                                                 \n",
      " dropout_6 (Dropout)         (None, 14, 14, 32)        0         \n",
      "                                                                 \n",
      " conv2d_10 (Conv2D)          (None, 14, 14, 64)        18496     \n",
      "                                                                 \n",
      " batch_normalization_10 (Bat  (None, 14, 14, 64)       256       \n",
      " chNormalization)                                                \n",
      "                                                                 \n",
      " leaky_re_lu_10 (LeakyReLU)  (None, 14, 14, 64)        0         \n",
      "                                                                 \n",
      " conv2d_11 (Conv2D)          (None, 14, 14, 64)        36928     \n",
      "                                                                 \n",
      " batch_normalization_11 (Bat  (None, 14, 14, 64)       256       \n",
      " chNormalization)                                                \n",
      "                                                                 \n",
      " leaky_re_lu_11 (LeakyReLU)  (None, 14, 14, 64)        0         \n",
      "                                                                 \n",
      " max_pooling2d_5 (MaxPooling  (None, 7, 7, 64)         0         \n",
      " 2D)                                                             \n",
      "                                                                 \n",
      " dropout_7 (Dropout)         (None, 7, 7, 64)          0         \n",
      "                                                                 \n",
      " conv2d_12 (Conv2D)          (None, 7, 7, 128)         204928    \n",
      "                                                                 \n",
      " batch_normalization_12 (Bat  (None, 7, 7, 128)        512       \n",
      " chNormalization)                                                \n",
      "                                                                 \n",
      " leaky_re_lu_12 (LeakyReLU)  (None, 7, 7, 128)         0         \n",
      "                                                                 \n",
      " conv2d_13 (Conv2D)          (None, 7, 7, 128)         409728    \n",
      "                                                                 \n",
      " batch_normalization_13 (Bat  (None, 7, 7, 128)        512       \n",
      " chNormalization)                                                \n",
      "                                                                 \n",
      " leaky_re_lu_13 (LeakyReLU)  (None, 7, 7, 128)         0         \n",
      "                                                                 \n",
      " max_pooling2d_6 (MaxPooling  (None, 3, 3, 128)        0         \n",
      " 2D)                                                             \n",
      "                                                                 \n",
      " dropout_8 (Dropout)         (None, 3, 3, 128)         0         \n",
      "                                                                 \n",
      " conv2d_14 (Conv2D)          (None, 3, 3, 256)         819456    \n",
      "                                                                 \n",
      " batch_normalization_14 (Bat  (None, 3, 3, 256)        1024      \n",
      " chNormalization)                                                \n",
      "                                                                 \n",
      " leaky_re_lu_14 (LeakyReLU)  (None, 3, 3, 256)         0         \n",
      "                                                                 \n",
      " conv2d_15 (Conv2D)          (None, 3, 3, 256)         1638656   \n",
      "                                                                 \n",
      " batch_normalization_15 (Bat  (None, 3, 3, 256)        1024      \n",
      " chNormalization)                                                \n",
      "                                                                 \n",
      " leaky_re_lu_15 (LeakyReLU)  (None, 3, 3, 256)         0         \n",
      "                                                                 \n",
      " max_pooling2d_7 (MaxPooling  (None, 1, 1, 256)        0         \n",
      " 2D)                                                             \n",
      "                                                                 \n",
      " dropout_9 (Dropout)         (None, 1, 1, 256)         0         \n",
      "                                                                 \n",
      " flatten_1 (Flatten)         (None, 256)               0         \n",
      "                                                                 \n",
      " my_dense (Dense)            (None, 256)               65792     \n",
      "                                                                 \n",
      "=================================================================\n",
      "Total params: 3,207,392\n",
      "Trainable params: 3,205,472\n",
      "Non-trainable params: 1,920\n",
      "_________________________________________________________________\n"
     ]
    }
   ],
   "source": [
    "#Crating a Intermediate Layer from the CNN's dense layer\n",
    "layer_name='my_dense'\n",
    "intermediate_layer_model = Model(inputs=model.input,\n",
    "                                 outputs=model.get_layer(layer_name).output)\n",
    "\n",
    "intermediate_layer_model.summary()"
   ]
  },
  {
   "cell_type": "markdown",
   "id": "5db1da83",
   "metadata": {},
   "source": [
    "#### <font color='blue'> 12. Data Augmentation </font>"
   ]
  },
  {
   "cell_type": "markdown",
   "id": "15b27c8a",
   "metadata": {},
   "source": [
    "The ImageDataGenerator class in Keras is used for implementing image augmentation. The major advantage of the Keras ImageDataGenerator class is its ability to produce real-time image augmentation. This simply means it can generate augmented images dynamically during the training of the model making the overall mode more robust and accurate."
   ]
  },
  {
   "cell_type": "raw",
   "id": "fc5be936",
   "metadata": {},
   "source": [
    "# Data Augmentation using keras\n",
    "datagen = ImageDataGenerator(\n",
    "    rotation_range=15,\n",
    "    width_shift_range=0.2,\n",
    "    height_shift_range=0.2,\n",
    "    shear_range = 15,\n",
    "    horizontal_flip = False,\n",
    "    zoom_range = 0.20)"
   ]
  },
  {
   "cell_type": "markdown",
   "id": "d489c108",
   "metadata": {},
   "source": [
    "#### <font color='blue'> 13. Optimisation </font>"
   ]
  },
  {
   "cell_type": "raw",
   "id": "9beb6633",
   "metadata": {},
   "source": [
    "#0ptimisation - Need to understand how the validation accuracy is compared here for feature extraction\n",
    "#from keras.optimizers import Adam, Adadelta, RMSprop\n",
    "\n",
    "#model.compile(loss='categorical_crossentropy',optimizer=Adam(),metrics=['accuracy'])\n",
    "intermediate_layer_model.compile(loss='categorical_crossentropy',optimizer=Adam(),metrics=['accuracy'])\n",
    "datagen.fit(train_image)\n",
    "\n",
    "# training\n",
    "history = intermediate_layer_model.fit_generator(datagen.flow(train_image,train_label1),\n",
    "                              epochs = 2, #epoch,batch_size can try with different values 50,100,\n",
    "                              shuffle=True,\n",
    "                              validation_data = (val_image,val_label),\n",
    "                              verbose = 1,\n",
    "                              steps_per_epoch=train_image.shape[0] // 32) #ned to change as per above"
   ]
  },
  {
   "cell_type": "code",
   "execution_count": 91,
   "id": "d8f08fce",
   "metadata": {},
   "outputs": [
    {
     "name": "stdout",
     "output_type": "stream",
     "text": [
      "Epoch 1/50\n",
      "609/609 [==============================] - 95s 155ms/step - loss: 0.6509 - accuracy: 0.6733 - val_loss: 0.5459 - val_accuracy: 0.7497\n",
      "Epoch 2/50\n",
      "609/609 [==============================] - 94s 154ms/step - loss: 0.5639 - accuracy: 0.7292 - val_loss: 0.5648 - val_accuracy: 0.7367\n",
      "Epoch 3/50\n",
      "609/609 [==============================] - 95s 157ms/step - loss: 0.5486 - accuracy: 0.7448 - val_loss: 0.5801 - val_accuracy: 0.7231\n",
      "Epoch 4/50\n",
      "609/609 [==============================] - 97s 159ms/step - loss: 0.5404 - accuracy: 0.7510 - val_loss: 0.5582 - val_accuracy: 0.7335\n",
      "Epoch 5/50\n",
      "609/609 [==============================] - 97s 159ms/step - loss: 0.5237 - accuracy: 0.7637 - val_loss: 0.5287 - val_accuracy: 0.7878\n",
      "Epoch 6/50\n",
      "609/609 [==============================] - 97s 159ms/step - loss: 0.5169 - accuracy: 0.7675 - val_loss: 0.5012 - val_accuracy: 0.7832\n",
      "Epoch 7/50\n",
      "609/609 [==============================] - 97s 160ms/step - loss: 0.5096 - accuracy: 0.7732 - val_loss: 0.5412 - val_accuracy: 0.7468\n",
      "Epoch 8/50\n",
      "609/609 [==============================] - 96s 157ms/step - loss: 0.5014 - accuracy: 0.7756 - val_loss: 0.4780 - val_accuracy: 0.7822\n",
      "Epoch 9/50\n",
      "609/609 [==============================] - 99s 162ms/step - loss: 0.4933 - accuracy: 0.7802 - val_loss: 0.4638 - val_accuracy: 0.8047\n",
      "Epoch 10/50\n",
      "609/609 [==============================] - 100s 164ms/step - loss: 0.4877 - accuracy: 0.7835 - val_loss: 0.9612 - val_accuracy: 0.5411\n",
      "Epoch 11/50\n",
      "609/609 [==============================] - 97s 158ms/step - loss: 0.4844 - accuracy: 0.7839 - val_loss: 0.7327 - val_accuracy: 0.6084\n",
      "Epoch 12/50\n",
      "609/609 [==============================] - 95s 157ms/step - loss: 0.4807 - accuracy: 0.7862 - val_loss: 0.5391 - val_accuracy: 0.7755\n",
      "Epoch 13/50\n",
      "609/609 [==============================] - 94s 154ms/step - loss: 0.4760 - accuracy: 0.7888 - val_loss: 0.4770 - val_accuracy: 0.7922\n",
      "Epoch 14/50\n",
      "609/609 [==============================] - 94s 154ms/step - loss: 0.4714 - accuracy: 0.7951 - val_loss: 0.4537 - val_accuracy: 0.8002\n",
      "Epoch 15/50\n",
      "609/609 [==============================] - 94s 155ms/step - loss: 0.4683 - accuracy: 0.7932 - val_loss: 0.4441 - val_accuracy: 0.8120\n",
      "Epoch 16/50\n",
      "609/609 [==============================] - 94s 154ms/step - loss: 0.4647 - accuracy: 0.7980 - val_loss: 0.4321 - val_accuracy: 0.8198\n",
      "Epoch 17/50\n",
      "609/609 [==============================] - 95s 156ms/step - loss: 0.4553 - accuracy: 0.8010 - val_loss: 1.0561 - val_accuracy: 0.5554\n",
      "Epoch 18/50\n",
      "609/609 [==============================] - 94s 155ms/step - loss: 0.4581 - accuracy: 0.7986 - val_loss: 0.4402 - val_accuracy: 0.8082\n",
      "Epoch 19/50\n",
      "609/609 [==============================] - 94s 154ms/step - loss: 0.4534 - accuracy: 0.8014 - val_loss: 0.4869 - val_accuracy: 0.7979\n",
      "Epoch 20/50\n",
      "609/609 [==============================] - 93s 153ms/step - loss: 0.4475 - accuracy: 0.8049 - val_loss: 0.8157 - val_accuracy: 0.5895\n",
      "Epoch 21/50\n",
      "609/609 [==============================] - 93s 153ms/step - loss: 0.4400 - accuracy: 0.8084 - val_loss: 0.5749 - val_accuracy: 0.7397\n",
      "Epoch 22/50\n",
      "609/609 [==============================] - 94s 155ms/step - loss: 0.4347 - accuracy: 0.8090 - val_loss: 0.4336 - val_accuracy: 0.8050\n",
      "Epoch 23/50\n",
      "609/609 [==============================] - 102s 168ms/step - loss: 0.4320 - accuracy: 0.8109 - val_loss: 0.3998 - val_accuracy: 0.8271\n",
      "Epoch 24/50\n",
      "609/609 [==============================] - 99s 163ms/step - loss: 0.4262 - accuracy: 0.8196 - val_loss: 0.7178 - val_accuracy: 0.6144\n",
      "Epoch 25/50\n",
      "609/609 [==============================] - 104s 170ms/step - loss: 0.4250 - accuracy: 0.8159 - val_loss: 0.4756 - val_accuracy: 0.8016\n",
      "Epoch 26/50\n",
      "609/609 [==============================] - 125s 206ms/step - loss: 0.4292 - accuracy: 0.8129 - val_loss: 0.4227 - val_accuracy: 0.8146\n",
      "Epoch 27/50\n",
      "609/609 [==============================] - 167s 275ms/step - loss: 0.4169 - accuracy: 0.8189 - val_loss: 0.5260 - val_accuracy: 0.7720\n",
      "Epoch 28/50\n",
      "609/609 [==============================] - 167s 274ms/step - loss: 0.4168 - accuracy: 0.8222 - val_loss: 0.3942 - val_accuracy: 0.8253\n",
      "Epoch 29/50\n",
      "609/609 [==============================] - 167s 275ms/step - loss: 0.4163 - accuracy: 0.8184 - val_loss: 0.4709 - val_accuracy: 0.7913\n",
      "Epoch 30/50\n",
      "609/609 [==============================] - 168s 275ms/step - loss: 0.4106 - accuracy: 0.8254 - val_loss: 0.4892 - val_accuracy: 0.7897\n",
      "Epoch 31/50\n",
      "609/609 [==============================] - 169s 278ms/step - loss: 0.4024 - accuracy: 0.8275 - val_loss: 0.6811 - val_accuracy: 0.6295\n",
      "Epoch 32/50\n",
      "609/609 [==============================] - 167s 275ms/step - loss: 0.4027 - accuracy: 0.8280 - val_loss: 0.4407 - val_accuracy: 0.8172\n",
      "Epoch 33/50\n",
      "609/609 [==============================] - 171s 280ms/step - loss: 0.4016 - accuracy: 0.8283 - val_loss: 0.5347 - val_accuracy: 0.7313\n",
      "Epoch 34/50\n",
      "609/609 [==============================] - 169s 277ms/step - loss: 0.3968 - accuracy: 0.8306 - val_loss: 0.4490 - val_accuracy: 0.8097\n",
      "Epoch 35/50\n",
      "609/609 [==============================] - 153s 252ms/step - loss: 0.3914 - accuracy: 0.8363 - val_loss: 0.4312 - val_accuracy: 0.8238\n",
      "Epoch 36/50\n",
      "609/609 [==============================] - 121s 199ms/step - loss: 0.3915 - accuracy: 0.8304 - val_loss: 0.5404 - val_accuracy: 0.7883\n",
      "Epoch 37/50\n",
      "609/609 [==============================] - 135s 222ms/step - loss: 0.3859 - accuracy: 0.8363 - val_loss: 0.3769 - val_accuracy: 0.8297\n",
      "Epoch 38/50\n",
      "609/609 [==============================] - 126s 207ms/step - loss: 0.3786 - accuracy: 0.8395 - val_loss: 0.3780 - val_accuracy: 0.8386\n",
      "Epoch 39/50\n",
      "609/609 [==============================] - 103s 169ms/step - loss: 0.3767 - accuracy: 0.8408 - val_loss: 0.3946 - val_accuracy: 0.8338\n",
      "Epoch 40/50\n",
      "609/609 [==============================] - 95s 157ms/step - loss: 0.3784 - accuracy: 0.8426 - val_loss: 0.4590 - val_accuracy: 0.8119\n",
      "Epoch 41/50\n",
      "609/609 [==============================] - 96s 158ms/step - loss: 0.3720 - accuracy: 0.8417 - val_loss: 0.4855 - val_accuracy: 0.8097\n",
      "Epoch 42/50\n",
      "609/609 [==============================] - 99s 162ms/step - loss: 0.3704 - accuracy: 0.8431 - val_loss: 0.3612 - val_accuracy: 0.8452\n",
      "Epoch 43/50\n",
      "609/609 [==============================] - 98s 162ms/step - loss: 0.3611 - accuracy: 0.8474 - val_loss: 0.4265 - val_accuracy: 0.8162\n",
      "Epoch 44/50\n",
      "609/609 [==============================] - 93s 153ms/step - loss: 0.3654 - accuracy: 0.8456 - val_loss: 0.3930 - val_accuracy: 0.8352\n",
      "Epoch 45/50\n",
      "609/609 [==============================] - 93s 153ms/step - loss: 0.3636 - accuracy: 0.8454 - val_loss: 0.4643 - val_accuracy: 0.7895\n",
      "Epoch 46/50\n",
      "609/609 [==============================] - 93s 153ms/step - loss: 0.3557 - accuracy: 0.8487 - val_loss: 0.3909 - val_accuracy: 0.8313\n",
      "Epoch 47/50\n",
      "609/609 [==============================] - 93s 153ms/step - loss: 0.3537 - accuracy: 0.8494 - val_loss: 0.4399 - val_accuracy: 0.8303\n",
      "Epoch 48/50\n",
      "609/609 [==============================] - 93s 153ms/step - loss: 0.3534 - accuracy: 0.8494 - val_loss: 0.3671 - val_accuracy: 0.8463\n",
      "Epoch 49/50\n",
      "609/609 [==============================] - 93s 153ms/step - loss: 0.3510 - accuracy: 0.8499 - val_loss: 0.3840 - val_accuracy: 0.8478\n",
      "Epoch 50/50\n",
      "609/609 [==============================] - 94s 154ms/step - loss: 0.3453 - accuracy: 0.8541 - val_loss: 0.3565 - val_accuracy: 0.8470\n"
     ]
    }
   ],
   "source": [
    "model.compile(optimizer='adam',loss='categorical_crossentropy',metrics=['accuracy'])\n",
    "\n",
    "#model.fit(train_image, train_label)\n",
    "\n",
    "history = model.fit(train_image, train_label,batch_size=32, \n",
    "                              steps_per_epoch=train_image.shape[0] // 32, \n",
    "                              max_queue_size=500,\n",
    "                              workers=1,\n",
    "                              validation_data = (val_image,val_label),\n",
    "                              epochs=50, \n",
    "                              verbose=1)"
   ]
  },
  {
   "cell_type": "code",
   "execution_count": 92,
   "id": "ca51c0e0",
   "metadata": {},
   "outputs": [
    {
     "name": "stdout",
     "output_type": "stream",
     "text": [
      "610/610 [==============================] - 16s 25ms/step\n"
     ]
    },
    {
     "data": {
      "text/plain": [
       "(19518, 256)"
      ]
     },
     "execution_count": 92,
     "metadata": {},
     "output_type": "execute_result"
    }
   ],
   "source": [
    "##### Extract the train - intermediate output from CNN\n",
    "intermediate_output = intermediate_layer_model.predict(train_image) \n",
    "intermediate_output = pd.DataFrame(data=intermediate_output)\n",
    "intermediate_output.shape"
   ]
  },
  {
   "cell_type": "code",
   "execution_count": 93,
   "id": "9bde5307",
   "metadata": {},
   "outputs": [
    {
     "name": "stdout",
     "output_type": "stream",
     "text": [
      "(7978, 28, 28, 1)\n",
      "(7978, 10)\n"
     ]
    }
   ],
   "source": [
    "# check the shape of test dataset\n",
    "print(val_image.shape)\n",
    "print(val_label.shape)"
   ]
  },
  {
   "cell_type": "code",
   "execution_count": 103,
   "id": "8d47c969",
   "metadata": {},
   "outputs": [],
   "source": [
    "#reshape the dataset for XGBoost model building\n",
    "val_data = intermediate_output[11540:]"
   ]
  },
  {
   "cell_type": "code",
   "execution_count": 95,
   "id": "acd70a38",
   "metadata": {},
   "outputs": [
    {
     "name": "stdout",
     "output_type": "stream",
     "text": [
      "262/262 [==============================] - 7s 25ms/step\n"
     ]
    }
   ],
   "source": [
    "# Extract the test - intermediate output from CNN\n",
    "intermediate_test_output = intermediate_layer_model.predict(test_image)\n",
    "intermediate_test_output = pd.DataFrame(data=intermediate_test_output)"
   ]
  },
  {
   "cell_type": "markdown",
   "id": "38b37b85",
   "metadata": {},
   "source": [
    "#### <font color='blue'> 14. XGBooost model creation for intermediate values </font>"
   ]
  },
  {
   "cell_type": "code",
   "execution_count": 101,
   "id": "849eefbb",
   "metadata": {
    "scrolled": true
   },
   "outputs": [
    {
     "name": "stdout",
     "output_type": "stream",
     "text": [
      "(19518, 256)\n",
      "(19518,)\n",
      "(19518, 256)\n",
      "(7978,)\n"
     ]
    }
   ],
   "source": [
    "#printing shape of intermediate values\n",
    "print(intermediate_output.shape)\n",
    "print(train_label1.shape)\n",
    "print(val_data.shape)\n",
    "print(val_label1.shape)"
   ]
  },
  {
   "cell_type": "code",
   "execution_count": 102,
   "id": "030ccfde",
   "metadata": {},
   "outputs": [
    {
     "data": {
      "text/plain": [
       "11540"
      ]
     },
     "execution_count": 102,
     "metadata": {},
     "output_type": "execute_result"
    }
   ],
   "source": [
    "19518 - 7978\n"
   ]
  },
  {
   "cell_type": "code",
   "execution_count": 104,
   "id": "9d8358af",
   "metadata": {},
   "outputs": [
    {
     "name": "stdout",
     "output_type": "stream",
     "text": [
      "Accuracy: 54.89%\n"
     ]
    }
   ],
   "source": [
    "# #XGBoost model creation & XGBoost evaluate predictions\n",
    "\n",
    "xgb_model = XGBClassifier()\n",
    "xgb_model.fit(intermediate_output, train_label1)\n",
    "# make predictions for test data\n",
    "y_pred = xgb_model.predict(val_data)\n",
    "predictions = [round(value) for value in y_pred]\n",
    "# evaluate predictions\n",
    "accuracy = accuracy_score(val_label1, predictions)\n",
    "print(\"Accuracy: %.2f%%\" % (accuracy * 100.0))\n",
    "#xgb_model.score(val_data, val_label1)"
   ]
  },
  {
   "cell_type": "code",
   "execution_count": null,
   "id": "13f4638f",
   "metadata": {},
   "outputs": [],
   "source": []
  },
  {
   "cell_type": "markdown",
   "id": "ab942369",
   "metadata": {},
   "source": [
    "Accuracy of XGBoost seems to be less, this could be due to less validation set, hence lets intorduce K-Fold cross validation to mitigate this issue and increase the accuracy of the model"
   ]
  },
  {
   "cell_type": "code",
   "execution_count": 111,
   "id": "36dc82f9",
   "metadata": {},
   "outputs": [],
   "source": [
    "submission_xgb = xgb_model.predict(intermediate_test_output)"
   ]
  },
  {
   "cell_type": "code",
   "execution_count": 112,
   "id": "66adb715",
   "metadata": {},
   "outputs": [],
   "source": [
    "#model = list()\n",
    "resample_xgb = list()\n",
    "precision_xgb = list()\n",
    "recall_xgb = list()\n",
    "F1score_xgb = list()\n",
    "AUCROC_xgb = list()"
   ]
  },
  {
   "cell_type": "code",
   "execution_count": 113,
   "id": "7e53a1a5",
   "metadata": {},
   "outputs": [],
   "source": [
    "def test_eval( y_test, y_pred, algo=None, sampling=None):\n",
    "    # Test set prediction\n",
    "    #y_prob=clf_model.predict_proba(X_test)\n",
    "    #y_pred=clf_model.predict(X_test)\n",
    "    \n",
    "    #print('Confusion Matrix')\n",
    "    print('='*60)\n",
    "    print('Classification Report')\n",
    "    print('='*60)\n",
    "    print(classification_report(y_test,y_pred),\"\\n\")\n",
    "    #print('AUC-ROC')\n",
    "    #print('='*60)\n",
    "    #print(roc_auc_score(y_test, y_prob[:,1]))\n",
    "          \n",
    "    #model.append(algo)\n",
    "    precision_xgb.append(precision_score(y_test, y_pred))\n",
    "    recall_xgb.append(recall_score(y_test, y_pred))\n",
    "    F1score_xgb.append(f1_score(y_test, y_pred))\n",
    "    #AUCROC.append(roc_auc_score(y_test, y_prob[:,1]))\n",
    "    #resample.append(sampling)"
   ]
  },
  {
   "cell_type": "code",
   "execution_count": 114,
   "id": "13dec3d2",
   "metadata": {},
   "outputs": [
    {
     "name": "stdout",
     "output_type": "stream",
     "text": [
      "============================================================\n",
      "Classification Report\n",
      "============================================================\n",
      "              precision    recall  f1-score   support\n",
      "\n",
      "         0.0       0.87      0.82      0.84      4198\n",
      "         1.0       0.83      0.87      0.85      4180\n",
      "\n",
      "    accuracy                           0.85      8378\n",
      "   macro avg       0.85      0.85      0.85      8378\n",
      "weighted avg       0.85      0.85      0.85      8378\n",
      " \n",
      "\n"
     ]
    }
   ],
   "source": [
    "test_eval(test_label, submission_xgb)"
   ]
  },
  {
   "cell_type": "markdown",
   "id": "ebca93c3",
   "metadata": {},
   "source": [
    "https://github.com/arpcode/SMOTE-ADA-BOOST-COBRA/blob/main/Notebooks/SmoteAdaBoostedCC.ipynb"
   ]
  },
  {
   "cell_type": "markdown",
   "id": "cc418531",
   "metadata": {},
   "source": [
    "#### <font color='blue'>  K-Fold Validation </font>"
   ]
  },
  {
   "cell_type": "code",
   "execution_count": 115,
   "id": "ec15c820",
   "metadata": {},
   "outputs": [],
   "source": [
    "#Importing required libraries\n",
    "from sklearn.datasets import load_breast_cancer\n",
    "import pandas as pd\n",
    "from sklearn.model_selection import KFold \n",
    "from sklearn.linear_model import LogisticRegression\n",
    "from sklearn.metrics import accuracy_score"
   ]
  },
  {
   "cell_type": "markdown",
   "id": "56ceef3d",
   "metadata": {},
   "source": [
    "#### Train Accuracy"
   ]
  },
  {
   "cell_type": "code",
   "execution_count": 116,
   "id": "de409efe",
   "metadata": {},
   "outputs": [
    {
     "name": "stdout",
     "output_type": "stream",
     "text": [
      "Accuracy: 89.02%\n"
     ]
    }
   ],
   "source": [
    "#Train Accuracy\n",
    "# k-fold cross validation evaluation of xgboost model\n",
    "from numpy import loadtxt\n",
    "import xgboost\n",
    "from sklearn.model_selection import KFold\n",
    "from sklearn.model_selection import cross_val_score\n",
    "from sklearn.metrics import make_scorer, accuracy_score, precision_score, recall_score, f1_score \n",
    "from sklearn.model_selection import cross_validate\n",
    "\n",
    "scoring = {'accuracy' : make_scorer(accuracy_score), \n",
    "           'precision' : make_scorer(precision_score),\n",
    "           'recall' : make_scorer(recall_score), \n",
    "           'f1_score' : make_scorer(f1_score)}\n",
    "\n",
    "kfold = KFold(n_splits=10, random_state=7, shuffle=True)\n",
    "results = cross_val_score(xgb_model, intermediate_output, train_label1, cv=kfold)\n",
    "#Test_results = cross_val_score(xgb_model, intermediate_output, val_label1, cv=kfold)\n",
    "#cv_results = cross_validate(xgb_model, X, y, cv=kfold, scoring=accuracy, verbose=10)\n",
    "print(\"Accuracy: %.2f%%\" % (results.mean()*100))"
   ]
  },
  {
   "cell_type": "markdown",
   "id": "c89a0d8b",
   "metadata": {},
   "source": [
    "#### Test Accuracy"
   ]
  },
  {
   "cell_type": "code",
   "execution_count": 124,
   "id": "a3a8e285",
   "metadata": {},
   "outputs": [
    {
     "name": "stdout",
     "output_type": "stream",
     "text": [
      "Accuracy: 83.89%\n"
     ]
    }
   ],
   "source": [
    "#Test Accuracy\n",
    "kfold = KFold(n_splits=10, random_state=7, shuffle=True)\n",
    "test_results = cross_val_score(xgb_model, intermediate_test_output, test_label, cv=kfold)\n",
    "#Test_results = cross_val_score(xgb_model, intermediate_output, val_label1, cv=kfold)\n",
    "#cv_results = cross_validate(xgb_model, X, y, cv=kfold, scoring=accuracy, verbose=10)\n",
    "print(\"Accuracy: %.2f%%\" % (test_results.mean()*100))"
   ]
  },
  {
   "cell_type": "code",
   "execution_count": null,
   "id": "a638c5c2",
   "metadata": {},
   "outputs": [],
   "source": [
    "print(train_label1.shape)\n",
    "print(test_label.shape)\n",
    "print(val_label1.shape)"
   ]
  },
  {
   "cell_type": "code",
   "execution_count": null,
   "id": "a06d0c7e",
   "metadata": {},
   "outputs": [],
   "source": [
    "#Hyperparameters of XGB model\n",
    "xgb_model.get_xgb_params()"
   ]
  },
  {
   "cell_type": "code",
   "execution_count": null,
   "id": "cd831b1d",
   "metadata": {},
   "outputs": [],
   "source": []
  },
  {
   "cell_type": "markdown",
   "id": "d1ab928b",
   "metadata": {},
   "source": [
    "#### <font color='blue'> Ploting confusion matrix </font>"
   ]
  },
  {
   "cell_type": "code",
   "execution_count": 130,
   "id": "d0c78d59",
   "metadata": {},
   "outputs": [
    {
     "data": {
      "text/plain": [
       "array([[3447,  751],\n",
       "       [ 524, 3656]], dtype=int64)"
      ]
     },
     "execution_count": 130,
     "metadata": {},
     "output_type": "execute_result"
    }
   ],
   "source": [
    "from sklearn import metrics\n",
    "metrics.confusion_matrix(test_label, submission_xgb)"
   ]
  },
  {
   "cell_type": "code",
   "execution_count": null,
   "id": "70043ff9",
   "metadata": {},
   "outputs": [],
   "source": [
    "# TYPE-1 Error = False Positive = 4.66%  # predicted value is postive but it is false\n",
    "# TYPE-2 Error - False Negative = 10.39%  # predicted value is negative but it is true\n"
   ]
  },
  {
   "cell_type": "code",
   "execution_count": 131,
   "id": "4bf4395c",
   "metadata": {},
   "outputs": [
    {
     "data": {
      "text/plain": [
       "<AxesSubplot:>"
      ]
     },
     "execution_count": 131,
     "metadata": {},
     "output_type": "execute_result"
    },
    {
     "data": {
      "image/png": "[encoded data removed]",
      "text/plain": [
       "<Figure size 640x480 with 2 Axes>"
      ]
     },
     "metadata": {},
     "output_type": "display_data"
    }
   ],
   "source": [
    "group_names = ['True Pos','False Pos','False Neg','True Neg']\n",
    "group_counts = [\"{0:0.0f}\".format(value) for value in\n",
    "                confusion_matrix(test_label, submission_xgb).flatten()]\n",
    "group_percentages = [\"{0:.2%}\".format(value) for value in\n",
    "                     confusion_matrix(test_label, submission_xgb).flatten()/np.sum(confusion_matrix(test_label, submission_xgb))]\n",
    "labels = [f\"{v1}\\n{v2}\\n{v3}\" for v1, v2, v3 in\n",
    "          zip(group_names,group_counts,group_percentages)]\n",
    "labels = np.asarray(labels).reshape(2,2)\n",
    "sns.heatmap(confusion_matrix(test_label, submission_xgb),fmt='', cmap='Blues', annot=labels)"
   ]
  },
  {
   "cell_type": "code",
   "execution_count": null,
   "id": "f265cb78",
   "metadata": {},
   "outputs": [],
   "source": []
  }
 ],
 "metadata": {
  "kernelspec": {
   "display_name": "Python 3 (ipykernel)",
   "language": "python",
   "name": "python3"
  },
  "language_info": {
   "codemirror_mode": {
    "name": "ipython",
    "version": 3
   },
   "file_extension": ".py",
   "mimetype": "text/x-python",
   "name": "python",
   "nbconvert_exporter": "python",
   "pygments_lexer": "ipython3",
   "version": "3.9.13"
  }
 },
 "nbformat": 4,
 "nbformat_minor": 5
}
