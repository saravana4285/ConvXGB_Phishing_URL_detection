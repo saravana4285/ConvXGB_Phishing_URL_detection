{
 "cells": [
  {
   "cell_type": "markdown",
   "id": "8c2ca69f",
   "metadata": {},
   "source": [
    "## <font color=\"Blue\">Phishing URL Detection - ConvXGB Model</font>"
   ]
  },
  {
   "cell_type": "markdown",
   "id": "93fbed47",
   "metadata": {},
   "source": [
    "<b>GOAL:</b> This study employs new deep learning algorithm named \"ConvXGB\" to the field of cybersecurity in detecting phishing URL.</br>\n",
    "<b>Author :</b> Saravanan Muthuramalingam </br>\n",
    "<b>Purpose of this notebook :</b> This Notebook handles the following,\n",
    "    <li> Hyperparamter Tuning </li>\n",
    "    <li> EPOCH = 75 </li>\n",
    "    <li> Dropout = 0.5 </li>\n",
    "        <li> NO SMOTE but has Augmentation </li>"
   ]
  },
  {
   "cell_type": "markdown",
   "id": "cc7a2961",
   "metadata": {},
   "source": [
    "#### <NO SMOTE, but with Augmentation>"
   ]
  },
  {
   "cell_type": "code",
   "execution_count": 1,
   "id": "38e771f2",
   "metadata": {},
   "outputs": [],
   "source": [
    "# import all required python libraries\n",
    "#-------------------------------------#\n",
    "# Statistics Libraries\n",
    "import numpy as np\n",
    "\n",
    "# Dataset related Libraires\n",
    "import pandas as pd \n",
    "import csv\n",
    "\n",
    "# Data Visualization Libraries\n",
    "import seaborn as sns\n",
    "import matplotlib.pyplot as plt\n",
    "\n",
    "# URL Parsing Libraries\n",
    "import urllib.parse\n",
    "from urllib.parse import urlparse\n",
    "from urllib.parse import urlsplit\n",
    "from urlpath import URL\n",
    "\n",
    "# OS and regular expression Libraries\n",
    "import re\n",
    "import glob\n",
    "import os\n",
    "\n",
    "# Image processing related Libraries\n",
    "from PIL import Image\n",
    "import cv2\n",
    "import skimage.measure\n",
    "import imghdr\n",
    "\n",
    "# Image validation related Libraries\n",
    "from difPy import dif\n",
    "from sklearn.preprocessing import OneHotEncoder\n",
    "\n",
    "# To Build CNN in Keras \n",
    "import keras\n",
    "from keras.models import Sequential\n",
    "from keras.layers import Dense, Dropout, Flatten\n",
    "from keras.layers import Conv2D, MaxPooling2D\n",
    "from keras.optimizers import SGD\n",
    "#from keras.layers.normalization import BatchNormalization\n",
    "from tensorflow.keras.layers import BatchNormalization\n",
    "from keras.layers import LeakyReLU\n",
    "from keras.models import Model\n",
    "from keras.preprocessing.image import ImageDataGenerator\n",
    "from keras.optimizers import Adam, Adadelta, RMSprop\n",
    "\n",
    "# XGBoost classification algorithm\n",
    "from xgboost import XGBClassifier\n",
    "\n",
    "# Perforrmance evaluation Librraries\n",
    "from sklearn.metrics import confusion_matrix, roc_auc_score, roc_curve, classification_report, precision_recall_curve\n",
    "from sklearn.metrics import accuracy_score, f1_score, precision_score, recall_score\n"
   ]
  },
  {
   "cell_type": "markdown",
   "id": "7a5c22c8",
   "metadata": {},
   "source": [
    "#### <font color='blue'>7. Splitting Train/Test Data</font>"
   ]
  },
  {
   "cell_type": "code",
   "execution_count": 37,
   "id": "667dcd92",
   "metadata": {},
   "outputs": [
    {
     "data": {
      "text/plain": [
       "(17683, 785)"
      ]
     },
     "execution_count": 37,
     "metadata": {},
     "output_type": "execute_result"
    }
   ],
   "source": [
    "#spliting test and train\n",
    "#80% of the datasets is reserved for training the model\n",
    "raw_df = pd.read_csv(r'C:\\Users\\msara\\Desktop\\dataset\\preprocessed_data.csv')\n",
    "raw_df['split'] = np.random.randn(raw_df.shape[0], 1)\n",
    "\n",
    "\n",
    "\n",
    "raw_df = raw_df.drop(['Unnamed: 0', 'split'],axis=1)\n",
    "raw_df.shape"
   ]
  },
  {
   "cell_type": "markdown",
   "id": "0623c254",
   "metadata": {},
   "source": [
    "#### <font color='blue'>9. Train/Test Data Pre-processing</font>"
   ]
  },
  {
   "cell_type": "code",
   "execution_count": 38,
   "id": "70963acd",
   "metadata": {},
   "outputs": [],
   "source": [
    "msk = np.random.rand(len(raw_df)) <= 0.8\n",
    "\n",
    "train = raw_df[msk]\n",
    "test = raw_df[~msk]"
   ]
  },
  {
   "cell_type": "code",
   "execution_count": 39,
   "id": "8c3ef086",
   "metadata": {},
   "outputs": [
    {
     "name": "stdout",
     "output_type": "stream",
     "text": [
      "train shape: (14123, 785)\n",
      "val shape: (3160, 785)\n",
      "train_label shape: (14123,)\n",
      "val_label shape: (3160,)\n",
      "train_image shape: (14123, 784)\n",
      "val_image shape: (3160, 784)\n",
      "test_image shape: (3560, 784)\n",
      "test_label shape: (3560,)\n"
     ]
    }
   ],
   "source": [
    "#converting the data to appropripate shapes using numpy\n",
    "train_data = train[:]\n",
    "val_data = test[400:]\n",
    "train_label = np.float32(train_data.result)\n",
    "val_label = np.float32(val_data.result)\n",
    "train_image = np.float32(train_data[train_data.columns[1:]])\n",
    "val_image = np.float32(val_data[val_data.columns[1:]])\n",
    "test_image = np.float32(test[test.columns[1:]])\n",
    "test_label = np.float32(test.result)\n",
    "print('train shape: %s'%str(train_data.shape))\n",
    "print('val shape: %s'%str(val_data.shape))\n",
    "print('train_label shape: %s'%str(train_label.shape))\n",
    "print('val_label shape: %s'%str(val_label.shape))\n",
    "print('train_image shape: %s'%str(train_image.shape))\n",
    "print('val_image shape: %s'%str(val_image.shape))\n",
    "print('test_image shape: %s'%str(test_image.shape))\n",
    "print('test_label shape: %s'%str(test_label.shape))"
   ]
  },
  {
   "cell_type": "code",
   "execution_count": 40,
   "id": "29b95873",
   "metadata": {},
   "outputs": [
    {
     "name": "stdout",
     "output_type": "stream",
     "text": [
      "(14123, 784)\n",
      "(14123, 784)\n",
      "train_image shape: (14123, 28, 28, 1)\n",
      "train_image shape: (14123, 28, 28, 1)\n",
      "val_image shape: (3160, 28, 28, 1)\n",
      "(3160,)\n"
     ]
    }
   ],
   "source": [
    "\n",
    "\n",
    "plt.show()\n",
    "print(train_image.shape)\n",
    "\n",
    "train_image = train_image/255.0\n",
    "val_image = val_image/255.0\n",
    "test_image = test_image/255.0\n",
    "\n",
    "print(train_image.shape)\n",
    "\n",
    "train_image = train_image.reshape(train_image.shape[0],28,28,1)\n",
    "val_image = val_image.reshape(val_image.shape[0],28,28,1)\n",
    "test_image = test_image.reshape(test_image.shape[0],28,28,1)\n",
    "print('train_image shape: %s'%str(train_image.shape))\n",
    "\n",
    "print('train_image shape: %s'%str(train_image.shape))\n",
    "print('val_image shape: %s'%str(val_image.shape))\n",
    "\n",
    "train_label1 = train_label\n",
    "val_label1 = val_label\n",
    "print(val_label1.shape)"
   ]
  },
  {
   "cell_type": "markdown",
   "id": "5a2f8802",
   "metadata": {},
   "source": [
    "#### <font color='blue'>10. One Hot Encoding</font>"
   ]
  },
  {
   "cell_type": "code",
   "execution_count": 41,
   "id": "8e8c379b",
   "metadata": {},
   "outputs": [
    {
     "name": "stdout",
     "output_type": "stream",
     "text": [
      "train_label shape: (14123, 10)\n",
      "val_label shape: (3160, 10)\n"
     ]
    }
   ],
   "source": [
    "#onehot encoding\n",
    "encoder = OneHotEncoder(sparse=False,categories='auto')\n",
    "yy = [[0],[1],[2],[3],[4],[5],[6],[7],[8],[9]]\n",
    "encoder.fit(yy)\n",
    "# transform\n",
    "train_label = train_label.reshape(-1,1)\n",
    "val_label = val_label.reshape(-1,1)\n",
    "\n",
    "train_label = encoder.transform(train_label)\n",
    "val_label = encoder.transform(val_label)\n",
    "\n",
    "print('train_label shape: %s'%str(train_label.shape))\n",
    "print('val_label shape: %s'%str(val_label.shape))"
   ]
  },
  {
   "cell_type": "markdown",
   "id": "a4877b91",
   "metadata": {
    "scrolled": true
   },
   "source": [
    "#### <font color='blue'> 11. CNN Model Building </font>"
   ]
  },
  {
   "cell_type": "code",
   "execution_count": 42,
   "id": "9751ccc4",
   "metadata": {},
   "outputs": [
    {
     "name": "stdout",
     "output_type": "stream",
     "text": [
      "Model: \"sequential\"\n",
      "_________________________________________________________________\n",
      " Layer (type)                Output Shape              Param #   \n",
      "=================================================================\n",
      " conv2d (Conv2D)             (None, 28, 28, 32)        320       \n",
      "                                                                 \n",
      " batch_normalization (BatchN  (None, 28, 28, 32)       128       \n",
      " ormalization)                                                   \n",
      "                                                                 \n",
      " leaky_re_lu (LeakyReLU)     (None, 28, 28, 32)        0         \n",
      "                                                                 \n",
      " conv2d_1 (Conv2D)           (None, 28, 28, 32)        9248      \n",
      "                                                                 \n",
      " batch_normalization_1 (Batc  (None, 28, 28, 32)       128       \n",
      " hNormalization)                                                 \n",
      "                                                                 \n",
      " leaky_re_lu_1 (LeakyReLU)   (None, 28, 28, 32)        0         \n",
      "                                                                 \n",
      " max_pooling2d (MaxPooling2D  (None, 14, 14, 32)       0         \n",
      " )                                                               \n",
      "                                                                 \n",
      " dropout (Dropout)           (None, 14, 14, 32)        0         \n",
      "                                                                 \n",
      " conv2d_2 (Conv2D)           (None, 14, 14, 64)        18496     \n",
      "                                                                 \n",
      " batch_normalization_2 (Batc  (None, 14, 14, 64)       256       \n",
      " hNormalization)                                                 \n",
      "                                                                 \n",
      " leaky_re_lu_2 (LeakyReLU)   (None, 14, 14, 64)        0         \n",
      "                                                                 \n",
      " conv2d_3 (Conv2D)           (None, 14, 14, 64)        36928     \n",
      "                                                                 \n",
      " batch_normalization_3 (Batc  (None, 14, 14, 64)       256       \n",
      " hNormalization)                                                 \n",
      "                                                                 \n",
      " leaky_re_lu_3 (LeakyReLU)   (None, 14, 14, 64)        0         \n",
      "                                                                 \n",
      " max_pooling2d_1 (MaxPooling  (None, 7, 7, 64)         0         \n",
      " 2D)                                                             \n",
      "                                                                 \n",
      " dropout_1 (Dropout)         (None, 7, 7, 64)          0         \n",
      "                                                                 \n",
      " conv2d_4 (Conv2D)           (None, 7, 7, 128)         204928    \n",
      "                                                                 \n",
      " batch_normalization_4 (Batc  (None, 7, 7, 128)        512       \n",
      " hNormalization)                                                 \n",
      "                                                                 \n",
      " leaky_re_lu_4 (LeakyReLU)   (None, 7, 7, 128)         0         \n",
      "                                                                 \n",
      " conv2d_5 (Conv2D)           (None, 7, 7, 128)         409728    \n",
      "                                                                 \n",
      " batch_normalization_5 (Batc  (None, 7, 7, 128)        512       \n",
      " hNormalization)                                                 \n",
      "                                                                 \n",
      " leaky_re_lu_5 (LeakyReLU)   (None, 7, 7, 128)         0         \n",
      "                                                                 \n",
      " max_pooling2d_2 (MaxPooling  (None, 3, 3, 128)        0         \n",
      " 2D)                                                             \n",
      "                                                                 \n",
      " dropout_2 (Dropout)         (None, 3, 3, 128)         0         \n",
      "                                                                 \n",
      " conv2d_6 (Conv2D)           (None, 3, 3, 256)         819456    \n",
      "                                                                 \n",
      " batch_normalization_6 (Batc  (None, 3, 3, 256)        1024      \n",
      " hNormalization)                                                 \n",
      "                                                                 \n",
      " leaky_re_lu_6 (LeakyReLU)   (None, 3, 3, 256)         0         \n",
      "                                                                 \n",
      " conv2d_7 (Conv2D)           (None, 3, 3, 256)         1638656   \n",
      "                                                                 \n",
      " batch_normalization_7 (Batc  (None, 3, 3, 256)        1024      \n",
      " hNormalization)                                                 \n",
      "                                                                 \n",
      " leaky_re_lu_7 (LeakyReLU)   (None, 3, 3, 256)         0         \n",
      "                                                                 \n",
      " max_pooling2d_3 (MaxPooling  (None, 1, 1, 256)        0         \n",
      " 2D)                                                             \n",
      "                                                                 \n",
      " dropout_3 (Dropout)         (None, 1, 1, 256)         0         \n",
      "                                                                 \n",
      " flatten (Flatten)           (None, 256)               0         \n",
      "                                                                 \n",
      " my_dense (Dense)            (None, 256)               65792     \n",
      "                                                                 \n",
      " dropout_4 (Dropout)         (None, 256)               0         \n",
      "                                                                 \n",
      " dense (Dense)               (None, 128)               32896     \n",
      "                                                                 \n",
      " dropout_5 (Dropout)         (None, 128)               0         \n",
      "                                                                 \n",
      " dense_1 (Dense)             (None, 10)                1290      \n",
      "                                                                 \n",
      "=================================================================\n",
      "Total params: 3,241,578\n",
      "Trainable params: 3,239,658\n",
      "Non-trainable params: 1,920\n",
      "_________________________________________________________________\n"
     ]
    }
   ],
   "source": [
    "#CNN Model Building\n",
    "model = Sequential()\n",
    "# input: 28x28 images with 1 channels -> (28, 28, 1) tensors.\n",
    "#REason for having grey scale 1 channel\n",
    "# https://stackoverflow.com/questions/53044116/difference-between-grayscale-images-represented-by-3-channels-and-1-channel-in-c#:~:text=The%20information%20given%20by%20the,take%20more%20time%20to%20compute\n",
    "# this applies 32 convolution filters of size 3x3 each.\n",
    "# First two convolution layer has 32 Feature Maps\n",
    "model.add(Conv2D(32, (3, 3), activation='relu', input_shape=(28, 28, 1),padding='same'))\n",
    "model.add(BatchNormalization(momentum=0.9, epsilon=1e-5, gamma_initializer=\"uniform\"))\n",
    "model.add(LeakyReLU(alpha=0.1))\n",
    "model.add(Conv2D(32, (3, 3), activation='relu',padding='same'))\n",
    "model.add(BatchNormalization(momentum=0.9, epsilon=1e-5, gamma_initializer=\"uniform\"))\n",
    "model.add(LeakyReLU(alpha=0.1))\n",
    "model.add(MaxPooling2D(pool_size=(2, 2)))\n",
    "model.add(Dropout(0.10))\n",
    "\n",
    "# Subsequent two convolution layer has 64 Feature Maps\n",
    "model.add(Conv2D(64, (3, 3), activation='relu',padding='same'))\n",
    "model.add(BatchNormalization(momentum=0.9, epsilon=1e-5, gamma_initializer=\"uniform\"))\n",
    "model.add(LeakyReLU(alpha=0.1))\n",
    "model.add(Conv2D(64, (3, 3), activation='relu',padding='same'))\n",
    "model.add(BatchNormalization(momentum=0.9, epsilon=1e-5, gamma_initializer=\"uniform\"))\n",
    "model.add(LeakyReLU(alpha=0.1))\n",
    "model.add(MaxPooling2D(pool_size=(2, 2)))\n",
    "model.add(Dropout(0.10))\n",
    "\n",
    "# Next two convolution layer has 128 Feature Maps\n",
    "model.add(Conv2D(128, kernel_size=5, activation='relu',padding='same'))\n",
    "model.add(BatchNormalization(momentum=0.9, epsilon=1e-5, gamma_initializer=\"uniform\"))\n",
    "model.add(LeakyReLU(alpha=0.1))\n",
    "model.add(Conv2D(128, kernel_size=5, activation='relu',padding='same'))\n",
    "model.add(BatchNormalization(momentum=0.9, epsilon=1e-5, gamma_initializer=\"uniform\"))\n",
    "model.add(LeakyReLU(alpha=0.1))\n",
    "model.add(MaxPooling2D(pool_size=(2, 2)))\n",
    "model.add(Dropout(0.10))\n",
    "\n",
    "# Final two convolution layer has 128 Feature Maps\n",
    "model.add(Conv2D(256, kernel_size=5, activation='relu',padding='same'))\n",
    "model.add(BatchNormalization(momentum=0.9, epsilon=1e-5, gamma_initializer=\"uniform\"))\n",
    "model.add(LeakyReLU(alpha=0.1))\n",
    "model.add(Conv2D(256, kernel_size=5, activation='relu',padding='same'))\n",
    "model.add(BatchNormalization(momentum=0.9, epsilon=1e-5, gamma_initializer=\"uniform\"))\n",
    "model.add(LeakyReLU(alpha=0.1))\n",
    "model.add(MaxPooling2D(pool_size=(2, 2)))\n",
    "model.add(Dropout(0.10))\n",
    "\n",
    "\n",
    "model.add(Flatten())\n",
    "\n",
    "\n",
    "# Dense Layer\n",
    "#model = keras.applications.inception_v3.InceptionV3(weights= None, include_top=False, input_shape= (28,28,1))\n",
    "model.add(Dense(256, activation='relu', name='my_dense'))\n",
    "model.add(Dropout(0.5))\n",
    "model.add(Dense(128, activation='relu'))\n",
    "model.add(Dropout(0.5))\n",
    "model.add(Dense(10, activation='softmax'))\n",
    "\n",
    "#sgd = SGD(lr=0.01, decay=1e-6, momentum=0.9, nesterov=True)\n",
    "#model.compile(loss='categorical_crossentropy', optimizer=sgd)\n",
    "\n",
    "model.summary()"
   ]
  },
  {
   "cell_type": "markdown",
   "id": "e0b3e2df",
   "metadata": {},
   "source": [
    "#### <font color='blue'> 11. Creating Intermediate Layer </font>"
   ]
  },
  {
   "cell_type": "code",
   "execution_count": 43,
   "id": "b60cd20b",
   "metadata": {},
   "outputs": [
    {
     "name": "stdout",
     "output_type": "stream",
     "text": [
      "Model: \"model\"\n",
      "_________________________________________________________________\n",
      " Layer (type)                Output Shape              Param #   \n",
      "=================================================================\n",
      " conv2d_input (InputLayer)   [(None, 28, 28, 1)]       0         \n",
      "                                                                 \n",
      " conv2d (Conv2D)             (None, 28, 28, 32)        320       \n",
      "                                                                 \n",
      " batch_normalization (BatchN  (None, 28, 28, 32)       128       \n",
      " ormalization)                                                   \n",
      "                                                                 \n",
      " leaky_re_lu (LeakyReLU)     (None, 28, 28, 32)        0         \n",
      "                                                                 \n",
      " conv2d_1 (Conv2D)           (None, 28, 28, 32)        9248      \n",
      "                                                                 \n",
      " batch_normalization_1 (Batc  (None, 28, 28, 32)       128       \n",
      " hNormalization)                                                 \n",
      "                                                                 \n",
      " leaky_re_lu_1 (LeakyReLU)   (None, 28, 28, 32)        0         \n",
      "                                                                 \n",
      " max_pooling2d (MaxPooling2D  (None, 14, 14, 32)       0         \n",
      " )                                                               \n",
      "                                                                 \n",
      " dropout (Dropout)           (None, 14, 14, 32)        0         \n",
      "                                                                 \n",
      " conv2d_2 (Conv2D)           (None, 14, 14, 64)        18496     \n",
      "                                                                 \n",
      " batch_normalization_2 (Batc  (None, 14, 14, 64)       256       \n",
      " hNormalization)                                                 \n",
      "                                                                 \n",
      " leaky_re_lu_2 (LeakyReLU)   (None, 14, 14, 64)        0         \n",
      "                                                                 \n",
      " conv2d_3 (Conv2D)           (None, 14, 14, 64)        36928     \n",
      "                                                                 \n",
      " batch_normalization_3 (Batc  (None, 14, 14, 64)       256       \n",
      " hNormalization)                                                 \n",
      "                                                                 \n",
      " leaky_re_lu_3 (LeakyReLU)   (None, 14, 14, 64)        0         \n",
      "                                                                 \n",
      " max_pooling2d_1 (MaxPooling  (None, 7, 7, 64)         0         \n",
      " 2D)                                                             \n",
      "                                                                 \n",
      " dropout_1 (Dropout)         (None, 7, 7, 64)          0         \n",
      "                                                                 \n",
      " conv2d_4 (Conv2D)           (None, 7, 7, 128)         204928    \n",
      "                                                                 \n",
      " batch_normalization_4 (Batc  (None, 7, 7, 128)        512       \n",
      " hNormalization)                                                 \n",
      "                                                                 \n",
      " leaky_re_lu_4 (LeakyReLU)   (None, 7, 7, 128)         0         \n",
      "                                                                 \n",
      " conv2d_5 (Conv2D)           (None, 7, 7, 128)         409728    \n",
      "                                                                 \n",
      " batch_normalization_5 (Batc  (None, 7, 7, 128)        512       \n",
      " hNormalization)                                                 \n",
      "                                                                 \n",
      " leaky_re_lu_5 (LeakyReLU)   (None, 7, 7, 128)         0         \n",
      "                                                                 \n",
      " max_pooling2d_2 (MaxPooling  (None, 3, 3, 128)        0         \n",
      " 2D)                                                             \n",
      "                                                                 \n",
      " dropout_2 (Dropout)         (None, 3, 3, 128)         0         \n",
      "                                                                 \n",
      " conv2d_6 (Conv2D)           (None, 3, 3, 256)         819456    \n",
      "                                                                 \n",
      " batch_normalization_6 (Batc  (None, 3, 3, 256)        1024      \n",
      " hNormalization)                                                 \n",
      "                                                                 \n",
      " leaky_re_lu_6 (LeakyReLU)   (None, 3, 3, 256)         0         \n",
      "                                                                 \n",
      " conv2d_7 (Conv2D)           (None, 3, 3, 256)         1638656   \n",
      "                                                                 \n",
      " batch_normalization_7 (Batc  (None, 3, 3, 256)        1024      \n",
      " hNormalization)                                                 \n",
      "                                                                 \n",
      " leaky_re_lu_7 (LeakyReLU)   (None, 3, 3, 256)         0         \n",
      "                                                                 \n",
      " max_pooling2d_3 (MaxPooling  (None, 1, 1, 256)        0         \n",
      " 2D)                                                             \n",
      "                                                                 \n",
      " dropout_3 (Dropout)         (None, 1, 1, 256)         0         \n",
      "                                                                 \n",
      " flatten (Flatten)           (None, 256)               0         \n",
      "                                                                 \n",
      " my_dense (Dense)            (None, 256)               65792     \n",
      "                                                                 \n",
      "=================================================================\n",
      "Total params: 3,207,392\n",
      "Trainable params: 3,205,472\n",
      "Non-trainable params: 1,920\n",
      "_________________________________________________________________\n"
     ]
    }
   ],
   "source": [
    "#Crating a Intermediate Layer from the CNN's dense layer\n",
    "layer_name='my_dense'\n",
    "intermediate_layer_model = Model(inputs=model.input,\n",
    "                                 outputs=model.get_layer(layer_name).output)\n",
    "\n",
    "intermediate_layer_model.summary()"
   ]
  },
  {
   "cell_type": "markdown",
   "id": "5db1da83",
   "metadata": {},
   "source": [
    "#### <font color='blue'> 12. Data Augmentation </font>"
   ]
  },
  {
   "cell_type": "markdown",
   "id": "15b27c8a",
   "metadata": {},
   "source": [
    "The ImageDataGenerator class in Keras is used for implementing image augmentation. The major advantage of the Keras ImageDataGenerator class is its ability to produce real-time image augmentation. This simply means it can generate augmented images dynamically during the training of the model making the overall mode more robust and accurate."
   ]
  },
  {
   "cell_type": "code",
   "execution_count": 44,
   "id": "86be8d2e",
   "metadata": {},
   "outputs": [],
   "source": [
    "# Data Augmentation using keras\n",
    "datagen = ImageDataGenerator(\n",
    "    rotation_range=15,\n",
    "    width_shift_range=0.2,\n",
    "    height_shift_range=0.2,\n",
    "    shear_range = 15,\n",
    "    horizontal_flip = False,\n",
    "    zoom_range = 0.20)"
   ]
  },
  {
   "cell_type": "markdown",
   "id": "d489c108",
   "metadata": {},
   "source": [
    "#### <font color='blue'> 13. Optimisation </font>"
   ]
  },
  {
   "cell_type": "raw",
   "id": "9beb6633",
   "metadata": {},
   "source": [
    "#0ptimisation - Need to understand how the validation accuracy is compared here for feature extraction\n",
    "#from keras.optimizers import Adam, Adadelta, RMSprop\n",
    "\n",
    "#model.compile(loss='categorical_crossentropy',optimizer=Adam(),metrics=['accuracy'])\n",
    "intermediate_layer_model.compile(loss='categorical_crossentropy',optimizer=Adam(),metrics=['accuracy'])\n",
    "datagen.fit(train_image)\n",
    "\n",
    "# training\n",
    "history = intermediate_layer_model.fit_generator(datagen.flow(train_image,train_label, batch_size=32),\n",
    "                              epochs = 2, #epoch,batch_size can try with different values 50,100,\n",
    "                              shuffle=True,\n",
    "                              validation_data = (val_image,val_label),\n",
    "                              verbose = 1,\n",
    "                              steps_per_epoch=train_image.shape[0] // 32) #ned to change as per above"
   ]
  },
  {
   "cell_type": "code",
   "execution_count": 45,
   "id": "05d5c258",
   "metadata": {},
   "outputs": [
    {
     "name": "stdout",
     "output_type": "stream",
     "text": [
      "Epoch 1/75\n",
      "441/441 [==============================] - 73s 162ms/step - loss: 0.5328 - accuracy: 0.7871 - val_loss: 0.4176 - val_accuracy: 0.8158\n",
      "Epoch 2/75\n",
      "441/441 [==============================] - 68s 153ms/step - loss: 0.4653 - accuracy: 0.7922 - val_loss: 0.4662 - val_accuracy: 0.8089\n",
      "Epoch 3/75\n",
      "441/441 [==============================] - 67s 152ms/step - loss: 0.4549 - accuracy: 0.8021 - val_loss: 0.4252 - val_accuracy: 0.8089\n",
      "Epoch 4/75\n",
      "441/441 [==============================] - 69s 158ms/step - loss: 0.4518 - accuracy: 0.7987 - val_loss: 0.5217 - val_accuracy: 0.8089\n",
      "Epoch 5/75\n",
      "441/441 [==============================] - 66s 150ms/step - loss: 0.4492 - accuracy: 0.8026 - val_loss: 0.4054 - val_accuracy: 0.8089\n",
      "Epoch 6/75\n",
      "441/441 [==============================] - 66s 150ms/step - loss: 0.4431 - accuracy: 0.8020 - val_loss: 0.4320 - val_accuracy: 0.8089\n",
      "Epoch 7/75\n",
      "441/441 [==============================] - 67s 151ms/step - loss: 0.4452 - accuracy: 0.8017 - val_loss: 0.3846 - val_accuracy: 0.8335\n",
      "Epoch 8/75\n",
      "441/441 [==============================] - 65s 148ms/step - loss: 0.4397 - accuracy: 0.8039 - val_loss: 1.5788 - val_accuracy: 0.4927\n",
      "Epoch 9/75\n",
      "441/441 [==============================] - 65s 148ms/step - loss: 0.4358 - accuracy: 0.8059 - val_loss: 0.3807 - val_accuracy: 0.8459\n",
      "Epoch 10/75\n",
      "441/441 [==============================] - 65s 148ms/step - loss: 0.4359 - accuracy: 0.8080 - val_loss: 0.3822 - val_accuracy: 0.8206\n",
      "Epoch 11/75\n",
      "441/441 [==============================] - 66s 149ms/step - loss: 0.4339 - accuracy: 0.8087 - val_loss: 0.3842 - val_accuracy: 0.8253\n",
      "Epoch 12/75\n",
      "441/441 [==============================] - 66s 149ms/step - loss: 0.4305 - accuracy: 0.8088 - val_loss: 0.9605 - val_accuracy: 0.5769\n",
      "Epoch 13/75\n",
      "441/441 [==============================] - 67s 152ms/step - loss: 0.4384 - accuracy: 0.8070 - val_loss: 0.5046 - val_accuracy: 0.8089\n",
      "Epoch 14/75\n",
      "441/441 [==============================] - 66s 151ms/step - loss: 0.4461 - accuracy: 0.8021 - val_loss: 0.3780 - val_accuracy: 0.8500\n",
      "Epoch 15/75\n",
      "441/441 [==============================] - 66s 150ms/step - loss: 0.4385 - accuracy: 0.8060 - val_loss: 0.5524 - val_accuracy: 0.6911\n",
      "Epoch 16/75\n",
      "441/441 [==============================] - 67s 152ms/step - loss: 0.4365 - accuracy: 0.8055 - val_loss: 0.3836 - val_accuracy: 0.8127\n",
      "Epoch 17/75\n",
      "441/441 [==============================] - 66s 150ms/step - loss: 0.4326 - accuracy: 0.8089 - val_loss: 0.4104 - val_accuracy: 0.8041\n",
      "Epoch 18/75\n",
      "441/441 [==============================] - 66s 151ms/step - loss: 0.4328 - accuracy: 0.8085 - val_loss: 0.5268 - val_accuracy: 0.8016\n",
      "Epoch 19/75\n",
      "441/441 [==============================] - 67s 151ms/step - loss: 0.4302 - accuracy: 0.8119 - val_loss: 0.4020 - val_accuracy: 0.8494\n",
      "Epoch 20/75\n",
      "441/441 [==============================] - 66s 150ms/step - loss: 0.4258 - accuracy: 0.8104 - val_loss: 1.3653 - val_accuracy: 0.8491\n",
      "Epoch 21/75\n",
      "441/441 [==============================] - 67s 151ms/step - loss: 0.4271 - accuracy: 0.8075 - val_loss: 0.7734 - val_accuracy: 0.8443\n",
      "Epoch 22/75\n",
      "441/441 [==============================] - 66s 150ms/step - loss: 0.4258 - accuracy: 0.8101 - val_loss: 0.4123 - val_accuracy: 0.8127\n",
      "Epoch 23/75\n",
      "441/441 [==============================] - 66s 150ms/step - loss: 0.4257 - accuracy: 0.8126 - val_loss: 0.3528 - val_accuracy: 0.8468\n",
      "Epoch 24/75\n",
      "441/441 [==============================] - 67s 151ms/step - loss: 0.4267 - accuracy: 0.8115 - val_loss: 0.4010 - val_accuracy: 0.8101\n",
      "Epoch 25/75\n",
      "441/441 [==============================] - 66s 150ms/step - loss: 0.4239 - accuracy: 0.8120 - val_loss: 0.3634 - val_accuracy: 0.8222\n",
      "Epoch 26/75\n",
      "441/441 [==============================] - 67s 151ms/step - loss: 0.4197 - accuracy: 0.8163 - val_loss: 0.3619 - val_accuracy: 0.8408\n",
      "Epoch 27/75\n",
      "441/441 [==============================] - 66s 151ms/step - loss: 0.4190 - accuracy: 0.8114 - val_loss: 0.3556 - val_accuracy: 0.8491\n",
      "Epoch 28/75\n",
      "441/441 [==============================] - 66s 150ms/step - loss: 0.4191 - accuracy: 0.8120 - val_loss: 0.3464 - val_accuracy: 0.8570\n",
      "Epoch 29/75\n",
      "441/441 [==============================] - 66s 151ms/step - loss: 0.4197 - accuracy: 0.8141 - val_loss: 0.3440 - val_accuracy: 0.8532\n",
      "Epoch 30/75\n",
      "441/441 [==============================] - 66s 150ms/step - loss: 0.4245 - accuracy: 0.8120 - val_loss: 0.3505 - val_accuracy: 0.8592\n",
      "Epoch 31/75\n",
      "441/441 [==============================] - 66s 150ms/step - loss: 0.4237 - accuracy: 0.8104 - val_loss: 0.3612 - val_accuracy: 0.8566\n",
      "Epoch 32/75\n",
      "441/441 [==============================] - 66s 150ms/step - loss: 0.4196 - accuracy: 0.8148 - val_loss: 0.4127 - val_accuracy: 0.7968\n",
      "Epoch 33/75\n",
      "441/441 [==============================] - 66s 150ms/step - loss: 0.4207 - accuracy: 0.8160 - val_loss: 0.3861 - val_accuracy: 0.8307\n",
      "Epoch 34/75\n",
      "441/441 [==============================] - 66s 150ms/step - loss: 0.4207 - accuracy: 0.8149 - val_loss: 0.3604 - val_accuracy: 0.8468\n",
      "Epoch 35/75\n",
      "441/441 [==============================] - 66s 150ms/step - loss: 0.4187 - accuracy: 0.8134 - val_loss: 0.3396 - val_accuracy: 0.8570\n",
      "Epoch 36/75\n",
      "441/441 [==============================] - 65s 148ms/step - loss: 0.4163 - accuracy: 0.8153 - val_loss: 0.3442 - val_accuracy: 0.8560\n",
      "Epoch 37/75\n",
      "441/441 [==============================] - 66s 151ms/step - loss: 0.4172 - accuracy: 0.8158 - val_loss: 0.3704 - val_accuracy: 0.8152\n",
      "Epoch 38/75\n",
      "441/441 [==============================] - 67s 151ms/step - loss: 0.4165 - accuracy: 0.8153 - val_loss: 0.3342 - val_accuracy: 0.8535\n",
      "Epoch 39/75\n",
      "441/441 [==============================] - 67s 151ms/step - loss: 0.4165 - accuracy: 0.8136 - val_loss: 0.3442 - val_accuracy: 0.8525\n",
      "Epoch 40/75\n",
      "441/441 [==============================] - 66s 150ms/step - loss: 0.4149 - accuracy: 0.8157 - val_loss: 0.3392 - val_accuracy: 0.8611\n",
      "Epoch 41/75\n",
      "441/441 [==============================] - 66s 151ms/step - loss: 0.4126 - accuracy: 0.8174 - val_loss: 0.3419 - val_accuracy: 0.8304\n",
      "Epoch 42/75\n",
      "441/441 [==============================] - 66s 150ms/step - loss: 0.4101 - accuracy: 0.8217 - val_loss: 0.3408 - val_accuracy: 0.8614\n",
      "Epoch 43/75\n",
      "441/441 [==============================] - 66s 150ms/step - loss: 0.4120 - accuracy: 0.8170 - val_loss: 0.3701 - val_accuracy: 0.8199\n",
      "Epoch 44/75\n",
      "441/441 [==============================] - 67s 151ms/step - loss: 0.4093 - accuracy: 0.8170 - val_loss: 0.3304 - val_accuracy: 0.8563\n",
      "Epoch 45/75\n",
      "441/441 [==============================] - 67s 152ms/step - loss: 0.4145 - accuracy: 0.8153 - val_loss: 0.3642 - val_accuracy: 0.8285\n",
      "Epoch 46/75\n",
      "441/441 [==============================] - 66s 150ms/step - loss: 0.4107 - accuracy: 0.8165 - val_loss: 0.3320 - val_accuracy: 0.8528\n",
      "Epoch 47/75\n",
      "441/441 [==============================] - 66s 151ms/step - loss: 0.4090 - accuracy: 0.8209 - val_loss: 0.3501 - val_accuracy: 0.8222\n",
      "Epoch 48/75\n",
      "441/441 [==============================] - 67s 152ms/step - loss: 0.4093 - accuracy: 0.8202 - val_loss: 0.3333 - val_accuracy: 0.8535\n",
      "Epoch 49/75\n",
      "441/441 [==============================] - 66s 150ms/step - loss: 0.4117 - accuracy: 0.8197 - val_loss: 0.3434 - val_accuracy: 0.8503\n",
      "Epoch 50/75\n",
      "441/441 [==============================] - 66s 150ms/step - loss: 0.4127 - accuracy: 0.8173 - val_loss: 0.3722 - val_accuracy: 0.8253\n",
      "Epoch 51/75\n",
      "441/441 [==============================] - 67s 151ms/step - loss: 0.4085 - accuracy: 0.8239 - val_loss: 0.3259 - val_accuracy: 0.8598\n",
      "Epoch 52/75\n",
      "441/441 [==============================] - 66s 150ms/step - loss: 0.4086 - accuracy: 0.8216 - val_loss: 0.3535 - val_accuracy: 0.8522\n",
      "Epoch 53/75\n",
      "441/441 [==============================] - 66s 150ms/step - loss: 0.4080 - accuracy: 0.8214 - val_loss: 0.3456 - val_accuracy: 0.8316\n",
      "Epoch 54/75\n",
      "441/441 [==============================] - 67s 151ms/step - loss: 0.4057 - accuracy: 0.8256 - val_loss: 0.6252 - val_accuracy: 0.7696\n",
      "Epoch 55/75\n",
      "441/441 [==============================] - 66s 151ms/step - loss: 0.4070 - accuracy: 0.8169 - val_loss: 0.3355 - val_accuracy: 0.8601\n",
      "Epoch 56/75\n",
      "441/441 [==============================] - 67s 152ms/step - loss: 0.4060 - accuracy: 0.8219 - val_loss: 0.3373 - val_accuracy: 0.8617\n",
      "Epoch 57/75\n"
     ]
    },
    {
     "name": "stdout",
     "output_type": "stream",
     "text": [
      "441/441 [==============================] - 67s 151ms/step - loss: 0.4074 - accuracy: 0.8239 - val_loss: 0.3762 - val_accuracy: 0.8168\n",
      "Epoch 58/75\n",
      "441/441 [==============================] - 66s 151ms/step - loss: 0.4072 - accuracy: 0.8206 - val_loss: 0.3242 - val_accuracy: 0.8611\n",
      "Epoch 59/75\n",
      "441/441 [==============================] - 67s 151ms/step - loss: 0.4019 - accuracy: 0.8239 - val_loss: 0.3746 - val_accuracy: 0.8127\n",
      "Epoch 60/75\n",
      "441/441 [==============================] - 66s 151ms/step - loss: 0.4064 - accuracy: 0.8253 - val_loss: 0.3534 - val_accuracy: 0.8522\n",
      "Epoch 61/75\n",
      "441/441 [==============================] - 67s 151ms/step - loss: 0.4040 - accuracy: 0.8248 - val_loss: 0.3208 - val_accuracy: 0.8671\n",
      "Epoch 62/75\n",
      "441/441 [==============================] - 67s 151ms/step - loss: 0.4031 - accuracy: 0.8212 - val_loss: 0.3194 - val_accuracy: 0.8661\n",
      "Epoch 63/75\n",
      "441/441 [==============================] - 67s 151ms/step - loss: 0.4018 - accuracy: 0.8251 - val_loss: 0.3378 - val_accuracy: 0.8500\n",
      "Epoch 64/75\n",
      "441/441 [==============================] - 66s 151ms/step - loss: 0.4043 - accuracy: 0.8249 - val_loss: 0.3754 - val_accuracy: 0.8177\n",
      "Epoch 65/75\n",
      "441/441 [==============================] - 67s 151ms/step - loss: 0.4025 - accuracy: 0.8246 - val_loss: 0.3285 - val_accuracy: 0.8592\n",
      "Epoch 66/75\n",
      "441/441 [==============================] - 66s 150ms/step - loss: 0.4051 - accuracy: 0.8247 - val_loss: 0.3260 - val_accuracy: 0.8364\n",
      "Epoch 67/75\n",
      "441/441 [==============================] - 69s 156ms/step - loss: 0.4023 - accuracy: 0.8211 - val_loss: 0.3263 - val_accuracy: 0.8639\n",
      "Epoch 68/75\n",
      "441/441 [==============================] - 69s 156ms/step - loss: 0.4005 - accuracy: 0.8262 - val_loss: 0.3274 - val_accuracy: 0.8639\n",
      "Epoch 69/75\n",
      "441/441 [==============================] - 70s 158ms/step - loss: 0.4057 - accuracy: 0.8241 - val_loss: 0.3520 - val_accuracy: 0.8291\n",
      "Epoch 70/75\n",
      "441/441 [==============================] - 69s 157ms/step - loss: 0.4020 - accuracy: 0.8241 - val_loss: 0.3264 - val_accuracy: 0.8658\n",
      "Epoch 71/75\n",
      "441/441 [==============================] - 69s 156ms/step - loss: 0.3980 - accuracy: 0.8241 - val_loss: 0.3454 - val_accuracy: 0.8310\n",
      "Epoch 72/75\n",
      "441/441 [==============================] - 69s 156ms/step - loss: 0.3958 - accuracy: 0.8272 - val_loss: 0.3319 - val_accuracy: 0.8652\n",
      "Epoch 73/75\n",
      "441/441 [==============================] - 67s 153ms/step - loss: 0.3961 - accuracy: 0.8275 - val_loss: 0.3242 - val_accuracy: 0.8639\n",
      "Epoch 74/75\n",
      "441/441 [==============================] - 67s 153ms/step - loss: 0.4011 - accuracy: 0.8239 - val_loss: 0.3404 - val_accuracy: 0.8304\n",
      "Epoch 75/75\n",
      "441/441 [==============================] - 70s 158ms/step - loss: 0.4023 - accuracy: 0.8214 - val_loss: 0.3368 - val_accuracy: 0.8297\n"
     ]
    }
   ],
   "source": [
    "#0ptimisation - Need to understand how the validation accuracy is compared here for feature extraction\n",
    "#from keras.optimizers import Adam, Adadelta, RMSprop\n",
    "\n",
    "#model.compile(loss='categorical_crossentropy',optimizer=Adam(),metrics=['accuracy'])\n",
    "model.compile(loss='categorical_crossentropy',optimizer=Adam(),metrics=['accuracy'])\n",
    "datagen.fit(train_image)\n",
    "\n",
    "# training\n",
    "history = model.fit_generator(datagen.flow(train_image,train_label, batch_size=32),\n",
    "                              epochs = 75,#epoch,batch_size can try with different values 50,100,\n",
    "                              shuffle=True,\n",
    "                              validation_data = (val_image,val_label),\n",
    "                              verbose = 1,\n",
    "                              steps_per_epoch=train_image.shape[0] // 32) #ned to change as per above"
   ]
  },
  {
   "cell_type": "code",
   "execution_count": 46,
   "id": "f83f86a4",
   "metadata": {},
   "outputs": [
    {
     "name": "stdout",
     "output_type": "stream",
     "text": [
      "442/442 [==============================] - 11s 24ms/step\n"
     ]
    },
    {
     "data": {
      "text/plain": [
       "(14123, 256)"
      ]
     },
     "execution_count": 46,
     "metadata": {},
     "output_type": "execute_result"
    }
   ],
   "source": [
    "##### Extract the train - intermediate output from CNN\n",
    "intermediate_output = intermediate_layer_model.predict(train_image) \n",
    "intermediate_output = pd.DataFrame(data=intermediate_output)\n",
    "intermediate_output.shape"
   ]
  },
  {
   "cell_type": "code",
   "execution_count": 47,
   "id": "9bde5307",
   "metadata": {},
   "outputs": [
    {
     "name": "stdout",
     "output_type": "stream",
     "text": [
      "(3160, 28, 28, 1)\n",
      "(3160, 10)\n"
     ]
    }
   ],
   "source": [
    "# check the shape of test dataset\n",
    "print(val_image.shape)\n",
    "print(val_label.shape)"
   ]
  },
  {
   "cell_type": "code",
   "execution_count": 52,
   "id": "8d47c969",
   "metadata": {},
   "outputs": [],
   "source": [
    "#reshape the dataset for XGBoost model building\n",
    "val_data = intermediate_output[10963:]"
   ]
  },
  {
   "cell_type": "code",
   "execution_count": 49,
   "id": "acd70a38",
   "metadata": {},
   "outputs": [
    {
     "name": "stdout",
     "output_type": "stream",
     "text": [
      "112/112 [==============================] - 3s 24ms/step\n"
     ]
    }
   ],
   "source": [
    "# Extract the test - intermediate output from CNN\n",
    "intermediate_test_output = intermediate_layer_model.predict(test_image)\n",
    "intermediate_test_output = pd.DataFrame(data=intermediate_test_output)"
   ]
  },
  {
   "cell_type": "markdown",
   "id": "38b37b85",
   "metadata": {},
   "source": [
    "#### <font color='blue'> 14. XGBooost model creation for intermediate values </font>"
   ]
  },
  {
   "cell_type": "code",
   "execution_count": 50,
   "id": "849eefbb",
   "metadata": {
    "scrolled": true
   },
   "outputs": [
    {
     "name": "stdout",
     "output_type": "stream",
     "text": [
      "(14123, 256)\n",
      "(14123,)\n",
      "(14123, 256)\n",
      "(3160,)\n"
     ]
    }
   ],
   "source": [
    "#printing shape of intermediate values\n",
    "print(intermediate_output.shape)\n",
    "print(train_label1.shape)\n",
    "print(val_data.shape)\n",
    "print(val_label1.shape)"
   ]
  },
  {
   "cell_type": "code",
   "execution_count": 51,
   "id": "030ccfde",
   "metadata": {},
   "outputs": [
    {
     "data": {
      "text/plain": [
       "10963"
      ]
     },
     "execution_count": 51,
     "metadata": {},
     "output_type": "execute_result"
    }
   ],
   "source": [
    "14123 - 3160"
   ]
  },
  {
   "cell_type": "code",
   "execution_count": 53,
   "id": "9d8358af",
   "metadata": {},
   "outputs": [
    {
     "name": "stdout",
     "output_type": "stream",
     "text": [
      "Accuracy: 69.94%\n"
     ]
    }
   ],
   "source": [
    "# #XGBoost model creation & XGBoost evaluate predictions\n",
    "\n",
    "xgb_model = XGBClassifier()\n",
    "xgb_model.fit(intermediate_output, train_label1)\n",
    "# make predictions for test data\n",
    "y_pred = xgb_model.predict(val_data)\n",
    "predictions = [round(value) for value in y_pred]\n",
    "# evaluate predictions\n",
    "accuracy = accuracy_score(val_label1, predictions)\n",
    "print(\"Accuracy: %.2f%%\" % (accuracy * 100.0))"
   ]
  },
  {
   "cell_type": "code",
   "execution_count": null,
   "id": "7975479f",
   "metadata": {},
   "outputs": [],
   "source": []
  },
  {
   "cell_type": "code",
   "execution_count": 54,
   "id": "36dc82f9",
   "metadata": {},
   "outputs": [],
   "source": [
    "submission_xgb = xgb_model.predict(intermediate_test_output)"
   ]
  },
  {
   "cell_type": "code",
   "execution_count": null,
   "id": "7e53a1a5",
   "metadata": {},
   "outputs": [],
   "source": []
  },
  {
   "cell_type": "code",
   "execution_count": 55,
   "id": "5eae65ee",
   "metadata": {},
   "outputs": [],
   "source": [
    "#model = list()\n",
    "resample = list()\n",
    "precision = list()\n",
    "recall = list()\n",
    "F1score = list()\n",
    "AUCROC = list()"
   ]
  },
  {
   "cell_type": "code",
   "execution_count": 56,
   "id": "491cf7d4",
   "metadata": {},
   "outputs": [],
   "source": [
    "def test_eval( y_test, y_pred, algo=None, sampling=None):\n",
    "    # Test set prediction\n",
    "    #y_prob=clf_model.predict_proba(X_test)\n",
    "    #y_pred=clf_model.predict(X_test)\n",
    "    \n",
    "    #print('Confusion Matrix')\n",
    "    print('='*60)\n",
    "    print('Classification Report')\n",
    "    print('='*60)\n",
    "    print(classification_report(y_test,y_pred),\"\\n\")\n",
    "    #print('AUC-ROC')\n",
    "    #print('='*60)\n",
    "    #print(roc_auc_score(y_test, y_prob[:,1]))\n",
    "          \n",
    "    #model.append(algo)\n",
    "    precision.append(precision_score(y_test,y_pred))\n",
    "    recall.append(recall_score(y_test,y_pred))\n",
    "    F1score.append(f1_score(y_test,y_pred))\n",
    "    #AUCROC.append(roc_auc_score(y_test, y_prob[:,1]))\n",
    "    #resample.append(sampling)"
   ]
  },
  {
   "cell_type": "code",
   "execution_count": 57,
   "id": "13dec3d2",
   "metadata": {},
   "outputs": [
    {
     "name": "stdout",
     "output_type": "stream",
     "text": [
      "============================================================\n",
      "Classification Report\n",
      "============================================================\n",
      "              precision    recall  f1-score   support\n",
      "\n",
      "         0.0       0.87      0.95      0.91      2793\n",
      "         1.0       0.73      0.50      0.59       767\n",
      "\n",
      "    accuracy                           0.85      3560\n",
      "   macro avg       0.80      0.72      0.75      3560\n",
      "weighted avg       0.84      0.85      0.84      3560\n",
      " \n",
      "\n"
     ]
    }
   ],
   "source": [
    "test_eval(test_label, submission_xgb)"
   ]
  },
  {
   "cell_type": "code",
   "execution_count": 58,
   "id": "9f95304b",
   "metadata": {},
   "outputs": [
    {
     "name": "stdout",
     "output_type": "stream",
     "text": [
      "[[2654  139]\n",
      " [ 387  380]] \n",
      "\n"
     ]
    }
   ],
   "source": [
    " print(confusion_matrix(test_label,submission_xgb),\"\\n\")"
   ]
  },
  {
   "cell_type": "code",
   "execution_count": 59,
   "id": "fa484a49",
   "metadata": {},
   "outputs": [
    {
     "data": {
      "text/plain": [
       "<AxesSubplot:>"
      ]
     },
     "execution_count": 59,
     "metadata": {},
     "output_type": "execute_result"
    },
    {
     "data": {
      "image/png": "[encoded data removed]",
      "text/plain": [
       "<Figure size 640x480 with 2 Axes>"
      ]
     },
     "metadata": {},
     "output_type": "display_data"
    }
   ],
   "source": [
    "group_names = ['True Neg','False Pos','False Neg','True Pos']\n",
    "group_counts = [\"{0:0.0f}\".format(value) for value in\n",
    "                confusion_matrix(test_label,submission_xgb).flatten()]\n",
    "group_percentages = [\"{0:.2%}\".format(value) for value in\n",
    "                     confusion_matrix(test_label,submission_xgb).flatten()/np.sum(confusion_matrix(test_label,submission_xgb))]\n",
    "labels = [f\"{v1}\\n{v2}\\n{v3}\" for v1, v2, v3 in\n",
    "          zip(group_names,group_counts,group_percentages)]\n",
    "labels = np.asarray(labels).reshape(2,2)\n",
    "sns.heatmap(confusion_matrix(test_label,submission_xgb),fmt='', cmap='Blues', annot=labels)"
   ]
  },
  {
   "cell_type": "markdown",
   "id": "ebca93c3",
   "metadata": {},
   "source": [
    "https://github.com/arpcode/SMOTE-ADA-BOOST-COBRA/blob/main/Notebooks/SmoteAdaBoostedCC.ipynb"
   ]
  },
  {
   "cell_type": "markdown",
   "id": "cc418531",
   "metadata": {},
   "source": [
    "#### K-Fold Validation"
   ]
  },
  {
   "cell_type": "code",
   "execution_count": 60,
   "id": "ec15c820",
   "metadata": {},
   "outputs": [],
   "source": [
    "#Importing required libraries\n",
    "from sklearn.datasets import load_breast_cancer\n",
    "import pandas as pd\n",
    "from sklearn.model_selection import KFold \n",
    "from sklearn.linear_model import LogisticRegression\n",
    "from sklearn.metrics import accuracy_score"
   ]
  },
  {
   "cell_type": "markdown",
   "id": "68772682",
   "metadata": {},
   "source": [
    "#### Train Acuracy"
   ]
  },
  {
   "cell_type": "code",
   "execution_count": 61,
   "id": "de409efe",
   "metadata": {},
   "outputs": [
    {
     "name": "stdout",
     "output_type": "stream",
     "text": [
      "Accuracy: 85.14%\n"
     ]
    }
   ],
   "source": [
    "#Train Acuracy\n",
    "# k-fold cross validation evaluation of xgboost model\n",
    "from numpy import loadtxt\n",
    "import xgboost\n",
    "from sklearn.model_selection import KFold\n",
    "from sklearn.model_selection import cross_val_score\n",
    "\n",
    "kfold = KFold(n_splits=10, random_state=7, shuffle=True)\n",
    "results = cross_val_score(xgb_model, intermediate_output, train_label1, cv=kfold)\n",
    "print(\"Accuracy: %.2f%%\" % (results.mean()*100))"
   ]
  },
  {
   "cell_type": "markdown",
   "id": "d0ae8a18",
   "metadata": {},
   "source": [
    "#### Test Accuracy"
   ]
  },
  {
   "cell_type": "code",
   "execution_count": 62,
   "id": "4964bc8a",
   "metadata": {},
   "outputs": [
    {
     "name": "stdout",
     "output_type": "stream",
     "text": [
      "Accuracy: 82.36%\n"
     ]
    }
   ],
   "source": [
    "#Test Accuracy\n",
    "kfold = KFold(n_splits=10, random_state=7, shuffle=True)\n",
    "test_results = cross_val_score(xgb_model, intermediate_test_output, test_label, cv=kfold)\n",
    "#Test_results = cross_val_score(xgb_model, intermediate_output, val_label1, cv=kfold)\n",
    "#cv_results = cross_validate(xgb_model, X, y, cv=kfold, scoring=accuracy, verbose=10)\n",
    "print(\"Accuracy: %.2f%%\" % (test_results.mean()*100))\n"
   ]
  },
  {
   "cell_type": "code",
   "execution_count": null,
   "id": "49b32536",
   "metadata": {},
   "outputs": [],
   "source": []
  }
 ],
 "metadata": {
  "kernelspec": {
   "display_name": "Python 3 (ipykernel)",
   "language": "python",
   "name": "python3"
  },
  "language_info": {
   "codemirror_mode": {
    "name": "ipython",
    "version": 3
   },
   "file_extension": ".py",
   "mimetype": "text/x-python",
   "name": "python",
   "nbconvert_exporter": "python",
   "pygments_lexer": "ipython3",
   "version": "3.9.13"
  }
 },
 "nbformat": 4,
 "nbformat_minor": 5
}
