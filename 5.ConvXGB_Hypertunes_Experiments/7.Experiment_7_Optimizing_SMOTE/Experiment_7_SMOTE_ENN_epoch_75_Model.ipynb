{
 "cells": [
  {
   "cell_type": "markdown",
   "id": "8c2ca69f",
   "metadata": {},
   "source": [
    "## <font color=\"Blue\">Phishing URL Detection - ConvXGB Model</font>"
   ]
  },
  {
   "cell_type": "markdown",
   "id": "93fbed47",
   "metadata": {},
   "source": [
    "<b>GOAL:</b> This study employs new deep learning algorithm named \"ConvXGB\" to the field of cybersecurity in detecting phishing URL.</br>\n",
    "<b>Author :</b> Saravanan Muthuramalingam </br>\n",
    "<b>Purpose of this notebook :</b> This Notebook handles the following,\n",
    "    <li> Hyperparamter Tuning </li>\n",
    "    <li> EPOCH = 75 </li>\n",
    "    <li> Dropout = 0.5 </li>\n",
    "    <li>SMOTE ENN</li>\n",
    "    "
   ]
  },
  {
   "cell_type": "code",
   "execution_count": 1,
   "id": "38e771f2",
   "metadata": {},
   "outputs": [],
   "source": [
    "# import all required python libraries\n",
    "#-------------------------------------#\n",
    "# Statistics Libraries\n",
    "import numpy as np\n",
    "\n",
    "# Dataset related Libraires\n",
    "import pandas as pd \n",
    "import csv\n",
    "\n",
    "# Data Visualization Libraries\n",
    "import seaborn as sns\n",
    "import matplotlib.pyplot as plt\n",
    "\n",
    "# URL Parsing Libraries\n",
    "import urllib.parse\n",
    "from urllib.parse import urlparse\n",
    "from urllib.parse import urlsplit\n",
    "from urlpath import URL\n",
    "\n",
    "# OS and regular expression Libraries\n",
    "import re\n",
    "import glob\n",
    "import os\n",
    "\n",
    "# Image processing related Libraries\n",
    "from PIL import Image\n",
    "import cv2\n",
    "import skimage.measure\n",
    "import imghdr\n",
    "\n",
    "# Image validation related Libraries\n",
    "from difPy import dif\n",
    "from sklearn.preprocessing import OneHotEncoder\n",
    "\n",
    "# To Build CNN in Keras \n",
    "import keras\n",
    "from keras.models import Sequential\n",
    "from keras.layers import Dense, Dropout, Flatten\n",
    "from keras.layers import Conv2D, MaxPooling2D\n",
    "from keras.optimizers import SGD\n",
    "#from keras.layers.normalization import BatchNormalization\n",
    "from tensorflow.keras.layers import BatchNormalization\n",
    "from keras.layers import LeakyReLU\n",
    "from keras.models import Model\n",
    "from keras.preprocessing.image import ImageDataGenerator\n",
    "from keras.optimizers import Adam, Adadelta, RMSprop\n",
    "\n",
    "# XGBoost classification algorithm\n",
    "from xgboost import XGBClassifier\n",
    "\n",
    "# Perforrmance evaluation Librraries\n",
    "from sklearn.metrics import confusion_matrix, roc_auc_score, roc_curve, classification_report, precision_recall_curve\n",
    "from sklearn.metrics import accuracy_score, f1_score, precision_score, recall_score\n"
   ]
  },
  {
   "cell_type": "markdown",
   "id": "7a5c22c8",
   "metadata": {},
   "source": [
    "#### <font color='blue'>7. Splitting Train/Test Data</font>"
   ]
  },
  {
   "cell_type": "code",
   "execution_count": 2,
   "id": "667dcd92",
   "metadata": {},
   "outputs": [],
   "source": [
    "#spliting test and train\n",
    "#80% of the datasets is reserved for training the model\n",
    "raw_df = pd.read_csv(r'C:\\Users\\msara\\Desktop\\dataset\\preprocessed_data.csv')\n",
    "#raw_df = raw_df.drop(columns=['protocol'])\n",
    "raw_df['split'] = np.random.randn(raw_df.shape[0], 1)\n",
    "\n",
    "#msk = np.random.rand(len(raw_df)) <= 0.8\n",
    "\n",
    "#train = raw_df[msk]\n",
    "#test = raw_df[~msk]"
   ]
  },
  {
   "cell_type": "code",
   "execution_count": 3,
   "id": "fb37186e",
   "metadata": {},
   "outputs": [],
   "source": [
    "y = raw_df.pop('result')\n",
    "\n",
    "X = raw_df"
   ]
  },
  {
   "cell_type": "code",
   "execution_count": 4,
   "id": "0c8a65f2",
   "metadata": {},
   "outputs": [
    {
     "data": {
      "text/plain": [
       "Text(0.5, 1.0, 'Phishing vs Legitmate count')"
      ]
     },
     "execution_count": 4,
     "metadata": {},
     "output_type": "execute_result"
    },
    {
     "data": {
      "image/png": "[encoded data removed]",
      "text/plain": [
       "<Figure size 640x480 with 1 Axes>"
      ]
     },
     "metadata": {},
     "output_type": "display_data"
    }
   ],
   "source": [
    "#before class imablance\n",
    "y.value_counts().plot.bar()\n",
    "plt.title(\"Phishing vs Legitmate count\")"
   ]
  },
  {
   "cell_type": "code",
   "execution_count": 5,
   "id": "38727bb9",
   "metadata": {},
   "outputs": [
    {
     "data": {
      "text/plain": [
       "0    13948\n",
       "1     3735\n",
       "Name: result, dtype: int64"
      ]
     },
     "execution_count": 5,
     "metadata": {},
     "output_type": "execute_result"
    }
   ],
   "source": [
    "y.value_counts()"
   ]
  },
  {
   "cell_type": "code",
   "execution_count": 6,
   "id": "c9e80fd4",
   "metadata": {},
   "outputs": [
    {
     "name": "stdout",
     "output_type": "stream",
     "text": [
      "class 0: 78.24868183941801 %\n",
      "class 1: 21.75131816058199\n"
     ]
    }
   ],
   "source": [
    "print(\"class 0:\",11724 *100/(11724+3259),\"%\")\n",
    "print(\"class 1:\",3259* 100/(11724+3259))"
   ]
  },
  {
   "cell_type": "code",
   "execution_count": 7,
   "id": "75564749",
   "metadata": {},
   "outputs": [
    {
     "name": "stdout",
     "output_type": "stream",
     "text": [
      "(17683, 786)\n",
      "(17683,)\n"
     ]
    }
   ],
   "source": [
    "print(X.shape)\n",
    "print(y.shape)"
   ]
  },
  {
   "cell_type": "markdown",
   "id": "543d279e",
   "metadata": {},
   "source": [
    "#### Handling Class Imbalance"
   ]
  },
  {
   "cell_type": "code",
   "execution_count": 8,
   "id": "f45d900d",
   "metadata": {},
   "outputs": [],
   "source": [
    "#classs imabalance\n",
    "#from imblearn.over_sampling import SMOTE\n",
    "#from imblearn.over_sampling import ADASYN\n",
    "from imblearn.combine import SMOTEENN\n",
    "\n",
    "sm = SMOTEENN(random_state=42)\n",
    "X_res, y_res = sm.fit_resample(X, y)"
   ]
  },
  {
   "cell_type": "code",
   "execution_count": 9,
   "id": "20035483",
   "metadata": {},
   "outputs": [
    {
     "name": "stdout",
     "output_type": "stream",
     "text": [
      "(18419, 786)\n",
      "(18419,)\n"
     ]
    }
   ],
   "source": [
    "#Oversampling results\n",
    "print(X_res.shape)\n",
    "print(y_res.shape)"
   ]
  },
  {
   "cell_type": "code",
   "execution_count": 10,
   "id": "5a62d2d8",
   "metadata": {},
   "outputs": [],
   "source": [
    "new_df = pd.concat([X_res,y_res],axis=1)"
   ]
  },
  {
   "cell_type": "code",
   "execution_count": 11,
   "id": "2694edc4",
   "metadata": {},
   "outputs": [
    {
     "data": {
      "text/html": [
       "<div>\n",
       "<style scoped>\n",
       "    .dataframe tbody tr th:only-of-type {\n",
       "        vertical-align: middle;\n",
       "    }\n",
       "\n",
       "    .dataframe tbody tr th {\n",
       "        vertical-align: top;\n",
       "    }\n",
       "\n",
       "    .dataframe thead th {\n",
       "        text-align: right;\n",
       "    }\n",
       "</style>\n",
       "<table border=\"1\" class=\"dataframe\">\n",
       "  <thead>\n",
       "    <tr style=\"text-align: right;\">\n",
       "      <th></th>\n",
       "      <th>Unnamed: 0</th>\n",
       "      <th>pixel2</th>\n",
       "      <th>pixel3</th>\n",
       "      <th>pixel4</th>\n",
       "      <th>pixel5</th>\n",
       "      <th>pixel6</th>\n",
       "      <th>pixel7</th>\n",
       "      <th>pixel8</th>\n",
       "      <th>pixel9</th>\n",
       "      <th>pixel10</th>\n",
       "      <th>...</th>\n",
       "      <th>pixel778</th>\n",
       "      <th>pixel779</th>\n",
       "      <th>pixel780</th>\n",
       "      <th>pixel781</th>\n",
       "      <th>pixel782</th>\n",
       "      <th>pixel783</th>\n",
       "      <th>pixel784</th>\n",
       "      <th>pixel785</th>\n",
       "      <th>split</th>\n",
       "      <th>result</th>\n",
       "    </tr>\n",
       "  </thead>\n",
       "  <tbody>\n",
       "    <tr>\n",
       "      <th>0</th>\n",
       "      <td>6</td>\n",
       "      <td>253.0</td>\n",
       "      <td>253.0</td>\n",
       "      <td>253.0</td>\n",
       "      <td>253.0</td>\n",
       "      <td>253.0</td>\n",
       "      <td>230.0</td>\n",
       "      <td>231.0</td>\n",
       "      <td>232.0</td>\n",
       "      <td>236.0</td>\n",
       "      <td>...</td>\n",
       "      <td>246.0</td>\n",
       "      <td>242.0</td>\n",
       "      <td>248.0</td>\n",
       "      <td>252.0</td>\n",
       "      <td>252.0</td>\n",
       "      <td>252.0</td>\n",
       "      <td>252.0</td>\n",
       "      <td>252.0</td>\n",
       "      <td>1.900053</td>\n",
       "      <td>0</td>\n",
       "    </tr>\n",
       "    <tr>\n",
       "      <th>1</th>\n",
       "      <td>23</td>\n",
       "      <td>38.0</td>\n",
       "      <td>38.0</td>\n",
       "      <td>38.0</td>\n",
       "      <td>38.0</td>\n",
       "      <td>37.0</td>\n",
       "      <td>43.0</td>\n",
       "      <td>49.0</td>\n",
       "      <td>44.0</td>\n",
       "      <td>44.0</td>\n",
       "      <td>...</td>\n",
       "      <td>30.0</td>\n",
       "      <td>30.0</td>\n",
       "      <td>30.0</td>\n",
       "      <td>30.0</td>\n",
       "      <td>30.0</td>\n",
       "      <td>28.0</td>\n",
       "      <td>46.0</td>\n",
       "      <td>40.0</td>\n",
       "      <td>2.699743</td>\n",
       "      <td>0</td>\n",
       "    </tr>\n",
       "    <tr>\n",
       "      <th>2</th>\n",
       "      <td>44</td>\n",
       "      <td>39.0</td>\n",
       "      <td>39.0</td>\n",
       "      <td>39.0</td>\n",
       "      <td>39.0</td>\n",
       "      <td>40.0</td>\n",
       "      <td>38.0</td>\n",
       "      <td>59.0</td>\n",
       "      <td>55.0</td>\n",
       "      <td>37.0</td>\n",
       "      <td>...</td>\n",
       "      <td>0.0</td>\n",
       "      <td>0.0</td>\n",
       "      <td>0.0</td>\n",
       "      <td>0.0</td>\n",
       "      <td>0.0</td>\n",
       "      <td>0.0</td>\n",
       "      <td>0.0</td>\n",
       "      <td>0.0</td>\n",
       "      <td>1.389748</td>\n",
       "      <td>0</td>\n",
       "    </tr>\n",
       "    <tr>\n",
       "      <th>3</th>\n",
       "      <td>59</td>\n",
       "      <td>108.0</td>\n",
       "      <td>71.0</td>\n",
       "      <td>75.0</td>\n",
       "      <td>66.0</td>\n",
       "      <td>71.0</td>\n",
       "      <td>94.0</td>\n",
       "      <td>84.0</td>\n",
       "      <td>83.0</td>\n",
       "      <td>107.0</td>\n",
       "      <td>...</td>\n",
       "      <td>51.0</td>\n",
       "      <td>49.0</td>\n",
       "      <td>50.0</td>\n",
       "      <td>50.0</td>\n",
       "      <td>50.0</td>\n",
       "      <td>50.0</td>\n",
       "      <td>50.0</td>\n",
       "      <td>50.0</td>\n",
       "      <td>0.003609</td>\n",
       "      <td>0</td>\n",
       "    </tr>\n",
       "    <tr>\n",
       "      <th>4</th>\n",
       "      <td>90</td>\n",
       "      <td>10.0</td>\n",
       "      <td>6.0</td>\n",
       "      <td>3.0</td>\n",
       "      <td>2.0</td>\n",
       "      <td>0.0</td>\n",
       "      <td>4.0</td>\n",
       "      <td>2.0</td>\n",
       "      <td>0.0</td>\n",
       "      <td>4.0</td>\n",
       "      <td>...</td>\n",
       "      <td>10.0</td>\n",
       "      <td>10.0</td>\n",
       "      <td>10.0</td>\n",
       "      <td>10.0</td>\n",
       "      <td>10.0</td>\n",
       "      <td>10.0</td>\n",
       "      <td>10.0</td>\n",
       "      <td>10.0</td>\n",
       "      <td>-1.709667</td>\n",
       "      <td>0</td>\n",
       "    </tr>\n",
       "  </tbody>\n",
       "</table>\n",
       "<p>5 rows × 787 columns</p>\n",
       "</div>"
      ],
      "text/plain": [
       "   Unnamed: 0  pixel2  pixel3  pixel4  pixel5  pixel6  pixel7  pixel8  pixel9  \\\n",
       "0           6   253.0   253.0   253.0   253.0   253.0   230.0   231.0   232.0   \n",
       "1          23    38.0    38.0    38.0    38.0    37.0    43.0    49.0    44.0   \n",
       "2          44    39.0    39.0    39.0    39.0    40.0    38.0    59.0    55.0   \n",
       "3          59   108.0    71.0    75.0    66.0    71.0    94.0    84.0    83.0   \n",
       "4          90    10.0     6.0     3.0     2.0     0.0     4.0     2.0     0.0   \n",
       "\n",
       "   pixel10  ...  pixel778  pixel779  pixel780  pixel781  pixel782  pixel783  \\\n",
       "0    236.0  ...     246.0     242.0     248.0     252.0     252.0     252.0   \n",
       "1     44.0  ...      30.0      30.0      30.0      30.0      30.0      28.0   \n",
       "2     37.0  ...       0.0       0.0       0.0       0.0       0.0       0.0   \n",
       "3    107.0  ...      51.0      49.0      50.0      50.0      50.0      50.0   \n",
       "4      4.0  ...      10.0      10.0      10.0      10.0      10.0      10.0   \n",
       "\n",
       "   pixel784  pixel785     split  result  \n",
       "0     252.0     252.0  1.900053       0  \n",
       "1      46.0      40.0  2.699743       0  \n",
       "2       0.0       0.0  1.389748       0  \n",
       "3      50.0      50.0  0.003609       0  \n",
       "4      10.0      10.0 -1.709667       0  \n",
       "\n",
       "[5 rows x 787 columns]"
      ]
     },
     "execution_count": 11,
     "metadata": {},
     "output_type": "execute_result"
    }
   ],
   "source": [
    "new_df.head(5)"
   ]
  },
  {
   "cell_type": "code",
   "execution_count": 12,
   "id": "9ee620d4",
   "metadata": {},
   "outputs": [
    {
     "data": {
      "text/plain": [
       "<AxesSubplot:>"
      ]
     },
     "execution_count": 12,
     "metadata": {},
     "output_type": "execute_result"
    },
    {
     "data": {
      "image/png": "[encoded data removed]",
      "text/plain": [
       "<Figure size 640x480 with 1 Axes>"
      ]
     },
     "metadata": {},
     "output_type": "display_data"
    }
   ],
   "source": [
    "#after class imablance\n",
    "y_res.value_counts().plot.bar()"
   ]
  },
  {
   "cell_type": "code",
   "execution_count": 13,
   "id": "e365a1c3",
   "metadata": {},
   "outputs": [
    {
     "data": {
      "text/plain": [
       "(18419, 785)"
      ]
     },
     "execution_count": 13,
     "metadata": {},
     "output_type": "execute_result"
    }
   ],
   "source": [
    "raw_df = new_df.copy()\n",
    "raw_df = raw_df.drop(['Unnamed: 0', 'split'],axis=1)\n",
    "raw_df.shape"
   ]
  },
  {
   "cell_type": "markdown",
   "id": "0623c254",
   "metadata": {},
   "source": [
    "#### <font color='blue'>9. Train/Test Data Pre-processing</font>"
   ]
  },
  {
   "cell_type": "code",
   "execution_count": 14,
   "id": "30e35d8b",
   "metadata": {},
   "outputs": [],
   "source": [
    "# Removing unwanted columns from train dataset\n",
    "#train = train.drop(['Unnamed: 0', 'protocol','split'],axis=1)\n",
    "#print(\"Train_data shape:\", train.shape)\n",
    "\n",
    "# Removing unwanted columns from test dataset\n",
    "#test = test.drop(['Unnamed: 0', 'protocol', 'split'],axis=1)\n",
    "#print(\"Test_data shape:\", test.shape)"
   ]
  },
  {
   "cell_type": "code",
   "execution_count": 15,
   "id": "ad47a71d",
   "metadata": {},
   "outputs": [],
   "source": [
    "msk = np.random.rand(len(raw_df)) <= 0.7\n",
    "\n",
    "train = raw_df[msk]\n",
    "test = raw_df[~msk]"
   ]
  },
  {
   "cell_type": "code",
   "execution_count": 16,
   "id": "5790b130",
   "metadata": {},
   "outputs": [
    {
     "name": "stdout",
     "output_type": "stream",
     "text": [
      "(12945, 785)\n",
      "(5474, 785)\n"
     ]
    }
   ],
   "source": [
    "print(train.shape)\n",
    "print(test.shape)"
   ]
  },
  {
   "cell_type": "code",
   "execution_count": 17,
   "id": "8c3ef086",
   "metadata": {},
   "outputs": [
    {
     "name": "stdout",
     "output_type": "stream",
     "text": [
      "train shape: (12945, 785)\n",
      "val shape: (5074, 785)\n",
      "train_label shape: (12945,)\n",
      "val_label shape: (5074,)\n",
      "train_image shape: (12945, 784)\n",
      "val_image shape: (5074, 784)\n",
      "test_image shape: (5474, 784)\n",
      "test_label shape: (5474,)\n"
     ]
    }
   ],
   "source": [
    "#converting the data to appropripate shapes using numpy\n",
    "train_data = train[:]\n",
    "val_data = test[400:]\n",
    "train_label = np.float32(train_data.result)\n",
    "val_label = np.float32(val_data.result)\n",
    "train_image = np.float32(train_data[train_data.columns[1:]])\n",
    "val_image = np.float32(val_data[val_data.columns[1:]])\n",
    "test_image = np.float32(test[test.columns[1:]])\n",
    "test_label = np.float32(test.result)\n",
    "print('train shape: %s'%str(train_data.shape))\n",
    "print('val shape: %s'%str(val_data.shape))\n",
    "print('train_label shape: %s'%str(train_label.shape))\n",
    "print('val_label shape: %s'%str(val_label.shape))\n",
    "print('train_image shape: %s'%str(train_image.shape))\n",
    "print('val_image shape: %s'%str(val_image.shape))\n",
    "print('test_image shape: %s'%str(test_image.shape))\n",
    "print('test_label shape: %s'%str(test_label.shape))"
   ]
  },
  {
   "cell_type": "code",
   "execution_count": 18,
   "id": "29b95873",
   "metadata": {},
   "outputs": [
    {
     "name": "stdout",
     "output_type": "stream",
     "text": [
      "(12945, 784)\n",
      "(12945, 784)\n",
      "train_image shape: (12945, 28, 28, 1)\n",
      "train_image shape: (12945, 28, 28, 1)\n",
      "val_image shape: (5074, 28, 28, 1)\n",
      "(5074,)\n"
     ]
    }
   ],
   "source": [
    "\n",
    "\n",
    "plt.show()\n",
    "print(train_image.shape)\n",
    "\n",
    "train_image = train_image/255.0\n",
    "val_image = val_image/255.0\n",
    "test_image = test_image/255.0\n",
    "\n",
    "print(train_image.shape)\n",
    "\n",
    "#28 x 28 = 784\n",
    "train_image = train_image.reshape(train_image.shape[0],28,28,1)\n",
    "val_image = val_image.reshape(val_image.shape[0],28,28,1)\n",
    "test_image = test_image.reshape(test_image.shape[0],28,28,1)\n",
    "\n",
    "\n",
    "print('train_image shape: %s'%str(train_image.shape))\n",
    "\n",
    "print('train_image shape: %s'%str(train_image.shape))\n",
    "print('val_image shape: %s'%str(val_image.shape))\n",
    "\n",
    "train_label1 = train_label\n",
    "val_label1 = val_label\n",
    "print(val_label1.shape)"
   ]
  },
  {
   "cell_type": "markdown",
   "id": "5a2f8802",
   "metadata": {},
   "source": [
    "#### <font color='blue'>10. One Hot Encoding</font>"
   ]
  },
  {
   "cell_type": "code",
   "execution_count": 19,
   "id": "8e8c379b",
   "metadata": {},
   "outputs": [
    {
     "name": "stdout",
     "output_type": "stream",
     "text": [
      "train_label shape: (12945, 10)\n",
      "val_label shape: (5074, 10)\n"
     ]
    }
   ],
   "source": [
    "#onehot encoding\n",
    "encoder = OneHotEncoder(sparse=False,categories='auto')\n",
    "yy = [[0],[1],[2],[3],[4],[5],[6],[7],[8],[9]]\n",
    "encoder.fit(yy)\n",
    "# transform\n",
    "train_label = train_label.reshape(-1,1)\n",
    "val_label = val_label.reshape(-1,1)\n",
    "\n",
    "train_label = encoder.transform(train_label)\n",
    "val_label = encoder.transform(val_label)\n",
    "\n",
    "print('train_label shape: %s'%str(train_label.shape))\n",
    "print('val_label shape: %s'%str(val_label.shape))"
   ]
  },
  {
   "cell_type": "markdown",
   "id": "a4877b91",
   "metadata": {
    "scrolled": true
   },
   "source": [
    "#### <font color='blue'> 11. CNN Model Building </font>"
   ]
  },
  {
   "cell_type": "code",
   "execution_count": 20,
   "id": "9751ccc4",
   "metadata": {},
   "outputs": [
    {
     "name": "stdout",
     "output_type": "stream",
     "text": [
      "Model: \"sequential\"\n",
      "_________________________________________________________________\n",
      " Layer (type)                Output Shape              Param #   \n",
      "=================================================================\n",
      " conv2d (Conv2D)             (None, 28, 28, 32)        320       \n",
      "                                                                 \n",
      " batch_normalization (BatchN  (None, 28, 28, 32)       128       \n",
      " ormalization)                                                   \n",
      "                                                                 \n",
      " leaky_re_lu (LeakyReLU)     (None, 28, 28, 32)        0         \n",
      "                                                                 \n",
      " conv2d_1 (Conv2D)           (None, 28, 28, 32)        9248      \n",
      "                                                                 \n",
      " batch_normalization_1 (Batc  (None, 28, 28, 32)       128       \n",
      " hNormalization)                                                 \n",
      "                                                                 \n",
      " leaky_re_lu_1 (LeakyReLU)   (None, 28, 28, 32)        0         \n",
      "                                                                 \n",
      " max_pooling2d (MaxPooling2D  (None, 14, 14, 32)       0         \n",
      " )                                                               \n",
      "                                                                 \n",
      " dropout (Dropout)           (None, 14, 14, 32)        0         \n",
      "                                                                 \n",
      " conv2d_2 (Conv2D)           (None, 14, 14, 64)        18496     \n",
      "                                                                 \n",
      " batch_normalization_2 (Batc  (None, 14, 14, 64)       256       \n",
      " hNormalization)                                                 \n",
      "                                                                 \n",
      " leaky_re_lu_2 (LeakyReLU)   (None, 14, 14, 64)        0         \n",
      "                                                                 \n",
      " conv2d_3 (Conv2D)           (None, 14, 14, 64)        36928     \n",
      "                                                                 \n",
      " batch_normalization_3 (Batc  (None, 14, 14, 64)       256       \n",
      " hNormalization)                                                 \n",
      "                                                                 \n",
      " leaky_re_lu_3 (LeakyReLU)   (None, 14, 14, 64)        0         \n",
      "                                                                 \n",
      " max_pooling2d_1 (MaxPooling  (None, 7, 7, 64)         0         \n",
      " 2D)                                                             \n",
      "                                                                 \n",
      " dropout_1 (Dropout)         (None, 7, 7, 64)          0         \n",
      "                                                                 \n",
      " conv2d_4 (Conv2D)           (None, 7, 7, 128)         204928    \n",
      "                                                                 \n",
      " batch_normalization_4 (Batc  (None, 7, 7, 128)        512       \n",
      " hNormalization)                                                 \n",
      "                                                                 \n",
      " leaky_re_lu_4 (LeakyReLU)   (None, 7, 7, 128)         0         \n",
      "                                                                 \n",
      " conv2d_5 (Conv2D)           (None, 7, 7, 128)         409728    \n",
      "                                                                 \n",
      " batch_normalization_5 (Batc  (None, 7, 7, 128)        512       \n",
      " hNormalization)                                                 \n",
      "                                                                 \n",
      " leaky_re_lu_5 (LeakyReLU)   (None, 7, 7, 128)         0         \n",
      "                                                                 \n",
      " max_pooling2d_2 (MaxPooling  (None, 3, 3, 128)        0         \n",
      " 2D)                                                             \n",
      "                                                                 \n",
      " dropout_2 (Dropout)         (None, 3, 3, 128)         0         \n",
      "                                                                 \n",
      " conv2d_6 (Conv2D)           (None, 3, 3, 256)         819456    \n",
      "                                                                 \n",
      " batch_normalization_6 (Batc  (None, 3, 3, 256)        1024      \n",
      " hNormalization)                                                 \n",
      "                                                                 \n",
      " leaky_re_lu_6 (LeakyReLU)   (None, 3, 3, 256)         0         \n",
      "                                                                 \n",
      " conv2d_7 (Conv2D)           (None, 3, 3, 256)         1638656   \n",
      "                                                                 \n",
      " batch_normalization_7 (Batc  (None, 3, 3, 256)        1024      \n",
      " hNormalization)                                                 \n",
      "                                                                 \n",
      " leaky_re_lu_7 (LeakyReLU)   (None, 3, 3, 256)         0         \n",
      "                                                                 \n",
      " max_pooling2d_3 (MaxPooling  (None, 1, 1, 256)        0         \n",
      " 2D)                                                             \n",
      "                                                                 \n",
      " dropout_3 (Dropout)         (None, 1, 1, 256)         0         \n",
      "                                                                 \n",
      " flatten (Flatten)           (None, 256)               0         \n",
      "                                                                 \n",
      " my_dense (Dense)            (None, 256)               65792     \n",
      "                                                                 \n",
      " dropout_4 (Dropout)         (None, 256)               0         \n",
      "                                                                 \n",
      " dense (Dense)               (None, 128)               32896     \n",
      "                                                                 \n",
      " dropout_5 (Dropout)         (None, 128)               0         \n",
      "                                                                 \n",
      " dense_1 (Dense)             (None, 10)                1290      \n",
      "                                                                 \n",
      "=================================================================\n",
      "Total params: 3,241,578\n",
      "Trainable params: 3,239,658\n",
      "Non-trainable params: 1,920\n",
      "_________________________________________________________________\n"
     ]
    }
   ],
   "source": [
    "#CNN Model Building\n",
    "model = Sequential()\n",
    "# input: 28x28 images with 1 channels -> (28, 28, 1) tensors.\n",
    "#REason for having grey scale 1 channel\n",
    "# https://stackoverflow.com/questions/53044116/difference-between-grayscale-images-represented-by-3-channels-and-1-channel-in-c#:~:text=The%20information%20given%20by%20the,take%20more%20time%20to%20compute\n",
    "# this applies 32 convolution filters of size 3x3 each.\n",
    "# First two convolution layer has 32 Feature Maps\n",
    "model.add(Conv2D(32, (3, 3), activation='relu', input_shape=(28, 28, 1),padding='same'))\n",
    "model.add(BatchNormalization(momentum=0.9, epsilon=1e-5, gamma_initializer=\"uniform\"))\n",
    "model.add(LeakyReLU(alpha=0.1))\n",
    "model.add(Conv2D(32, (3, 3), activation='relu',padding='same'))\n",
    "model.add(BatchNormalization(momentum=0.9, epsilon=1e-5, gamma_initializer=\"uniform\"))\n",
    "model.add(LeakyReLU(alpha=0.1))\n",
    "model.add(MaxPooling2D(pool_size=(2, 2)))\n",
    "model.add(Dropout(0.5))\n",
    "\n",
    "# Subsequent two convolution layer has 64 Feature Maps\n",
    "model.add(Conv2D(64, (3, 3), activation='relu',padding='same'))\n",
    "model.add(BatchNormalization(momentum=0.9, epsilon=1e-5, gamma_initializer=\"uniform\"))\n",
    "model.add(LeakyReLU(alpha=0.1))\n",
    "model.add(Conv2D(64, (3, 3), activation='relu',padding='same'))\n",
    "model.add(BatchNormalization(momentum=0.9, epsilon=1e-5, gamma_initializer=\"uniform\"))\n",
    "model.add(LeakyReLU(alpha=0.1))\n",
    "model.add(MaxPooling2D(pool_size=(2, 2)))\n",
    "model.add(Dropout(0.5))\n",
    "\n",
    "# Next two convolution layer has 128 Feature Maps\n",
    "model.add(Conv2D(128, kernel_size=5, activation='relu',padding='same'))\n",
    "model.add(BatchNormalization(momentum=0.9, epsilon=1e-5, gamma_initializer=\"uniform\"))\n",
    "model.add(LeakyReLU(alpha=0.1))\n",
    "model.add(Conv2D(128, kernel_size=5, activation='relu',padding='same'))\n",
    "model.add(BatchNormalization(momentum=0.9, epsilon=1e-5, gamma_initializer=\"uniform\"))\n",
    "model.add(LeakyReLU(alpha=0.1))\n",
    "model.add(MaxPooling2D(pool_size=(2, 2)))\n",
    "model.add(Dropout(0.5))\n",
    "\n",
    "# Final two convolution layer has 128 Feature Maps\n",
    "model.add(Conv2D(256, kernel_size=5, activation='relu',padding='same'))\n",
    "model.add(BatchNormalization(momentum=0.9, epsilon=1e-5, gamma_initializer=\"uniform\"))\n",
    "model.add(LeakyReLU(alpha=0.1))\n",
    "model.add(Conv2D(256, kernel_size=5, activation='relu',padding='same'))\n",
    "model.add(BatchNormalization(momentum=0.9, epsilon=1e-5, gamma_initializer=\"uniform\"))\n",
    "model.add(LeakyReLU(alpha=0.1))\n",
    "model.add(MaxPooling2D(pool_size=(2, 2)))\n",
    "model.add(Dropout(0.5))\n",
    "\n",
    "\n",
    "model.add(Flatten())\n",
    "\n",
    "\n",
    "# Dense Layer\n",
    "#model = keras.applications.inception_v3.InceptionV3(weights= None, include_top=False, input_shape= (28,28,1))\n",
    "model.add(Dense(256, activation='relu', name='my_dense'))\n",
    "model.add(Dropout(0.5))\n",
    "model.add(Dense(128, activation='relu'))\n",
    "model.add(Dropout(0.5))\n",
    "model.add(Dense(10, activation='softmax'))\n",
    "\n",
    "#sgd = SGD(lr=0.01, decay=1e-6, momentum=0.9, nesterov=True)\n",
    "#model.compile(loss='categorical_crossentropy', optimizer=sgd)\n",
    "\n",
    "model.summary()"
   ]
  },
  {
   "cell_type": "markdown",
   "id": "e0b3e2df",
   "metadata": {},
   "source": [
    "#### <font color='blue'> 11. Creating Intermediate Layer </font>"
   ]
  },
  {
   "cell_type": "code",
   "execution_count": 21,
   "id": "b60cd20b",
   "metadata": {},
   "outputs": [
    {
     "name": "stdout",
     "output_type": "stream",
     "text": [
      "Model: \"model\"\n",
      "_________________________________________________________________\n",
      " Layer (type)                Output Shape              Param #   \n",
      "=================================================================\n",
      " conv2d_input (InputLayer)   [(None, 28, 28, 1)]       0         \n",
      "                                                                 \n",
      " conv2d (Conv2D)             (None, 28, 28, 32)        320       \n",
      "                                                                 \n",
      " batch_normalization (BatchN  (None, 28, 28, 32)       128       \n",
      " ormalization)                                                   \n",
      "                                                                 \n",
      " leaky_re_lu (LeakyReLU)     (None, 28, 28, 32)        0         \n",
      "                                                                 \n",
      " conv2d_1 (Conv2D)           (None, 28, 28, 32)        9248      \n",
      "                                                                 \n",
      " batch_normalization_1 (Batc  (None, 28, 28, 32)       128       \n",
      " hNormalization)                                                 \n",
      "                                                                 \n",
      " leaky_re_lu_1 (LeakyReLU)   (None, 28, 28, 32)        0         \n",
      "                                                                 \n",
      " max_pooling2d (MaxPooling2D  (None, 14, 14, 32)       0         \n",
      " )                                                               \n",
      "                                                                 \n",
      " dropout (Dropout)           (None, 14, 14, 32)        0         \n",
      "                                                                 \n",
      " conv2d_2 (Conv2D)           (None, 14, 14, 64)        18496     \n",
      "                                                                 \n",
      " batch_normalization_2 (Batc  (None, 14, 14, 64)       256       \n",
      " hNormalization)                                                 \n",
      "                                                                 \n",
      " leaky_re_lu_2 (LeakyReLU)   (None, 14, 14, 64)        0         \n",
      "                                                                 \n",
      " conv2d_3 (Conv2D)           (None, 14, 14, 64)        36928     \n",
      "                                                                 \n",
      " batch_normalization_3 (Batc  (None, 14, 14, 64)       256       \n",
      " hNormalization)                                                 \n",
      "                                                                 \n",
      " leaky_re_lu_3 (LeakyReLU)   (None, 14, 14, 64)        0         \n",
      "                                                                 \n",
      " max_pooling2d_1 (MaxPooling  (None, 7, 7, 64)         0         \n",
      " 2D)                                                             \n",
      "                                                                 \n",
      " dropout_1 (Dropout)         (None, 7, 7, 64)          0         \n",
      "                                                                 \n",
      " conv2d_4 (Conv2D)           (None, 7, 7, 128)         204928    \n",
      "                                                                 \n",
      " batch_normalization_4 (Batc  (None, 7, 7, 128)        512       \n",
      " hNormalization)                                                 \n",
      "                                                                 \n",
      " leaky_re_lu_4 (LeakyReLU)   (None, 7, 7, 128)         0         \n",
      "                                                                 \n",
      " conv2d_5 (Conv2D)           (None, 7, 7, 128)         409728    \n",
      "                                                                 \n",
      " batch_normalization_5 (Batc  (None, 7, 7, 128)        512       \n",
      " hNormalization)                                                 \n",
      "                                                                 \n",
      " leaky_re_lu_5 (LeakyReLU)   (None, 7, 7, 128)         0         \n",
      "                                                                 \n",
      " max_pooling2d_2 (MaxPooling  (None, 3, 3, 128)        0         \n",
      " 2D)                                                             \n",
      "                                                                 \n",
      " dropout_2 (Dropout)         (None, 3, 3, 128)         0         \n",
      "                                                                 \n",
      " conv2d_6 (Conv2D)           (None, 3, 3, 256)         819456    \n",
      "                                                                 \n",
      " batch_normalization_6 (Batc  (None, 3, 3, 256)        1024      \n",
      " hNormalization)                                                 \n",
      "                                                                 \n",
      " leaky_re_lu_6 (LeakyReLU)   (None, 3, 3, 256)         0         \n",
      "                                                                 \n",
      " conv2d_7 (Conv2D)           (None, 3, 3, 256)         1638656   \n",
      "                                                                 \n",
      " batch_normalization_7 (Batc  (None, 3, 3, 256)        1024      \n",
      " hNormalization)                                                 \n",
      "                                                                 \n",
      " leaky_re_lu_7 (LeakyReLU)   (None, 3, 3, 256)         0         \n",
      "                                                                 \n",
      " max_pooling2d_3 (MaxPooling  (None, 1, 1, 256)        0         \n",
      " 2D)                                                             \n",
      "                                                                 \n",
      " dropout_3 (Dropout)         (None, 1, 1, 256)         0         \n",
      "                                                                 \n",
      " flatten (Flatten)           (None, 256)               0         \n",
      "                                                                 \n",
      " my_dense (Dense)            (None, 256)               65792     \n",
      "                                                                 \n",
      "=================================================================\n",
      "Total params: 3,207,392\n",
      "Trainable params: 3,205,472\n",
      "Non-trainable params: 1,920\n",
      "_________________________________________________________________\n"
     ]
    }
   ],
   "source": [
    "#Crating a Intermediate Layer from the CNN's dense layer\n",
    "layer_name='my_dense'\n",
    "intermediate_layer_model = Model(inputs=model.input,\n",
    "                                 outputs=model.get_layer(layer_name).output)\n",
    "\n",
    "intermediate_layer_model.summary()"
   ]
  },
  {
   "cell_type": "markdown",
   "id": "5db1da83",
   "metadata": {},
   "source": [
    "#### <font color='blue'> 12. Data Augmentation </font>"
   ]
  },
  {
   "cell_type": "markdown",
   "id": "15b27c8a",
   "metadata": {},
   "source": [
    "The ImageDataGenerator class in Keras is used for implementing image augmentation. The major advantage of the Keras ImageDataGenerator class is its ability to produce real-time image augmentation. This simply means it can generate augmented images dynamically during the training of the model making the overall mode more robust and accurate."
   ]
  },
  {
   "cell_type": "raw",
   "id": "fc5be936",
   "metadata": {},
   "source": [
    "# Data Augmentation using keras\n",
    "datagen = ImageDataGenerator(\n",
    "    rotation_range=15,\n",
    "    width_shift_range=0.2,\n",
    "    height_shift_range=0.2,\n",
    "    shear_range = 15,\n",
    "    horizontal_flip = False,\n",
    "    zoom_range = 0.20)"
   ]
  },
  {
   "cell_type": "markdown",
   "id": "d489c108",
   "metadata": {},
   "source": [
    "#### <font color='blue'> 13. Optimisation </font>"
   ]
  },
  {
   "cell_type": "raw",
   "id": "9beb6633",
   "metadata": {},
   "source": [
    "#0ptimisation - Need to understand how the validation accuracy is compared here for feature extraction\n",
    "#from keras.optimizers import Adam, Adadelta, RMSprop\n",
    "\n",
    "#model.compile(loss='categorical_crossentropy',optimizer=Adam(),metrics=['accuracy'])\n",
    "intermediate_layer_model.compile(loss='categorical_crossentropy',optimizer=Adam(),metrics=['accuracy'])\n",
    "datagen.fit(train_image)\n",
    "\n",
    "# training\n",
    "history = intermediate_layer_model.fit_generator(datagen.flow(train_image,train_label1),\n",
    "                              epochs = 2, #epoch,batch_size can try with different values 50,100,\n",
    "                              shuffle=True,\n",
    "                              validation_data = (val_image,val_label),\n",
    "                              verbose = 1,\n",
    "                              steps_per_epoch=train_image.shape[0] // 32) #ned to change as per above"
   ]
  },
  {
   "cell_type": "code",
   "execution_count": 22,
   "id": "d8f08fce",
   "metadata": {},
   "outputs": [
    {
     "name": "stdout",
     "output_type": "stream",
     "text": [
      "Epoch 1/75\n",
      "404/404 [==============================] - 94s 227ms/step - loss: 0.5444 - accuracy: 0.7468 - val_loss: 0.4835 - val_accuracy: 0.7868\n",
      "Epoch 2/75\n",
      "404/404 [==============================] - 89s 220ms/step - loss: 0.4259 - accuracy: 0.7989 - val_loss: 0.3684 - val_accuracy: 0.8327\n",
      "Epoch 3/75\n",
      "404/404 [==============================] - 88s 219ms/step - loss: 0.4065 - accuracy: 0.8134 - val_loss: 0.3897 - val_accuracy: 0.8309\n",
      "Epoch 4/75\n",
      "404/404 [==============================] - 91s 226ms/step - loss: 0.3939 - accuracy: 0.8180 - val_loss: 0.3715 - val_accuracy: 0.8350\n",
      "Epoch 5/75\n",
      "404/404 [==============================] - 91s 225ms/step - loss: 0.3852 - accuracy: 0.8214 - val_loss: 0.3401 - val_accuracy: 0.8441\n",
      "Epoch 6/75\n",
      "404/404 [==============================] - 92s 228ms/step - loss: 0.3842 - accuracy: 0.8253 - val_loss: 0.3538 - val_accuracy: 0.8417\n",
      "Epoch 7/75\n",
      "404/404 [==============================] - 95s 235ms/step - loss: 0.3760 - accuracy: 0.8271 - val_loss: 0.3784 - val_accuracy: 0.8404\n",
      "Epoch 8/75\n",
      "404/404 [==============================] - 92s 227ms/step - loss: 0.3646 - accuracy: 0.8333 - val_loss: 0.3324 - val_accuracy: 0.8449\n",
      "Epoch 9/75\n",
      "404/404 [==============================] - 93s 231ms/step - loss: 0.3612 - accuracy: 0.8358 - val_loss: 0.3339 - val_accuracy: 0.8410\n",
      "Epoch 10/75\n",
      "404/404 [==============================] - 92s 229ms/step - loss: 0.3594 - accuracy: 0.8385 - val_loss: 0.3210 - val_accuracy: 0.8536\n",
      "Epoch 11/75\n",
      "404/404 [==============================] - 91s 225ms/step - loss: 0.3549 - accuracy: 0.8384 - val_loss: 0.3232 - val_accuracy: 0.8571\n",
      "Epoch 12/75\n",
      "404/404 [==============================] - 93s 230ms/step - loss: 0.3529 - accuracy: 0.8376 - val_loss: 0.3927 - val_accuracy: 0.8329\n",
      "Epoch 13/75\n",
      "404/404 [==============================] - 91s 226ms/step - loss: 0.3511 - accuracy: 0.8413 - val_loss: 0.3138 - val_accuracy: 0.8589\n",
      "Epoch 14/75\n",
      "404/404 [==============================] - 78s 194ms/step - loss: 0.3437 - accuracy: 0.8475 - val_loss: 0.3509 - val_accuracy: 0.8193\n",
      "Epoch 15/75\n",
      "404/404 [==============================] - 64s 159ms/step - loss: 0.3399 - accuracy: 0.8470 - val_loss: 0.4717 - val_accuracy: 0.8254\n",
      "Epoch 16/75\n",
      "404/404 [==============================] - 63s 155ms/step - loss: 0.3407 - accuracy: 0.8493 - val_loss: 0.3422 - val_accuracy: 0.8607\n",
      "Epoch 17/75\n",
      "404/404 [==============================] - 62s 153ms/step - loss: 0.3335 - accuracy: 0.8488 - val_loss: 0.3186 - val_accuracy: 0.8421\n",
      "Epoch 18/75\n",
      "404/404 [==============================] - 62s 153ms/step - loss: 0.3271 - accuracy: 0.8535 - val_loss: 0.3043 - val_accuracy: 0.8697\n",
      "Epoch 19/75\n",
      "404/404 [==============================] - 63s 156ms/step - loss: 0.3231 - accuracy: 0.8560 - val_loss: 0.3979 - val_accuracy: 0.8002\n",
      "Epoch 20/75\n",
      "404/404 [==============================] - 62s 154ms/step - loss: 0.3294 - accuracy: 0.8534 - val_loss: 0.2986 - val_accuracy: 0.8599\n",
      "Epoch 21/75\n",
      "404/404 [==============================] - 64s 159ms/step - loss: 0.3244 - accuracy: 0.8560 - val_loss: 0.3172 - val_accuracy: 0.8549\n",
      "Epoch 22/75\n",
      "404/404 [==============================] - 63s 157ms/step - loss: 0.3217 - accuracy: 0.8577 - val_loss: 0.3649 - val_accuracy: 0.8138\n",
      "Epoch 23/75\n",
      "404/404 [==============================] - 63s 156ms/step - loss: 0.3181 - accuracy: 0.8597 - val_loss: 0.2959 - val_accuracy: 0.8636\n",
      "Epoch 24/75\n",
      "404/404 [==============================] - 63s 156ms/step - loss: 0.3084 - accuracy: 0.8663 - val_loss: 0.2970 - val_accuracy: 0.8678\n",
      "Epoch 25/75\n",
      "404/404 [==============================] - 65s 161ms/step - loss: 0.3086 - accuracy: 0.8626 - val_loss: 0.3305 - val_accuracy: 0.8528\n",
      "Epoch 26/75\n",
      "404/404 [==============================] - 64s 159ms/step - loss: 0.3068 - accuracy: 0.8656 - val_loss: 0.3888 - val_accuracy: 0.7747\n",
      "Epoch 27/75\n",
      "404/404 [==============================] - 66s 163ms/step - loss: 0.3046 - accuracy: 0.8675 - val_loss: 0.3137 - val_accuracy: 0.8591\n",
      "Epoch 28/75\n",
      "404/404 [==============================] - 63s 156ms/step - loss: 0.3042 - accuracy: 0.8644 - val_loss: 0.3011 - val_accuracy: 0.8715\n",
      "Epoch 29/75\n",
      "404/404 [==============================] - 64s 159ms/step - loss: 0.2981 - accuracy: 0.8722 - val_loss: 0.3532 - val_accuracy: 0.8124\n",
      "Epoch 30/75\n",
      "404/404 [==============================] - 63s 155ms/step - loss: 0.2976 - accuracy: 0.8721 - val_loss: 0.2969 - val_accuracy: 0.8624\n",
      "Epoch 31/75\n",
      "404/404 [==============================] - 63s 155ms/step - loss: 0.2900 - accuracy: 0.8741 - val_loss: 0.2737 - val_accuracy: 0.8823\n",
      "Epoch 32/75\n",
      "404/404 [==============================] - 62s 154ms/step - loss: 0.2861 - accuracy: 0.8803 - val_loss: 0.2735 - val_accuracy: 0.8790\n",
      "Epoch 33/75\n",
      "404/404 [==============================] - 62s 153ms/step - loss: 0.2818 - accuracy: 0.8786 - val_loss: 0.3326 - val_accuracy: 0.8248\n",
      "Epoch 34/75\n",
      "404/404 [==============================] - 62s 153ms/step - loss: 0.2876 - accuracy: 0.8741 - val_loss: 0.2725 - val_accuracy: 0.8814\n",
      "Epoch 35/75\n",
      "404/404 [==============================] - 62s 154ms/step - loss: 0.2812 - accuracy: 0.8821 - val_loss: 0.2703 - val_accuracy: 0.8863\n",
      "Epoch 36/75\n",
      "404/404 [==============================] - 62s 153ms/step - loss: 0.2723 - accuracy: 0.8863 - val_loss: 0.2705 - val_accuracy: 0.8804\n",
      "Epoch 37/75\n",
      "404/404 [==============================] - 62s 153ms/step - loss: 0.2717 - accuracy: 0.8856 - val_loss: 0.2658 - val_accuracy: 0.8821\n",
      "Epoch 38/75\n",
      "404/404 [==============================] - 62s 153ms/step - loss: 0.2645 - accuracy: 0.8853 - val_loss: 0.8729 - val_accuracy: 0.4848\n",
      "Epoch 39/75\n",
      "404/404 [==============================] - 63s 155ms/step - loss: 0.2685 - accuracy: 0.8855 - val_loss: 0.2747 - val_accuracy: 0.8812\n",
      "Epoch 40/75\n",
      "404/404 [==============================] - 62s 153ms/step - loss: 0.2596 - accuracy: 0.8913 - val_loss: 2.4169 - val_accuracy: 0.3847\n",
      "Epoch 41/75\n",
      "404/404 [==============================] - 63s 156ms/step - loss: 0.2592 - accuracy: 0.8923 - val_loss: 0.3148 - val_accuracy: 0.8599\n",
      "Epoch 42/75\n",
      "404/404 [==============================] - 64s 159ms/step - loss: 0.2523 - accuracy: 0.8940 - val_loss: 0.2900 - val_accuracy: 0.8739\n",
      "Epoch 43/75\n",
      "404/404 [==============================] - 63s 156ms/step - loss: 0.2506 - accuracy: 0.8929 - val_loss: 0.6571 - val_accuracy: 0.7397\n",
      "Epoch 44/75\n",
      "404/404 [==============================] - 63s 155ms/step - loss: 0.2559 - accuracy: 0.8925 - val_loss: 0.2967 - val_accuracy: 0.8546\n",
      "Epoch 45/75\n",
      "404/404 [==============================] - 63s 156ms/step - loss: 0.2501 - accuracy: 0.8948 - val_loss: 0.9564 - val_accuracy: 0.5156\n",
      "Epoch 46/75\n",
      "404/404 [==============================] - 63s 156ms/step - loss: 0.2491 - accuracy: 0.8972 - val_loss: 0.2475 - val_accuracy: 0.8961\n",
      "Epoch 47/75\n",
      "404/404 [==============================] - 62s 153ms/step - loss: 0.2445 - accuracy: 0.8988 - val_loss: 0.2623 - val_accuracy: 0.8896\n",
      "Epoch 48/75\n",
      "404/404 [==============================] - 62s 153ms/step - loss: 0.2417 - accuracy: 0.8995 - val_loss: 0.2649 - val_accuracy: 0.8869\n",
      "Epoch 49/75\n",
      "404/404 [==============================] - 62s 154ms/step - loss: 0.2414 - accuracy: 0.9010 - val_loss: 0.2664 - val_accuracy: 0.8819\n",
      "Epoch 50/75\n",
      "404/404 [==============================] - 62s 153ms/step - loss: 0.2417 - accuracy: 0.8986 - val_loss: 0.2717 - val_accuracy: 0.8857\n",
      "Epoch 51/75\n",
      "404/404 [==============================] - 64s 158ms/step - loss: 0.2439 - accuracy: 0.8991 - val_loss: 0.2920 - val_accuracy: 0.8756\n",
      "Epoch 52/75\n",
      "404/404 [==============================] - 66s 163ms/step - loss: 0.2332 - accuracy: 0.9042 - val_loss: 0.2766 - val_accuracy: 0.8786\n",
      "Epoch 53/75\n",
      "404/404 [==============================] - 62s 154ms/step - loss: 0.2302 - accuracy: 0.9045 - val_loss: 0.2530 - val_accuracy: 0.8942\n",
      "Epoch 54/75\n",
      "404/404 [==============================] - 62s 153ms/step - loss: 0.2290 - accuracy: 0.9045 - val_loss: 0.3027 - val_accuracy: 0.8597\n",
      "Epoch 55/75\n",
      "404/404 [==============================] - 62s 153ms/step - loss: 0.2242 - accuracy: 0.9055 - val_loss: 0.3487 - val_accuracy: 0.8386\n",
      "Epoch 56/75\n",
      "404/404 [==============================] - 62s 154ms/step - loss: 0.2156 - accuracy: 0.9113 - val_loss: 0.2449 - val_accuracy: 0.8975\n",
      "Epoch 57/75\n",
      "404/404 [==============================] - 62s 154ms/step - loss: 0.2221 - accuracy: 0.9106 - val_loss: 0.2587 - val_accuracy: 0.8896\n",
      "Epoch 58/75\n",
      "404/404 [==============================] - 62s 153ms/step - loss: 0.2140 - accuracy: 0.9125 - val_loss: 0.3642 - val_accuracy: 0.8394\n",
      "Epoch 59/75\n",
      "404/404 [==============================] - 62s 153ms/step - loss: 0.2164 - accuracy: 0.9117 - val_loss: 0.3372 - val_accuracy: 0.8484\n",
      "Epoch 60/75\n",
      "404/404 [==============================] - 62s 153ms/step - loss: 0.2183 - accuracy: 0.9123 - val_loss: 0.2722 - val_accuracy: 0.8733\n",
      "Epoch 61/75\n",
      "404/404 [==============================] - 62s 153ms/step - loss: 0.2113 - accuracy: 0.9146 - val_loss: 0.2912 - val_accuracy: 0.8904\n",
      "Epoch 62/75\n",
      "404/404 [==============================] - 62s 153ms/step - loss: 0.2050 - accuracy: 0.9188 - val_loss: 0.2612 - val_accuracy: 0.8908\n",
      "Epoch 63/75\n",
      "404/404 [==============================] - 62s 153ms/step - loss: 0.2049 - accuracy: 0.9185 - val_loss: 0.2287 - val_accuracy: 0.9034\n",
      "Epoch 64/75\n",
      "404/404 [==============================] - 62s 153ms/step - loss: 0.2073 - accuracy: 0.9185 - val_loss: 0.2537 - val_accuracy: 0.8930\n",
      "Epoch 65/75\n",
      "404/404 [==============================] - 61s 152ms/step - loss: 0.2049 - accuracy: 0.9171 - val_loss: 0.2602 - val_accuracy: 0.8932\n",
      "Epoch 66/75\n",
      "404/404 [==============================] - 61s 152ms/step - loss: 0.1990 - accuracy: 0.9179 - val_loss: 0.2888 - val_accuracy: 0.8829\n",
      "Epoch 67/75\n",
      "404/404 [==============================] - 62s 152ms/step - loss: 0.1980 - accuracy: 0.9187 - val_loss: 0.2738 - val_accuracy: 0.8886\n",
      "Epoch 68/75\n",
      "404/404 [==============================] - 62s 153ms/step - loss: 0.1903 - accuracy: 0.9245 - val_loss: 0.2643 - val_accuracy: 0.8952\n",
      "Epoch 69/75\n",
      "404/404 [==============================] - 63s 156ms/step - loss: 0.2027 - accuracy: 0.9177 - val_loss: 0.3333 - val_accuracy: 0.8477\n",
      "Epoch 70/75\n",
      "404/404 [==============================] - 65s 161ms/step - loss: 0.1922 - accuracy: 0.9229 - val_loss: 0.2715 - val_accuracy: 0.8853\n",
      "Epoch 71/75\n",
      "404/404 [==============================] - 64s 159ms/step - loss: 0.1872 - accuracy: 0.9237 - val_loss: 0.2708 - val_accuracy: 0.8863\n",
      "Epoch 72/75\n",
      "404/404 [==============================] - 63s 155ms/step - loss: 0.1822 - accuracy: 0.9271 - val_loss: 0.2588 - val_accuracy: 0.9038\n",
      "Epoch 73/75\n",
      "404/404 [==============================] - 63s 155ms/step - loss: 0.1858 - accuracy: 0.9260 - val_loss: 0.2584 - val_accuracy: 0.9009\n",
      "Epoch 74/75\n",
      "404/404 [==============================] - 63s 155ms/step - loss: 0.1804 - accuracy: 0.9264 - val_loss: 0.2624 - val_accuracy: 0.8879\n",
      "Epoch 75/75\n",
      "404/404 [==============================] - 63s 155ms/step - loss: 0.1847 - accuracy: 0.9267 - val_loss: 0.2318 - val_accuracy: 0.9139\n"
     ]
    }
   ],
   "source": [
    "model.compile(optimizer='adam',loss='categorical_crossentropy',metrics=['accuracy'])\n",
    "\n",
    "#model.fit(train_image, train_label)\n",
    "\n",
    "history = model.fit(train_image, train_label,batch_size=32, \n",
    "                              steps_per_epoch=train_image.shape[0] // 32, \n",
    "                              max_queue_size=500,\n",
    "                              workers=1,\n",
    "                              validation_data = (val_image,val_label),\n",
    "                              epochs=75, \n",
    "                              verbose=1)"
   ]
  },
  {
   "cell_type": "code",
   "execution_count": 23,
   "id": "ca51c0e0",
   "metadata": {},
   "outputs": [
    {
     "name": "stdout",
     "output_type": "stream",
     "text": [
      "405/405 [==============================] - 10s 24ms/step\n"
     ]
    },
    {
     "data": {
      "text/plain": [
       "(12945, 256)"
      ]
     },
     "execution_count": 23,
     "metadata": {},
     "output_type": "execute_result"
    }
   ],
   "source": [
    "##### Extract the train - intermediate output from CNN\n",
    "intermediate_output = intermediate_layer_model.predict(train_image) \n",
    "intermediate_output = pd.DataFrame(data=intermediate_output)\n",
    "intermediate_output.shape"
   ]
  },
  {
   "cell_type": "code",
   "execution_count": 24,
   "id": "9bde5307",
   "metadata": {},
   "outputs": [
    {
     "name": "stdout",
     "output_type": "stream",
     "text": [
      "(5074, 28, 28, 1)\n",
      "(5074, 10)\n"
     ]
    }
   ],
   "source": [
    "# check the shape of test dataset\n",
    "print(val_image.shape)\n",
    "print(val_label.shape)"
   ]
  },
  {
   "cell_type": "code",
   "execution_count": 33,
   "id": "8d47c969",
   "metadata": {},
   "outputs": [],
   "source": [
    "#reshape the dataset for XGBoost model building\n",
    "val_data = intermediate_output[7871:]"
   ]
  },
  {
   "cell_type": "code",
   "execution_count": 26,
   "id": "acd70a38",
   "metadata": {},
   "outputs": [
    {
     "name": "stdout",
     "output_type": "stream",
     "text": [
      "172/172 [==============================] - 4s 25ms/step\n"
     ]
    }
   ],
   "source": [
    "# Extract the test - intermediate output from CNN\n",
    "intermediate_test_output = intermediate_layer_model.predict(test_image)\n",
    "intermediate_test_output = pd.DataFrame(data=intermediate_test_output)"
   ]
  },
  {
   "cell_type": "markdown",
   "id": "38b37b85",
   "metadata": {},
   "source": [
    "#### <font color='blue'> 14. XGBooost model creation for intermediate values </font>"
   ]
  },
  {
   "cell_type": "code",
   "execution_count": 31,
   "id": "849eefbb",
   "metadata": {
    "scrolled": true
   },
   "outputs": [
    {
     "name": "stdout",
     "output_type": "stream",
     "text": [
      "(12945, 256)\n",
      "(12945,)\n",
      "(12945, 256)\n",
      "(5074,)\n"
     ]
    }
   ],
   "source": [
    "#printing shape of intermediate values\n",
    "print(intermediate_output.shape)\n",
    "print(train_label1.shape)\n",
    "print(val_data.shape)\n",
    "print(val_label1.shape)"
   ]
  },
  {
   "cell_type": "code",
   "execution_count": 32,
   "id": "030ccfde",
   "metadata": {},
   "outputs": [
    {
     "data": {
      "text/plain": [
       "7871"
      ]
     },
     "execution_count": 32,
     "metadata": {},
     "output_type": "execute_result"
    }
   ],
   "source": [
    "12945 - 5074\n"
   ]
  },
  {
   "cell_type": "code",
   "execution_count": 34,
   "id": "9d8358af",
   "metadata": {},
   "outputs": [
    {
     "name": "stdout",
     "output_type": "stream",
     "text": [
      "Accuracy: 70.97%\n"
     ]
    }
   ],
   "source": [
    "# #XGBoost model creation & XGBoost evaluate predictions\n",
    "\n",
    "xgb_model = XGBClassifier(seed=0)\n",
    "xgb_model.fit(intermediate_output, train_label1)\n",
    "# make predictions for test data\n",
    "y_pred = xgb_model.predict(val_data)\n",
    "predictions = [round(value) for value in y_pred]\n",
    "# evaluate predictions\n",
    "accuracy = accuracy_score(val_label1, predictions)\n",
    "print(\"Accuracy: %.2f%%\" % (accuracy * 100.0))\n",
    "#xgb_model.score(val_data, val_label1)"
   ]
  },
  {
   "cell_type": "code",
   "execution_count": null,
   "id": "13f4638f",
   "metadata": {},
   "outputs": [],
   "source": []
  },
  {
   "cell_type": "markdown",
   "id": "ab942369",
   "metadata": {},
   "source": [
    "Accuracy of XGBoost seems to be less, this could be due to less validation set, hence lets intorduce K-Fold cross validation to mitigate this issue and increase the accuracy of the model"
   ]
  },
  {
   "cell_type": "code",
   "execution_count": 35,
   "id": "36dc82f9",
   "metadata": {},
   "outputs": [],
   "source": [
    "submission_xgb = xgb_model.predict(intermediate_test_output)"
   ]
  },
  {
   "cell_type": "code",
   "execution_count": 36,
   "id": "66adb715",
   "metadata": {},
   "outputs": [],
   "source": [
    "#model = list()\n",
    "resample_xgb = list()\n",
    "precision_xgb = list()\n",
    "recall_xgb = list()\n",
    "F1score_xgb = list()\n",
    "AUCROC_xgb = list()"
   ]
  },
  {
   "cell_type": "code",
   "execution_count": 37,
   "id": "7e53a1a5",
   "metadata": {},
   "outputs": [],
   "source": [
    "def test_eval( y_test, y_pred, algo=None, sampling=None):\n",
    "    # Test set prediction\n",
    "    #y_prob=clf_model.predict_proba(X_test)\n",
    "    #y_pred=clf_model.predict(X_test)\n",
    "    \n",
    "    #print('Confusion Matrix')\n",
    "    print('='*60)\n",
    "    print('Classification Report')\n",
    "    print('='*60)\n",
    "    print(classification_report(y_test,y_pred),\"\\n\")\n",
    "    #print('AUC-ROC')\n",
    "    #print('='*60)\n",
    "    #print(roc_auc_score(y_test, y_prob[:,1]))\n",
    "          \n",
    "    #model.append(algo)\n",
    "    precision_xgb.append(precision_score(y_test, y_pred))\n",
    "    recall_xgb.append(recall_score(y_test, y_pred))\n",
    "    F1score_xgb.append(f1_score(y_test, y_pred))\n",
    "    #AUCROC.append(roc_auc_score(y_test, y_prob[:,1]))\n",
    "    #resample.append(sampling)"
   ]
  },
  {
   "cell_type": "code",
   "execution_count": 38,
   "id": "13dec3d2",
   "metadata": {},
   "outputs": [
    {
     "name": "stdout",
     "output_type": "stream",
     "text": [
      "============================================================\n",
      "Classification Report\n",
      "============================================================\n",
      "              precision    recall  f1-score   support\n",
      "\n",
      "         0.0       0.90      0.85      0.87      1873\n",
      "         1.0       0.92      0.95      0.94      3601\n",
      "\n",
      "    accuracy                           0.91      5474\n",
      "   macro avg       0.91      0.90      0.90      5474\n",
      "weighted avg       0.91      0.91      0.91      5474\n",
      " \n",
      "\n"
     ]
    }
   ],
   "source": [
    "test_eval(test_label, submission_xgb)"
   ]
  },
  {
   "cell_type": "markdown",
   "id": "ebca93c3",
   "metadata": {},
   "source": [
    "https://github.com/arpcode/SMOTE-ADA-BOOST-COBRA/blob/main/Notebooks/SmoteAdaBoostedCC.ipynb"
   ]
  },
  {
   "cell_type": "markdown",
   "id": "cc418531",
   "metadata": {},
   "source": [
    "#### <font color='blue'>  K-Fold Validation </font>"
   ]
  },
  {
   "cell_type": "code",
   "execution_count": 39,
   "id": "ec15c820",
   "metadata": {},
   "outputs": [],
   "source": [
    "#Importing required libraries\n",
    "from sklearn.datasets import load_breast_cancer\n",
    "import pandas as pd\n",
    "from sklearn.model_selection import KFold \n",
    "from sklearn.linear_model import LogisticRegression\n",
    "from sklearn.metrics import accuracy_score"
   ]
  },
  {
   "cell_type": "markdown",
   "id": "56ceef3d",
   "metadata": {},
   "source": [
    "#### Train Accuracy"
   ]
  },
  {
   "cell_type": "code",
   "execution_count": 40,
   "id": "de409efe",
   "metadata": {},
   "outputs": [
    {
     "name": "stdout",
     "output_type": "stream",
     "text": [
      "Accuracy: 96.28%\n"
     ]
    }
   ],
   "source": [
    "#Train Accuracy\n",
    "# k-fold cross validation evaluation of xgboost model\n",
    "from numpy import loadtxt\n",
    "import xgboost\n",
    "from sklearn.model_selection import KFold\n",
    "from sklearn.model_selection import cross_val_score\n",
    "from sklearn.metrics import make_scorer, accuracy_score, precision_score, recall_score, f1_score \n",
    "from sklearn.model_selection import cross_validate\n",
    "\n",
    "scoring = {'accuracy' : make_scorer(accuracy_score), \n",
    "           'precision' : make_scorer(precision_score),\n",
    "           'recall' : make_scorer(recall_score), \n",
    "           'f1_score' : make_scorer(f1_score)}\n",
    "\n",
    "kfold = KFold(n_splits=10, random_state=7, shuffle=True)\n",
    "results = cross_val_score(xgb_model, intermediate_output, train_label1, cv=kfold)\n",
    "#Test_results = cross_val_score(xgb_model, intermediate_output, val_label1, cv=kfold)\n",
    "#cv_results = cross_validate(xgb_model, X, y, cv=kfold, scoring=accuracy, verbose=10)\n",
    "print(\"Accuracy: %.2f%%\" % (results.mean()*100))"
   ]
  },
  {
   "cell_type": "markdown",
   "id": "c89a0d8b",
   "metadata": {},
   "source": [
    "#### Test Accuracy"
   ]
  },
  {
   "cell_type": "code",
   "execution_count": 41,
   "id": "a3a8e285",
   "metadata": {},
   "outputs": [
    {
     "name": "stdout",
     "output_type": "stream",
     "text": [
      "Accuracy: 90.77%\n"
     ]
    }
   ],
   "source": [
    "#Test Accuracy\n",
    "kfold = KFold(n_splits=10, random_state=7, shuffle=True)\n",
    "test_results = cross_val_score(xgb_model, intermediate_test_output, test_label, cv=kfold)\n",
    "#Test_results = cross_val_score(xgb_model, intermediate_output, val_label1, cv=kfold)\n",
    "#cv_results = cross_validate(xgb_model, X, y, cv=kfold, scoring=accuracy, verbose=10)\n",
    "print(\"Accuracy: %.2f%%\" % (test_results.mean()*100))"
   ]
  },
  {
   "cell_type": "code",
   "execution_count": 42,
   "id": "a638c5c2",
   "metadata": {},
   "outputs": [
    {
     "name": "stdout",
     "output_type": "stream",
     "text": [
      "(12945,)\n",
      "(5474,)\n",
      "(5074,)\n"
     ]
    }
   ],
   "source": [
    "print(train_label1.shape)\n",
    "print(test_label.shape)\n",
    "print(val_label1.shape)"
   ]
  },
  {
   "cell_type": "code",
   "execution_count": null,
   "id": "cd831b1d",
   "metadata": {},
   "outputs": [],
   "source": []
  },
  {
   "cell_type": "markdown",
   "id": "d1ab928b",
   "metadata": {},
   "source": [
    "#### <font color='blue'> Ploting confusion matrix </font>"
   ]
  },
  {
   "cell_type": "code",
   "execution_count": 44,
   "id": "d0c78d59",
   "metadata": {},
   "outputs": [
    {
     "data": {
      "text/plain": [
       "array([[1594,  279],\n",
       "       [ 187, 3414]], dtype=int64)"
      ]
     },
     "execution_count": 44,
     "metadata": {},
     "output_type": "execute_result"
    }
   ],
   "source": [
    "from sklearn import metrics\n",
    "metrics.confusion_matrix(test_label, submission_xgb)"
   ]
  },
  {
   "cell_type": "code",
   "execution_count": null,
   "id": "70043ff9",
   "metadata": {},
   "outputs": [],
   "source": [
    "# TYPE-1 Error = False Positive = 4.66%  # predicted value is postive but it is false\n",
    "# TYPE-2 Error - False Negative = 10.39%  # predicted value is negative but it is true\n"
   ]
  },
  {
   "cell_type": "code",
   "execution_count": 47,
   "id": "4bf4395c",
   "metadata": {},
   "outputs": [
    {
     "data": {
      "text/plain": [
       "<AxesSubplot:>"
      ]
     },
     "execution_count": 47,
     "metadata": {},
     "output_type": "execute_result"
    },
    {
     "data": {
      "image/png": "[encoded data removed]",
      "text/plain": [
       "<Figure size 640x480 with 2 Axes>"
      ]
     },
     "metadata": {},
     "output_type": "display_data"
    }
   ],
   "source": [
    "group_names = ['True Neg','False Pos','False Neg','True Pos']\n",
    "group_counts = [\"{0:0.0f}\".format(value) for value in\n",
    "                confusion_matrix(test_label, submission_xgb).flatten()]\n",
    "group_percentages = [\"{0:.2%}\".format(value) for value in\n",
    "                     confusion_matrix(test_label, submission_xgb).flatten()/np.sum(confusion_matrix(test_label, submission_xgb))]\n",
    "labels = [f\"{v1}\\n{v2}\\n{v3}\" for v1, v2, v3 in\n",
    "          zip(group_names,group_counts,group_percentages)]\n",
    "labels = np.asarray(labels).reshape(2,2)\n",
    "sns.heatmap(confusion_matrix(test_label, submission_xgb),fmt='', cmap='Blues', annot=labels)"
   ]
  },
  {
   "cell_type": "code",
   "execution_count": null,
   "id": "f265cb78",
   "metadata": {},
   "outputs": [],
   "source": []
  }
 ],
 "metadata": {
  "kernelspec": {
   "display_name": "Python 3 (ipykernel)",
   "language": "python",
   "name": "python3"
  },
  "language_info": {
   "codemirror_mode": {
    "name": "ipython",
    "version": 3
   },
   "file_extension": ".py",
   "mimetype": "text/x-python",
   "name": "python",
   "nbconvert_exporter": "python",
   "pygments_lexer": "ipython3",
   "version": "3.9.13"
  }
 },
 "nbformat": 4,
 "nbformat_minor": 5
}
