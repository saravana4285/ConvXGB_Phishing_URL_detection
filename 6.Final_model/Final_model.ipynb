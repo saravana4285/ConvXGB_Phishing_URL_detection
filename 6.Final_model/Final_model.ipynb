{
 "cells": [
  {
   "cell_type": "markdown",
   "id": "8c2ca69f",
   "metadata": {},
   "source": [
    "## <font color=\"Blue\">Phishing URL Detection - ConvXGB Model</font>"
   ]
  },
  {
   "cell_type": "markdown",
   "id": "93fbed47",
   "metadata": {},
   "source": [
    "<b>GOAL:</b> This study employs new deep learning algorithm named \"ConvXGB\" to the field of cybersecurity in detecting phishing URL.</br>\n",
    "<b>Author :</b> Saravanan Muthuramalingam </br>\n",
    "<b>Purpose of this notebook :</b> This Notebook handles the following,\n",
    "    <li> Hyperparamter Tuning </li>\n",
    "    <li> EPOCH = 75 </li>\n",
    "    <li> Dropout = 0.5 </li>\n",
    "    <li>SMOTE ENN</li>\n",
    "        <li>STRATIFIED K-FOLD</li>\n",
    "        <li> removed LeakyRelu </li>\n",
    "        "
   ]
  },
  {
   "cell_type": "code",
   "execution_count": 1,
   "id": "38e771f2",
   "metadata": {},
   "outputs": [],
   "source": [
    "# import all required python libraries\n",
    "#-------------------------------------#\n",
    "# Statistics Libraries\n",
    "import numpy as np\n",
    "\n",
    "# Dataset related Libraires\n",
    "import pandas as pd \n",
    "import csv\n",
    "\n",
    "# Data Visualization Libraries\n",
    "import seaborn as sns\n",
    "import matplotlib.pyplot as plt\n",
    "\n",
    "# URL Parsing Libraries\n",
    "import urllib.parse\n",
    "from urllib.parse import urlparse\n",
    "from urllib.parse import urlsplit\n",
    "from urlpath import URL\n",
    "\n",
    "# OS and regular expression Libraries\n",
    "import re\n",
    "import glob\n",
    "import os\n",
    "\n",
    "# Image processing related Libraries\n",
    "from PIL import Image\n",
    "import cv2\n",
    "import skimage.measure\n",
    "import imghdr\n",
    "\n",
    "# Image validation related Libraries\n",
    "from difPy import dif\n",
    "from sklearn.preprocessing import OneHotEncoder\n",
    "\n",
    "# To Build CNN in Keras \n",
    "import keras\n",
    "from keras.models import Sequential\n",
    "from keras.layers import Dense, Dropout, Flatten\n",
    "from keras.layers import Conv2D, MaxPooling2D\n",
    "from keras.optimizers import SGD\n",
    "#from keras.layers.normalization import BatchNormalization\n",
    "from tensorflow.keras.layers import BatchNormalization\n",
    "from keras.layers import LeakyReLU\n",
    "from keras.models import Model\n",
    "from keras.preprocessing.image import ImageDataGenerator\n",
    "from keras.optimizers import Adam, Adadelta, RMSprop\n",
    "\n",
    "# XGBoost classification algorithm\n",
    "from xgboost import XGBClassifier\n",
    "\n",
    "# Perforrmance evaluation Librraries\n",
    "from sklearn.metrics import confusion_matrix, roc_auc_score, roc_curve, classification_report, precision_recall_curve\n",
    "from sklearn.metrics import accuracy_score, f1_score, precision_score, recall_score\n"
   ]
  },
  {
   "cell_type": "markdown",
   "id": "7a5c22c8",
   "metadata": {},
   "source": [
    "#### <font color='blue'>7. Splitting Train/Test Data</font>"
   ]
  },
  {
   "cell_type": "code",
   "execution_count": 2,
   "id": "667dcd92",
   "metadata": {},
   "outputs": [],
   "source": [
    "#spliting test and train\n",
    "#80% of the datasets is reserved for training the model\n",
    "raw_df = pd.read_csv(r'C:\\Users\\msara\\Desktop\\dataset\\preprocessed_data.csv')\n",
    "#raw_df = raw_df.drop(columns=['protocol'])\n",
    "raw_df['split'] = np.random.randn(raw_df.shape[0], 1)\n",
    "\n",
    "#msk = np.random.rand(len(raw_df)) <= 0.8\n",
    "\n",
    "#train = raw_df[msk]\n",
    "#test = raw_df[~msk]"
   ]
  },
  {
   "cell_type": "code",
   "execution_count": 3,
   "id": "fb37186e",
   "metadata": {},
   "outputs": [],
   "source": [
    "y = raw_df.pop('result')\n",
    "\n",
    "X = raw_df"
   ]
  },
  {
   "cell_type": "code",
   "execution_count": 4,
   "id": "0c8a65f2",
   "metadata": {},
   "outputs": [
    {
     "data": {
      "text/plain": [
       "Text(0.5, 1.0, 'Phishing vs Legitmate count')"
      ]
     },
     "execution_count": 4,
     "metadata": {},
     "output_type": "execute_result"
    },
    {
     "data": {
      "image/png": "[encoded data removed]",
      "text/plain": [
       "<Figure size 640x480 with 1 Axes>"
      ]
     },
     "metadata": {},
     "output_type": "display_data"
    }
   ],
   "source": [
    "#before class imablance\n",
    "y.value_counts().plot.bar()\n",
    "plt.title(\"Phishing vs Legitmate count\")"
   ]
  },
  {
   "cell_type": "code",
   "execution_count": 5,
   "id": "38727bb9",
   "metadata": {},
   "outputs": [
    {
     "data": {
      "text/plain": [
       "0    13948\n",
       "1     3735\n",
       "Name: result, dtype: int64"
      ]
     },
     "execution_count": 5,
     "metadata": {},
     "output_type": "execute_result"
    }
   ],
   "source": [
    "y.value_counts()"
   ]
  },
  {
   "cell_type": "code",
   "execution_count": 6,
   "id": "c9e80fd4",
   "metadata": {},
   "outputs": [
    {
     "name": "stdout",
     "output_type": "stream",
     "text": [
      "class 0: 78.24868183941801 %\n",
      "class 1: 21.75131816058199\n"
     ]
    }
   ],
   "source": [
    "print(\"class 0:\",11724 *100/(11724+3259),\"%\")\n",
    "print(\"class 1:\",3259* 100/(11724+3259))"
   ]
  },
  {
   "cell_type": "code",
   "execution_count": 7,
   "id": "75564749",
   "metadata": {},
   "outputs": [
    {
     "name": "stdout",
     "output_type": "stream",
     "text": [
      "(17683, 786)\n",
      "(17683,)\n"
     ]
    }
   ],
   "source": [
    "print(X.shape)\n",
    "print(y.shape)"
   ]
  },
  {
   "cell_type": "markdown",
   "id": "543d279e",
   "metadata": {},
   "source": [
    "#### Handling Class Imbalance"
   ]
  },
  {
   "cell_type": "code",
   "execution_count": 8,
   "id": "f45d900d",
   "metadata": {},
   "outputs": [],
   "source": [
    "#classs imabalance\n",
    "#from imblearn.over_sampling import SMOTE\n",
    "#from imblearn.over_sampling import ADASYN\n",
    "from imblearn.combine import SMOTEENN\n",
    "\n",
    "sm = SMOTEENN(random_state=42)\n",
    "X_res, y_res = sm.fit_resample(X, y)"
   ]
  },
  {
   "cell_type": "code",
   "execution_count": 9,
   "id": "20035483",
   "metadata": {},
   "outputs": [
    {
     "name": "stdout",
     "output_type": "stream",
     "text": [
      "(18417, 786)\n",
      "(18417,)\n"
     ]
    }
   ],
   "source": [
    "#Oversampling results\n",
    "print(X_res.shape)\n",
    "print(y_res.shape)"
   ]
  },
  {
   "cell_type": "code",
   "execution_count": 10,
   "id": "5a62d2d8",
   "metadata": {},
   "outputs": [],
   "source": [
    "new_df = pd.concat([X_res,y_res],axis=1)"
   ]
  },
  {
   "cell_type": "code",
   "execution_count": 11,
   "id": "2694edc4",
   "metadata": {},
   "outputs": [
    {
     "data": {
      "text/html": [
       "<div>\n",
       "<style scoped>\n",
       "    .dataframe tbody tr th:only-of-type {\n",
       "        vertical-align: middle;\n",
       "    }\n",
       "\n",
       "    .dataframe tbody tr th {\n",
       "        vertical-align: top;\n",
       "    }\n",
       "\n",
       "    .dataframe thead th {\n",
       "        text-align: right;\n",
       "    }\n",
       "</style>\n",
       "<table border=\"1\" class=\"dataframe\">\n",
       "  <thead>\n",
       "    <tr style=\"text-align: right;\">\n",
       "      <th></th>\n",
       "      <th>Unnamed: 0</th>\n",
       "      <th>pixel2</th>\n",
       "      <th>pixel3</th>\n",
       "      <th>pixel4</th>\n",
       "      <th>pixel5</th>\n",
       "      <th>pixel6</th>\n",
       "      <th>pixel7</th>\n",
       "      <th>pixel8</th>\n",
       "      <th>pixel9</th>\n",
       "      <th>pixel10</th>\n",
       "      <th>...</th>\n",
       "      <th>pixel778</th>\n",
       "      <th>pixel779</th>\n",
       "      <th>pixel780</th>\n",
       "      <th>pixel781</th>\n",
       "      <th>pixel782</th>\n",
       "      <th>pixel783</th>\n",
       "      <th>pixel784</th>\n",
       "      <th>pixel785</th>\n",
       "      <th>split</th>\n",
       "      <th>result</th>\n",
       "    </tr>\n",
       "  </thead>\n",
       "  <tbody>\n",
       "    <tr>\n",
       "      <th>0</th>\n",
       "      <td>6</td>\n",
       "      <td>253.0</td>\n",
       "      <td>253.0</td>\n",
       "      <td>253.0</td>\n",
       "      <td>253.0</td>\n",
       "      <td>253.0</td>\n",
       "      <td>230.0</td>\n",
       "      <td>231.0</td>\n",
       "      <td>232.0</td>\n",
       "      <td>236.0</td>\n",
       "      <td>...</td>\n",
       "      <td>246.0</td>\n",
       "      <td>242.0</td>\n",
       "      <td>248.0</td>\n",
       "      <td>252.0</td>\n",
       "      <td>252.0</td>\n",
       "      <td>252.0</td>\n",
       "      <td>252.0</td>\n",
       "      <td>252.0</td>\n",
       "      <td>0.138385</td>\n",
       "      <td>0</td>\n",
       "    </tr>\n",
       "    <tr>\n",
       "      <th>1</th>\n",
       "      <td>23</td>\n",
       "      <td>38.0</td>\n",
       "      <td>38.0</td>\n",
       "      <td>38.0</td>\n",
       "      <td>38.0</td>\n",
       "      <td>37.0</td>\n",
       "      <td>43.0</td>\n",
       "      <td>49.0</td>\n",
       "      <td>44.0</td>\n",
       "      <td>44.0</td>\n",
       "      <td>...</td>\n",
       "      <td>30.0</td>\n",
       "      <td>30.0</td>\n",
       "      <td>30.0</td>\n",
       "      <td>30.0</td>\n",
       "      <td>30.0</td>\n",
       "      <td>28.0</td>\n",
       "      <td>46.0</td>\n",
       "      <td>40.0</td>\n",
       "      <td>0.838566</td>\n",
       "      <td>0</td>\n",
       "    </tr>\n",
       "    <tr>\n",
       "      <th>2</th>\n",
       "      <td>44</td>\n",
       "      <td>39.0</td>\n",
       "      <td>39.0</td>\n",
       "      <td>39.0</td>\n",
       "      <td>39.0</td>\n",
       "      <td>40.0</td>\n",
       "      <td>38.0</td>\n",
       "      <td>59.0</td>\n",
       "      <td>55.0</td>\n",
       "      <td>37.0</td>\n",
       "      <td>...</td>\n",
       "      <td>0.0</td>\n",
       "      <td>0.0</td>\n",
       "      <td>0.0</td>\n",
       "      <td>0.0</td>\n",
       "      <td>0.0</td>\n",
       "      <td>0.0</td>\n",
       "      <td>0.0</td>\n",
       "      <td>0.0</td>\n",
       "      <td>-1.794656</td>\n",
       "      <td>0</td>\n",
       "    </tr>\n",
       "    <tr>\n",
       "      <th>3</th>\n",
       "      <td>59</td>\n",
       "      <td>108.0</td>\n",
       "      <td>71.0</td>\n",
       "      <td>75.0</td>\n",
       "      <td>66.0</td>\n",
       "      <td>71.0</td>\n",
       "      <td>94.0</td>\n",
       "      <td>84.0</td>\n",
       "      <td>83.0</td>\n",
       "      <td>107.0</td>\n",
       "      <td>...</td>\n",
       "      <td>51.0</td>\n",
       "      <td>49.0</td>\n",
       "      <td>50.0</td>\n",
       "      <td>50.0</td>\n",
       "      <td>50.0</td>\n",
       "      <td>50.0</td>\n",
       "      <td>50.0</td>\n",
       "      <td>50.0</td>\n",
       "      <td>1.625356</td>\n",
       "      <td>0</td>\n",
       "    </tr>\n",
       "    <tr>\n",
       "      <th>4</th>\n",
       "      <td>90</td>\n",
       "      <td>10.0</td>\n",
       "      <td>6.0</td>\n",
       "      <td>3.0</td>\n",
       "      <td>2.0</td>\n",
       "      <td>0.0</td>\n",
       "      <td>4.0</td>\n",
       "      <td>2.0</td>\n",
       "      <td>0.0</td>\n",
       "      <td>4.0</td>\n",
       "      <td>...</td>\n",
       "      <td>10.0</td>\n",
       "      <td>10.0</td>\n",
       "      <td>10.0</td>\n",
       "      <td>10.0</td>\n",
       "      <td>10.0</td>\n",
       "      <td>10.0</td>\n",
       "      <td>10.0</td>\n",
       "      <td>10.0</td>\n",
       "      <td>-0.775980</td>\n",
       "      <td>0</td>\n",
       "    </tr>\n",
       "  </tbody>\n",
       "</table>\n",
       "<p>5 rows × 787 columns</p>\n",
       "</div>"
      ],
      "text/plain": [
       "   Unnamed: 0  pixel2  pixel3  pixel4  pixel5  pixel6  pixel7  pixel8  pixel9  \\\n",
       "0           6   253.0   253.0   253.0   253.0   253.0   230.0   231.0   232.0   \n",
       "1          23    38.0    38.0    38.0    38.0    37.0    43.0    49.0    44.0   \n",
       "2          44    39.0    39.0    39.0    39.0    40.0    38.0    59.0    55.0   \n",
       "3          59   108.0    71.0    75.0    66.0    71.0    94.0    84.0    83.0   \n",
       "4          90    10.0     6.0     3.0     2.0     0.0     4.0     2.0     0.0   \n",
       "\n",
       "   pixel10  ...  pixel778  pixel779  pixel780  pixel781  pixel782  pixel783  \\\n",
       "0    236.0  ...     246.0     242.0     248.0     252.0     252.0     252.0   \n",
       "1     44.0  ...      30.0      30.0      30.0      30.0      30.0      28.0   \n",
       "2     37.0  ...       0.0       0.0       0.0       0.0       0.0       0.0   \n",
       "3    107.0  ...      51.0      49.0      50.0      50.0      50.0      50.0   \n",
       "4      4.0  ...      10.0      10.0      10.0      10.0      10.0      10.0   \n",
       "\n",
       "   pixel784  pixel785     split  result  \n",
       "0     252.0     252.0  0.138385       0  \n",
       "1      46.0      40.0  0.838566       0  \n",
       "2       0.0       0.0 -1.794656       0  \n",
       "3      50.0      50.0  1.625356       0  \n",
       "4      10.0      10.0 -0.775980       0  \n",
       "\n",
       "[5 rows x 787 columns]"
      ]
     },
     "execution_count": 11,
     "metadata": {},
     "output_type": "execute_result"
    }
   ],
   "source": [
    "new_df.head(5)"
   ]
  },
  {
   "cell_type": "code",
   "execution_count": 12,
   "id": "9ee620d4",
   "metadata": {},
   "outputs": [
    {
     "data": {
      "text/plain": [
       "<AxesSubplot:>"
      ]
     },
     "execution_count": 12,
     "metadata": {},
     "output_type": "execute_result"
    },
    {
     "data": {
      "image/png": "[encoded data removed]",
      "text/plain": [
       "<Figure size 640x480 with 1 Axes>"
      ]
     },
     "metadata": {},
     "output_type": "display_data"
    }
   ],
   "source": [
    "#after class imablance\n",
    "y_res.value_counts().plot.bar()"
   ]
  },
  {
   "cell_type": "code",
   "execution_count": 13,
   "id": "e365a1c3",
   "metadata": {},
   "outputs": [
    {
     "data": {
      "text/plain": [
       "(18417, 785)"
      ]
     },
     "execution_count": 13,
     "metadata": {},
     "output_type": "execute_result"
    }
   ],
   "source": [
    "raw_df = new_df.copy()\n",
    "raw_df = raw_df.drop(['Unnamed: 0', 'split'],axis=1)\n",
    "raw_df.shape"
   ]
  },
  {
   "cell_type": "markdown",
   "id": "0623c254",
   "metadata": {},
   "source": [
    "#### <font color='blue'>9. Train/Test Data Pre-processing</font>"
   ]
  },
  {
   "cell_type": "code",
   "execution_count": 14,
   "id": "30e35d8b",
   "metadata": {},
   "outputs": [],
   "source": [
    "# Removing unwanted columns from train dataset\n",
    "#train = train.drop(['Unnamed: 0', 'protocol','split'],axis=1)\n",
    "#print(\"Train_data shape:\", train.shape)\n",
    "\n",
    "# Removing unwanted columns from test dataset\n",
    "#test = test.drop(['Unnamed: 0', 'protocol', 'split'],axis=1)\n",
    "#print(\"Test_data shape:\", test.shape)"
   ]
  },
  {
   "cell_type": "code",
   "execution_count": 15,
   "id": "ad47a71d",
   "metadata": {},
   "outputs": [],
   "source": [
    "msk = np.random.rand(len(raw_df)) <= 0.7\n",
    "\n",
    "train = raw_df[msk]\n",
    "test = raw_df[~msk]"
   ]
  },
  {
   "cell_type": "code",
   "execution_count": 16,
   "id": "5790b130",
   "metadata": {},
   "outputs": [
    {
     "name": "stdout",
     "output_type": "stream",
     "text": [
      "(12903, 785)\n",
      "(5514, 785)\n"
     ]
    }
   ],
   "source": [
    "print(train.shape)\n",
    "print(test.shape)"
   ]
  },
  {
   "cell_type": "code",
   "execution_count": 17,
   "id": "8c3ef086",
   "metadata": {},
   "outputs": [
    {
     "name": "stdout",
     "output_type": "stream",
     "text": [
      "train shape: (12903, 785)\n",
      "val shape: (5114, 785)\n",
      "train_label shape: (12903,)\n",
      "val_label shape: (5114,)\n",
      "train_image shape: (12903, 784)\n",
      "val_image shape: (5114, 784)\n",
      "test_image shape: (5514, 784)\n",
      "test_label shape: (5514,)\n"
     ]
    }
   ],
   "source": [
    "#converting the data to appropripate shapes using numpy\n",
    "train_data = train[:]\n",
    "val_data = test[400:]\n",
    "train_label = np.float32(train_data.result)\n",
    "val_label = np.float32(val_data.result)\n",
    "train_image = np.float32(train_data[train_data.columns[1:]])\n",
    "val_image = np.float32(val_data[val_data.columns[1:]])\n",
    "test_image = np.float32(test[test.columns[1:]])\n",
    "test_label = np.float32(test.result)\n",
    "print('train shape: %s'%str(train_data.shape))\n",
    "print('val shape: %s'%str(val_data.shape))\n",
    "print('train_label shape: %s'%str(train_label.shape))\n",
    "print('val_label shape: %s'%str(val_label.shape))\n",
    "print('train_image shape: %s'%str(train_image.shape))\n",
    "print('val_image shape: %s'%str(val_image.shape))\n",
    "print('test_image shape: %s'%str(test_image.shape))\n",
    "print('test_label shape: %s'%str(test_label.shape))"
   ]
  },
  {
   "cell_type": "code",
   "execution_count": 18,
   "id": "29b95873",
   "metadata": {},
   "outputs": [
    {
     "name": "stdout",
     "output_type": "stream",
     "text": [
      "(12903, 784)\n",
      "(12903, 784)\n",
      "train_image shape: (12903, 28, 28, 1)\n",
      "train_image shape: (12903, 28, 28, 1)\n",
      "val_image shape: (5114, 28, 28, 1)\n",
      "(5114,)\n"
     ]
    }
   ],
   "source": [
    "\n",
    "\n",
    "plt.show()\n",
    "print(train_image.shape)\n",
    "\n",
    "train_image = train_image/255.0\n",
    "val_image = val_image/255.0\n",
    "test_image = test_image/255.0\n",
    "\n",
    "print(train_image.shape)\n",
    "\n",
    "#28 x 28 = 784\n",
    "train_image = train_image.reshape(train_image.shape[0],28,28,1)\n",
    "val_image = val_image.reshape(val_image.shape[0],28,28,1)\n",
    "test_image = test_image.reshape(test_image.shape[0],28,28,1)\n",
    "\n",
    "\n",
    "print('train_image shape: %s'%str(train_image.shape))\n",
    "\n",
    "print('train_image shape: %s'%str(train_image.shape))\n",
    "print('val_image shape: %s'%str(val_image.shape))\n",
    "\n",
    "train_label1 = train_label\n",
    "val_label1 = val_label\n",
    "print(val_label1.shape)"
   ]
  },
  {
   "cell_type": "markdown",
   "id": "5a2f8802",
   "metadata": {},
   "source": [
    "#### <font color='blue'>10. One Hot Encoding</font>"
   ]
  },
  {
   "cell_type": "code",
   "execution_count": 19,
   "id": "8e8c379b",
   "metadata": {},
   "outputs": [
    {
     "name": "stdout",
     "output_type": "stream",
     "text": [
      "train_label shape: (12903, 10)\n",
      "val_label shape: (5114, 10)\n"
     ]
    }
   ],
   "source": [
    "#onehot encoding\n",
    "encoder = OneHotEncoder(sparse=False,categories='auto')\n",
    "yy = [[0],[1],[2],[3],[4],[5],[6],[7],[8],[9]]\n",
    "encoder.fit(yy)\n",
    "# transform\n",
    "train_label = train_label.reshape(-1,1)\n",
    "val_label = val_label.reshape(-1,1)\n",
    "\n",
    "train_label = encoder.transform(train_label)\n",
    "val_label = encoder.transform(val_label)\n",
    "\n",
    "print('train_label shape: %s'%str(train_label.shape))\n",
    "print('val_label shape: %s'%str(val_label.shape))"
   ]
  },
  {
   "cell_type": "markdown",
   "id": "a4877b91",
   "metadata": {
    "scrolled": true
   },
   "source": [
    "#### <font color='blue'> 11. CNN Model Building </font>"
   ]
  },
  {
   "cell_type": "code",
   "execution_count": 20,
   "id": "9751ccc4",
   "metadata": {},
   "outputs": [
    {
     "name": "stdout",
     "output_type": "stream",
     "text": [
      "Model: \"sequential\"\n",
      "_________________________________________________________________\n",
      " Layer (type)                Output Shape              Param #   \n",
      "=================================================================\n",
      " conv2d (Conv2D)             (None, 28, 28, 32)        320       \n",
      "                                                                 \n",
      " batch_normalization (BatchN  (None, 28, 28, 32)       128       \n",
      " ormalization)                                                   \n",
      "                                                                 \n",
      " conv2d_1 (Conv2D)           (None, 28, 28, 32)        9248      \n",
      "                                                                 \n",
      " batch_normalization_1 (Batc  (None, 28, 28, 32)       128       \n",
      " hNormalization)                                                 \n",
      "                                                                 \n",
      " max_pooling2d (MaxPooling2D  (None, 14, 14, 32)       0         \n",
      " )                                                               \n",
      "                                                                 \n",
      " dropout (Dropout)           (None, 14, 14, 32)        0         \n",
      "                                                                 \n",
      " conv2d_2 (Conv2D)           (None, 14, 14, 64)        18496     \n",
      "                                                                 \n",
      " batch_normalization_2 (Batc  (None, 14, 14, 64)       256       \n",
      " hNormalization)                                                 \n",
      "                                                                 \n",
      " conv2d_3 (Conv2D)           (None, 14, 14, 64)        36928     \n",
      "                                                                 \n",
      " batch_normalization_3 (Batc  (None, 14, 14, 64)       256       \n",
      " hNormalization)                                                 \n",
      "                                                                 \n",
      " max_pooling2d_1 (MaxPooling  (None, 7, 7, 64)         0         \n",
      " 2D)                                                             \n",
      "                                                                 \n",
      " dropout_1 (Dropout)         (None, 7, 7, 64)          0         \n",
      "                                                                 \n",
      " conv2d_4 (Conv2D)           (None, 7, 7, 128)         204928    \n",
      "                                                                 \n",
      " batch_normalization_4 (Batc  (None, 7, 7, 128)        512       \n",
      " hNormalization)                                                 \n",
      "                                                                 \n",
      " conv2d_5 (Conv2D)           (None, 7, 7, 128)         409728    \n",
      "                                                                 \n",
      " batch_normalization_5 (Batc  (None, 7, 7, 128)        512       \n",
      " hNormalization)                                                 \n",
      "                                                                 \n",
      " max_pooling2d_2 (MaxPooling  (None, 3, 3, 128)        0         \n",
      " 2D)                                                             \n",
      "                                                                 \n",
      " dropout_2 (Dropout)         (None, 3, 3, 128)         0         \n",
      "                                                                 \n",
      " conv2d_6 (Conv2D)           (None, 3, 3, 256)         819456    \n",
      "                                                                 \n",
      " batch_normalization_6 (Batc  (None, 3, 3, 256)        1024      \n",
      " hNormalization)                                                 \n",
      "                                                                 \n",
      " conv2d_7 (Conv2D)           (None, 3, 3, 256)         1638656   \n",
      "                                                                 \n",
      " batch_normalization_7 (Batc  (None, 3, 3, 256)        1024      \n",
      " hNormalization)                                                 \n",
      "                                                                 \n",
      " max_pooling2d_3 (MaxPooling  (None, 1, 1, 256)        0         \n",
      " 2D)                                                             \n",
      "                                                                 \n",
      " dropout_3 (Dropout)         (None, 1, 1, 256)         0         \n",
      "                                                                 \n",
      " flatten (Flatten)           (None, 256)               0         \n",
      "                                                                 \n",
      " my_dense (Dense)            (None, 256)               65792     \n",
      "                                                                 \n",
      " dropout_4 (Dropout)         (None, 256)               0         \n",
      "                                                                 \n",
      " dense (Dense)               (None, 128)               32896     \n",
      "                                                                 \n",
      " dropout_5 (Dropout)         (None, 128)               0         \n",
      "                                                                 \n",
      " dense_1 (Dense)             (None, 10)                1290      \n",
      "                                                                 \n",
      "=================================================================\n",
      "Total params: 3,241,578\n",
      "Trainable params: 3,239,658\n",
      "Non-trainable params: 1,920\n",
      "_________________________________________________________________\n"
     ]
    }
   ],
   "source": [
    "#CNN Model Building\n",
    "\n",
    "# input: 28x28 images with 1 channels -> (28, 28, 1) tensors.\n",
    "#REason for having grey scale 1 channel\n",
    "# https://stackoverflow.com/questions/53044116/difference-between-grayscale-images-represented-by-3-channels-and-1-channel-in-c#:~:text=The%20information%20given%20by%20the,take%20more%20time%20to%20compute\n",
    "# this applies 32 convolution filters of size 3x3 each.\n",
    "# First two convolution layer has 32 Feature Maps\n",
    "model = Sequential()\n",
    "model.add(Conv2D(32, (3, 3), activation='relu', input_shape=(28, 28, 1),padding='same'))\n",
    "model.add(BatchNormalization(momentum=0.9, epsilon=1e-5, gamma_initializer=\"uniform\"))\n",
    "#model.add(LeakyReLU(alpha=0.1))\n",
    "model.add(Conv2D(32, (3, 3), activation='relu',padding='same'))\n",
    "model.add(BatchNormalization(momentum=0.9, epsilon=1e-5, gamma_initializer=\"uniform\"))\n",
    "#model.add(LeakyReLU(alpha=0.1))\n",
    "model.add(MaxPooling2D(pool_size=(2, 2)))\n",
    "model.add(Dropout(0.5))\n",
    "\n",
    "# Subsequent two convolution layer has 64 Feature Maps\n",
    "model.add(Conv2D(64, (3, 3), activation='relu',padding='same'))\n",
    "model.add(BatchNormalization(momentum=0.9, epsilon=1e-5, gamma_initializer=\"uniform\"))\n",
    "#model.add(LeakyReLU(alpha=0.1))\n",
    "model.add(Conv2D(64, (3, 3), activation='relu',padding='same'))\n",
    "model.add(BatchNormalization(momentum=0.9, epsilon=1e-5, gamma_initializer=\"uniform\"))\n",
    "#model.add(LeakyReLU(alpha=0.1))\n",
    "model.add(MaxPooling2D(pool_size=(2, 2)))\n",
    "model.add(Dropout(0.5))\n",
    "\n",
    "# Next two convolution layer has 128 Feature Maps\n",
    "model.add(Conv2D(128, kernel_size=5, activation='relu',padding='same'))\n",
    "model.add(BatchNormalization(momentum=0.9, epsilon=1e-5, gamma_initializer=\"uniform\"))\n",
    "#model.add(LeakyReLU(alpha=0.1))\n",
    "model.add(Conv2D(128, kernel_size=5, activation='relu',padding='same'))\n",
    "model.add(BatchNormalization(momentum=0.9, epsilon=1e-5, gamma_initializer=\"uniform\"))\n",
    "#model.add(LeakyReLU(alpha=0.1))\n",
    "model.add(MaxPooling2D(pool_size=(2, 2)))\n",
    "model.add(Dropout(0.5))\n",
    "\n",
    "# Final two convolution layer has 128 Feature Maps\n",
    "model.add(Conv2D(256, kernel_size=5, activation='relu',padding='same'))\n",
    "model.add(BatchNormalization(momentum=0.9, epsilon=1e-5, gamma_initializer=\"uniform\"))\n",
    "#model.add(LeakyReLU(alpha=0.1))\n",
    "model.add(Conv2D(256, kernel_size=5, activation='relu',padding='same'))\n",
    "model.add(BatchNormalization(momentum=0.9, epsilon=1e-5, gamma_initializer=\"uniform\"))\n",
    "#model.add(LeakyReLU(alpha=0.1))\n",
    "model.add(MaxPooling2D(pool_size=(2, 2)))\n",
    "model.add(Dropout(0.5))\n",
    "\n",
    "\n",
    "model.add(Flatten())\n",
    "\n",
    "\n",
    "# Dense Layer\n",
    "#model = keras.applications.inception_v3.InceptionV3(weights= None, include_top=False, input_shape= (28,28,1))\n",
    "model.add(Dense(256, activation='relu', name='my_dense'))\n",
    "model.add(Dropout(0.5))\n",
    "model.add(Dense(128, activation='relu'))\n",
    "model.add(Dropout(0.5))\n",
    "model.add(Dense(10, activation='softmax'))\n",
    "\n",
    "\n",
    "\n",
    "model.summary()"
   ]
  },
  {
   "cell_type": "markdown",
   "id": "e0b3e2df",
   "metadata": {},
   "source": [
    "#### <font color='blue'> 11. Creating Intermediate Layer </font>"
   ]
  },
  {
   "cell_type": "code",
   "execution_count": 21,
   "id": "b60cd20b",
   "metadata": {},
   "outputs": [
    {
     "name": "stdout",
     "output_type": "stream",
     "text": [
      "Model: \"model\"\n",
      "_________________________________________________________________\n",
      " Layer (type)                Output Shape              Param #   \n",
      "=================================================================\n",
      " conv2d_input (InputLayer)   [(None, 28, 28, 1)]       0         \n",
      "                                                                 \n",
      " conv2d (Conv2D)             (None, 28, 28, 32)        320       \n",
      "                                                                 \n",
      " batch_normalization (BatchN  (None, 28, 28, 32)       128       \n",
      " ormalization)                                                   \n",
      "                                                                 \n",
      " conv2d_1 (Conv2D)           (None, 28, 28, 32)        9248      \n",
      "                                                                 \n",
      " batch_normalization_1 (Batc  (None, 28, 28, 32)       128       \n",
      " hNormalization)                                                 \n",
      "                                                                 \n",
      " max_pooling2d (MaxPooling2D  (None, 14, 14, 32)       0         \n",
      " )                                                               \n",
      "                                                                 \n",
      " dropout (Dropout)           (None, 14, 14, 32)        0         \n",
      "                                                                 \n",
      " conv2d_2 (Conv2D)           (None, 14, 14, 64)        18496     \n",
      "                                                                 \n",
      " batch_normalization_2 (Batc  (None, 14, 14, 64)       256       \n",
      " hNormalization)                                                 \n",
      "                                                                 \n",
      " conv2d_3 (Conv2D)           (None, 14, 14, 64)        36928     \n",
      "                                                                 \n",
      " batch_normalization_3 (Batc  (None, 14, 14, 64)       256       \n",
      " hNormalization)                                                 \n",
      "                                                                 \n",
      " max_pooling2d_1 (MaxPooling  (None, 7, 7, 64)         0         \n",
      " 2D)                                                             \n",
      "                                                                 \n",
      " dropout_1 (Dropout)         (None, 7, 7, 64)          0         \n",
      "                                                                 \n",
      " conv2d_4 (Conv2D)           (None, 7, 7, 128)         204928    \n",
      "                                                                 \n",
      " batch_normalization_4 (Batc  (None, 7, 7, 128)        512       \n",
      " hNormalization)                                                 \n",
      "                                                                 \n",
      " conv2d_5 (Conv2D)           (None, 7, 7, 128)         409728    \n",
      "                                                                 \n",
      " batch_normalization_5 (Batc  (None, 7, 7, 128)        512       \n",
      " hNormalization)                                                 \n",
      "                                                                 \n",
      " max_pooling2d_2 (MaxPooling  (None, 3, 3, 128)        0         \n",
      " 2D)                                                             \n",
      "                                                                 \n",
      " dropout_2 (Dropout)         (None, 3, 3, 128)         0         \n",
      "                                                                 \n",
      " conv2d_6 (Conv2D)           (None, 3, 3, 256)         819456    \n",
      "                                                                 \n",
      " batch_normalization_6 (Batc  (None, 3, 3, 256)        1024      \n",
      " hNormalization)                                                 \n",
      "                                                                 \n",
      " conv2d_7 (Conv2D)           (None, 3, 3, 256)         1638656   \n",
      "                                                                 \n",
      " batch_normalization_7 (Batc  (None, 3, 3, 256)        1024      \n",
      " hNormalization)                                                 \n",
      "                                                                 \n",
      " max_pooling2d_3 (MaxPooling  (None, 1, 1, 256)        0         \n",
      " 2D)                                                             \n",
      "                                                                 \n",
      " dropout_3 (Dropout)         (None, 1, 1, 256)         0         \n",
      "                                                                 \n",
      " flatten (Flatten)           (None, 256)               0         \n",
      "                                                                 \n",
      " my_dense (Dense)            (None, 256)               65792     \n",
      "                                                                 \n",
      "=================================================================\n",
      "Total params: 3,207,392\n",
      "Trainable params: 3,205,472\n",
      "Non-trainable params: 1,920\n",
      "_________________________________________________________________\n"
     ]
    }
   ],
   "source": [
    "#Crating a Intermediate Layer from the CNN's dense layer\n",
    "layer_name='my_dense'\n",
    "intermediate_layer_model = Model(inputs=model.input,\n",
    "                                 outputs=model.get_layer(layer_name).output)\n",
    "\n",
    "intermediate_layer_model.summary()"
   ]
  },
  {
   "cell_type": "markdown",
   "id": "5db1da83",
   "metadata": {},
   "source": [
    "#### <font color='blue'> 12. Data Augmentation </font>"
   ]
  },
  {
   "cell_type": "markdown",
   "id": "15b27c8a",
   "metadata": {},
   "source": [
    "The ImageDataGenerator class in Keras is used for implementing image augmentation. The major advantage of the Keras ImageDataGenerator class is its ability to produce real-time image augmentation. This simply means it can generate augmented images dynamically during the training of the model making the overall mode more robust and accurate."
   ]
  },
  {
   "cell_type": "raw",
   "id": "fc5be936",
   "metadata": {},
   "source": [
    "# Data Augmentation using keras\n",
    "datagen = ImageDataGenerator(\n",
    "    rotation_range=15,\n",
    "    width_shift_range=0.2,\n",
    "    height_shift_range=0.2,\n",
    "    shear_range = 15,\n",
    "    horizontal_flip = False,\n",
    "    zoom_range = 0.20)"
   ]
  },
  {
   "cell_type": "markdown",
   "id": "d489c108",
   "metadata": {},
   "source": [
    "#### <font color='blue'> 13. Optimisation </font>"
   ]
  },
  {
   "cell_type": "raw",
   "id": "9beb6633",
   "metadata": {},
   "source": [
    "#0ptimisation - Need to understand how the validation accuracy is compared here for feature extraction\n",
    "#from keras.optimizers import Adam, Adadelta, RMSprop\n",
    "\n",
    "#model.compile(loss='categorical_crossentropy',optimizer=Adam(),metrics=['accuracy'])\n",
    "intermediate_layer_model.compile(loss='categorical_crossentropy',optimizer=Adam(),metrics=['accuracy'])\n",
    "datagen.fit(train_image)\n",
    "\n",
    "# training\n",
    "history = intermediate_layer_model.fit_generator(datagen.flow(train_image,train_label1),\n",
    "                              epochs = 2, #epoch,batch_size can try with different values 50,100,\n",
    "                              shuffle=True,\n",
    "                              validation_data = (val_image,val_label),\n",
    "                              verbose = 1,\n",
    "                              steps_per_epoch=train_image.shape[0] // 32) #ned to change as per above"
   ]
  },
  {
   "cell_type": "code",
   "execution_count": 22,
   "id": "d8f08fce",
   "metadata": {},
   "outputs": [
    {
     "name": "stdout",
     "output_type": "stream",
     "text": [
      "Epoch 1/75\n",
      "399/403 [============================>.] - ETA: 0s - loss: 0.5268 - accuracy: 0.7575"
     ]
    },
    {
     "ename": "KeyboardInterrupt",
     "evalue": "",
     "output_type": "error",
     "traceback": [
      "\u001b[1;31m---------------------------------------------------------------------------\u001b[0m",
      "\u001b[1;31mKeyboardInterrupt\u001b[0m                         Traceback (most recent call last)",
      "Input \u001b[1;32mIn [22]\u001b[0m, in \u001b[0;36m<cell line: 5>\u001b[1;34m()\u001b[0m\n\u001b[0;32m      1\u001b[0m model\u001b[38;5;241m.\u001b[39mcompile(optimizer\u001b[38;5;241m=\u001b[39m\u001b[38;5;124m'\u001b[39m\u001b[38;5;124madam\u001b[39m\u001b[38;5;124m'\u001b[39m,loss\u001b[38;5;241m=\u001b[39m\u001b[38;5;124m'\u001b[39m\u001b[38;5;124mcategorical_crossentropy\u001b[39m\u001b[38;5;124m'\u001b[39m,metrics\u001b[38;5;241m=\u001b[39m[\u001b[38;5;124m'\u001b[39m\u001b[38;5;124maccuracy\u001b[39m\u001b[38;5;124m'\u001b[39m])\n\u001b[0;32m      3\u001b[0m \u001b[38;5;66;03m#model.fit(train_image, train_label)\u001b[39;00m\n\u001b[1;32m----> 5\u001b[0m history \u001b[38;5;241m=\u001b[39m \u001b[43mmodel\u001b[49m\u001b[38;5;241;43m.\u001b[39;49m\u001b[43mfit\u001b[49m\u001b[43m(\u001b[49m\u001b[43mtrain_image\u001b[49m\u001b[43m,\u001b[49m\u001b[43m \u001b[49m\u001b[43mtrain_label\u001b[49m\u001b[43m,\u001b[49m\u001b[43mbatch_size\u001b[49m\u001b[38;5;241;43m=\u001b[39;49m\u001b[38;5;241;43m32\u001b[39;49m\u001b[43m,\u001b[49m\u001b[43m \u001b[49m\n\u001b[0;32m      6\u001b[0m \u001b[43m                              \u001b[49m\u001b[43msteps_per_epoch\u001b[49m\u001b[38;5;241;43m=\u001b[39;49m\u001b[43mtrain_image\u001b[49m\u001b[38;5;241;43m.\u001b[39;49m\u001b[43mshape\u001b[49m\u001b[43m[\u001b[49m\u001b[38;5;241;43m0\u001b[39;49m\u001b[43m]\u001b[49m\u001b[43m \u001b[49m\u001b[38;5;241;43m/\u001b[39;49m\u001b[38;5;241;43m/\u001b[39;49m\u001b[43m \u001b[49m\u001b[38;5;241;43m32\u001b[39;49m\u001b[43m,\u001b[49m\u001b[43m \u001b[49m\n\u001b[0;32m      7\u001b[0m \u001b[43m                              \u001b[49m\u001b[43mmax_queue_size\u001b[49m\u001b[38;5;241;43m=\u001b[39;49m\u001b[38;5;241;43m500\u001b[39;49m\u001b[43m,\u001b[49m\n\u001b[0;32m      8\u001b[0m \u001b[43m                              \u001b[49m\u001b[43mworkers\u001b[49m\u001b[38;5;241;43m=\u001b[39;49m\u001b[38;5;241;43m1\u001b[39;49m\u001b[43m,\u001b[49m\n\u001b[0;32m      9\u001b[0m \u001b[43m                              \u001b[49m\u001b[43mvalidation_data\u001b[49m\u001b[43m \u001b[49m\u001b[38;5;241;43m=\u001b[39;49m\u001b[43m \u001b[49m\u001b[43m(\u001b[49m\u001b[43mval_image\u001b[49m\u001b[43m,\u001b[49m\u001b[43mval_label\u001b[49m\u001b[43m)\u001b[49m\u001b[43m,\u001b[49m\n\u001b[0;32m     10\u001b[0m \u001b[43m                              \u001b[49m\u001b[43mepochs\u001b[49m\u001b[38;5;241;43m=\u001b[39;49m\u001b[38;5;241;43m75\u001b[39;49m\u001b[43m,\u001b[49m\u001b[43m \u001b[49m\n\u001b[0;32m     11\u001b[0m \u001b[43m                              \u001b[49m\u001b[43mverbose\u001b[49m\u001b[38;5;241;43m=\u001b[39;49m\u001b[38;5;241;43m1\u001b[39;49m\u001b[43m)\u001b[49m\n",
      "File \u001b[1;32m~\\anaconda3.0\\lib\\site-packages\\keras\\utils\\traceback_utils.py:65\u001b[0m, in \u001b[0;36mfilter_traceback.<locals>.error_handler\u001b[1;34m(*args, **kwargs)\u001b[0m\n\u001b[0;32m     63\u001b[0m filtered_tb \u001b[38;5;241m=\u001b[39m \u001b[38;5;28;01mNone\u001b[39;00m\n\u001b[0;32m     64\u001b[0m \u001b[38;5;28;01mtry\u001b[39;00m:\n\u001b[1;32m---> 65\u001b[0m     \u001b[38;5;28;01mreturn\u001b[39;00m fn(\u001b[38;5;241m*\u001b[39margs, \u001b[38;5;241m*\u001b[39m\u001b[38;5;241m*\u001b[39mkwargs)\n\u001b[0;32m     66\u001b[0m \u001b[38;5;28;01mexcept\u001b[39;00m \u001b[38;5;167;01mException\u001b[39;00m \u001b[38;5;28;01mas\u001b[39;00m e:\n\u001b[0;32m     67\u001b[0m     filtered_tb \u001b[38;5;241m=\u001b[39m _process_traceback_frames(e\u001b[38;5;241m.\u001b[39m__traceback__)\n",
      "File \u001b[1;32m~\\anaconda3.0\\lib\\site-packages\\keras\\engine\\training.py:1564\u001b[0m, in \u001b[0;36mModel.fit\u001b[1;34m(self, x, y, batch_size, epochs, verbose, callbacks, validation_split, validation_data, shuffle, class_weight, sample_weight, initial_epoch, steps_per_epoch, validation_steps, validation_batch_size, validation_freq, max_queue_size, workers, use_multiprocessing)\u001b[0m\n\u001b[0;32m   1556\u001b[0m \u001b[38;5;28;01mwith\u001b[39;00m tf\u001b[38;5;241m.\u001b[39mprofiler\u001b[38;5;241m.\u001b[39mexperimental\u001b[38;5;241m.\u001b[39mTrace(\n\u001b[0;32m   1557\u001b[0m     \u001b[38;5;124m\"\u001b[39m\u001b[38;5;124mtrain\u001b[39m\u001b[38;5;124m\"\u001b[39m,\n\u001b[0;32m   1558\u001b[0m     epoch_num\u001b[38;5;241m=\u001b[39mepoch,\n\u001b[1;32m   (...)\u001b[0m\n\u001b[0;32m   1561\u001b[0m     _r\u001b[38;5;241m=\u001b[39m\u001b[38;5;241m1\u001b[39m,\n\u001b[0;32m   1562\u001b[0m ):\n\u001b[0;32m   1563\u001b[0m     callbacks\u001b[38;5;241m.\u001b[39mon_train_batch_begin(step)\n\u001b[1;32m-> 1564\u001b[0m     tmp_logs \u001b[38;5;241m=\u001b[39m \u001b[38;5;28;43mself\u001b[39;49m\u001b[38;5;241;43m.\u001b[39;49m\u001b[43mtrain_function\u001b[49m\u001b[43m(\u001b[49m\u001b[43miterator\u001b[49m\u001b[43m)\u001b[49m\n\u001b[0;32m   1565\u001b[0m     \u001b[38;5;28;01mif\u001b[39;00m data_handler\u001b[38;5;241m.\u001b[39mshould_sync:\n\u001b[0;32m   1566\u001b[0m         context\u001b[38;5;241m.\u001b[39masync_wait()\n",
      "File \u001b[1;32m~\\AppData\\Roaming\\Python\\Python39\\site-packages\\tensorflow\\python\\util\\traceback_utils.py:150\u001b[0m, in \u001b[0;36mfilter_traceback.<locals>.error_handler\u001b[1;34m(*args, **kwargs)\u001b[0m\n\u001b[0;32m    148\u001b[0m filtered_tb \u001b[38;5;241m=\u001b[39m \u001b[38;5;28;01mNone\u001b[39;00m\n\u001b[0;32m    149\u001b[0m \u001b[38;5;28;01mtry\u001b[39;00m:\n\u001b[1;32m--> 150\u001b[0m   \u001b[38;5;28;01mreturn\u001b[39;00m fn(\u001b[38;5;241m*\u001b[39margs, \u001b[38;5;241m*\u001b[39m\u001b[38;5;241m*\u001b[39mkwargs)\n\u001b[0;32m    151\u001b[0m \u001b[38;5;28;01mexcept\u001b[39;00m \u001b[38;5;167;01mException\u001b[39;00m \u001b[38;5;28;01mas\u001b[39;00m e:\n\u001b[0;32m    152\u001b[0m   filtered_tb \u001b[38;5;241m=\u001b[39m _process_traceback_frames(e\u001b[38;5;241m.\u001b[39m__traceback__)\n",
      "File \u001b[1;32m~\\AppData\\Roaming\\Python\\Python39\\site-packages\\tensorflow\\python\\eager\\def_function.py:915\u001b[0m, in \u001b[0;36mFunction.__call__\u001b[1;34m(self, *args, **kwds)\u001b[0m\n\u001b[0;32m    912\u001b[0m compiler \u001b[38;5;241m=\u001b[39m \u001b[38;5;124m\"\u001b[39m\u001b[38;5;124mxla\u001b[39m\u001b[38;5;124m\"\u001b[39m \u001b[38;5;28;01mif\u001b[39;00m \u001b[38;5;28mself\u001b[39m\u001b[38;5;241m.\u001b[39m_jit_compile \u001b[38;5;28;01melse\u001b[39;00m \u001b[38;5;124m\"\u001b[39m\u001b[38;5;124mnonXla\u001b[39m\u001b[38;5;124m\"\u001b[39m\n\u001b[0;32m    914\u001b[0m \u001b[38;5;28;01mwith\u001b[39;00m OptionalXlaContext(\u001b[38;5;28mself\u001b[39m\u001b[38;5;241m.\u001b[39m_jit_compile):\n\u001b[1;32m--> 915\u001b[0m   result \u001b[38;5;241m=\u001b[39m \u001b[38;5;28mself\u001b[39m\u001b[38;5;241m.\u001b[39m_call(\u001b[38;5;241m*\u001b[39margs, \u001b[38;5;241m*\u001b[39m\u001b[38;5;241m*\u001b[39mkwds)\n\u001b[0;32m    917\u001b[0m new_tracing_count \u001b[38;5;241m=\u001b[39m \u001b[38;5;28mself\u001b[39m\u001b[38;5;241m.\u001b[39mexperimental_get_tracing_count()\n\u001b[0;32m    918\u001b[0m without_tracing \u001b[38;5;241m=\u001b[39m (tracing_count \u001b[38;5;241m==\u001b[39m new_tracing_count)\n",
      "File \u001b[1;32m~\\AppData\\Roaming\\Python\\Python39\\site-packages\\tensorflow\\python\\eager\\def_function.py:947\u001b[0m, in \u001b[0;36mFunction._call\u001b[1;34m(self, *args, **kwds)\u001b[0m\n\u001b[0;32m    944\u001b[0m   \u001b[38;5;28mself\u001b[39m\u001b[38;5;241m.\u001b[39m_lock\u001b[38;5;241m.\u001b[39mrelease()\n\u001b[0;32m    945\u001b[0m   \u001b[38;5;66;03m# In this case we have created variables on the first call, so we run the\u001b[39;00m\n\u001b[0;32m    946\u001b[0m   \u001b[38;5;66;03m# defunned version which is guaranteed to never create variables.\u001b[39;00m\n\u001b[1;32m--> 947\u001b[0m   \u001b[38;5;28;01mreturn\u001b[39;00m \u001b[38;5;28mself\u001b[39m\u001b[38;5;241m.\u001b[39m_stateless_fn(\u001b[38;5;241m*\u001b[39margs, \u001b[38;5;241m*\u001b[39m\u001b[38;5;241m*\u001b[39mkwds)  \u001b[38;5;66;03m# pylint: disable=not-callable\u001b[39;00m\n\u001b[0;32m    948\u001b[0m \u001b[38;5;28;01melif\u001b[39;00m \u001b[38;5;28mself\u001b[39m\u001b[38;5;241m.\u001b[39m_stateful_fn \u001b[38;5;129;01mis\u001b[39;00m \u001b[38;5;129;01mnot\u001b[39;00m \u001b[38;5;28;01mNone\u001b[39;00m:\n\u001b[0;32m    949\u001b[0m   \u001b[38;5;66;03m# Release the lock early so that multiple threads can perform the call\u001b[39;00m\n\u001b[0;32m    950\u001b[0m   \u001b[38;5;66;03m# in parallel.\u001b[39;00m\n\u001b[0;32m    951\u001b[0m   \u001b[38;5;28mself\u001b[39m\u001b[38;5;241m.\u001b[39m_lock\u001b[38;5;241m.\u001b[39mrelease()\n",
      "File \u001b[1;32m~\\AppData\\Roaming\\Python\\Python39\\site-packages\\tensorflow\\python\\eager\\function.py:2496\u001b[0m, in \u001b[0;36mFunction.__call__\u001b[1;34m(self, *args, **kwargs)\u001b[0m\n\u001b[0;32m   2493\u001b[0m \u001b[38;5;28;01mwith\u001b[39;00m \u001b[38;5;28mself\u001b[39m\u001b[38;5;241m.\u001b[39m_lock:\n\u001b[0;32m   2494\u001b[0m   (graph_function,\n\u001b[0;32m   2495\u001b[0m    filtered_flat_args) \u001b[38;5;241m=\u001b[39m \u001b[38;5;28mself\u001b[39m\u001b[38;5;241m.\u001b[39m_maybe_define_function(args, kwargs)\n\u001b[1;32m-> 2496\u001b[0m \u001b[38;5;28;01mreturn\u001b[39;00m \u001b[43mgraph_function\u001b[49m\u001b[38;5;241;43m.\u001b[39;49m\u001b[43m_call_flat\u001b[49m\u001b[43m(\u001b[49m\n\u001b[0;32m   2497\u001b[0m \u001b[43m    \u001b[49m\u001b[43mfiltered_flat_args\u001b[49m\u001b[43m,\u001b[49m\u001b[43m \u001b[49m\u001b[43mcaptured_inputs\u001b[49m\u001b[38;5;241;43m=\u001b[39;49m\u001b[43mgraph_function\u001b[49m\u001b[38;5;241;43m.\u001b[39;49m\u001b[43mcaptured_inputs\u001b[49m\u001b[43m)\u001b[49m\n",
      "File \u001b[1;32m~\\AppData\\Roaming\\Python\\Python39\\site-packages\\tensorflow\\python\\eager\\function.py:1862\u001b[0m, in \u001b[0;36mConcreteFunction._call_flat\u001b[1;34m(self, args, captured_inputs, cancellation_manager)\u001b[0m\n\u001b[0;32m   1858\u001b[0m possible_gradient_type \u001b[38;5;241m=\u001b[39m gradients_util\u001b[38;5;241m.\u001b[39mPossibleTapeGradientTypes(args)\n\u001b[0;32m   1859\u001b[0m \u001b[38;5;28;01mif\u001b[39;00m (possible_gradient_type \u001b[38;5;241m==\u001b[39m gradients_util\u001b[38;5;241m.\u001b[39mPOSSIBLE_GRADIENT_TYPES_NONE\n\u001b[0;32m   1860\u001b[0m     \u001b[38;5;129;01mand\u001b[39;00m executing_eagerly):\n\u001b[0;32m   1861\u001b[0m   \u001b[38;5;66;03m# No tape is watching; skip to running the function.\u001b[39;00m\n\u001b[1;32m-> 1862\u001b[0m   \u001b[38;5;28;01mreturn\u001b[39;00m \u001b[38;5;28mself\u001b[39m\u001b[38;5;241m.\u001b[39m_build_call_outputs(\u001b[38;5;28;43mself\u001b[39;49m\u001b[38;5;241;43m.\u001b[39;49m\u001b[43m_inference_function\u001b[49m\u001b[38;5;241;43m.\u001b[39;49m\u001b[43mcall\u001b[49m\u001b[43m(\u001b[49m\n\u001b[0;32m   1863\u001b[0m \u001b[43m      \u001b[49m\u001b[43mctx\u001b[49m\u001b[43m,\u001b[49m\u001b[43m \u001b[49m\u001b[43margs\u001b[49m\u001b[43m,\u001b[49m\u001b[43m \u001b[49m\u001b[43mcancellation_manager\u001b[49m\u001b[38;5;241;43m=\u001b[39;49m\u001b[43mcancellation_manager\u001b[49m\u001b[43m)\u001b[49m)\n\u001b[0;32m   1864\u001b[0m forward_backward \u001b[38;5;241m=\u001b[39m \u001b[38;5;28mself\u001b[39m\u001b[38;5;241m.\u001b[39m_select_forward_and_backward_functions(\n\u001b[0;32m   1865\u001b[0m     args,\n\u001b[0;32m   1866\u001b[0m     possible_gradient_type,\n\u001b[0;32m   1867\u001b[0m     executing_eagerly)\n\u001b[0;32m   1868\u001b[0m forward_function, args_with_tangents \u001b[38;5;241m=\u001b[39m forward_backward\u001b[38;5;241m.\u001b[39mforward()\n",
      "File \u001b[1;32m~\\AppData\\Roaming\\Python\\Python39\\site-packages\\tensorflow\\python\\eager\\function.py:499\u001b[0m, in \u001b[0;36m_EagerDefinedFunction.call\u001b[1;34m(self, ctx, args, cancellation_manager)\u001b[0m\n\u001b[0;32m    497\u001b[0m \u001b[38;5;28;01mwith\u001b[39;00m _InterpolateFunctionError(\u001b[38;5;28mself\u001b[39m):\n\u001b[0;32m    498\u001b[0m   \u001b[38;5;28;01mif\u001b[39;00m cancellation_manager \u001b[38;5;129;01mis\u001b[39;00m \u001b[38;5;28;01mNone\u001b[39;00m:\n\u001b[1;32m--> 499\u001b[0m     outputs \u001b[38;5;241m=\u001b[39m \u001b[43mexecute\u001b[49m\u001b[38;5;241;43m.\u001b[39;49m\u001b[43mexecute\u001b[49m\u001b[43m(\u001b[49m\n\u001b[0;32m    500\u001b[0m \u001b[43m        \u001b[49m\u001b[38;5;28;43mstr\u001b[39;49m\u001b[43m(\u001b[49m\u001b[38;5;28;43mself\u001b[39;49m\u001b[38;5;241;43m.\u001b[39;49m\u001b[43msignature\u001b[49m\u001b[38;5;241;43m.\u001b[39;49m\u001b[43mname\u001b[49m\u001b[43m)\u001b[49m\u001b[43m,\u001b[49m\n\u001b[0;32m    501\u001b[0m \u001b[43m        \u001b[49m\u001b[43mnum_outputs\u001b[49m\u001b[38;5;241;43m=\u001b[39;49m\u001b[38;5;28;43mself\u001b[39;49m\u001b[38;5;241;43m.\u001b[39;49m\u001b[43m_num_outputs\u001b[49m\u001b[43m,\u001b[49m\n\u001b[0;32m    502\u001b[0m \u001b[43m        \u001b[49m\u001b[43minputs\u001b[49m\u001b[38;5;241;43m=\u001b[39;49m\u001b[43margs\u001b[49m\u001b[43m,\u001b[49m\n\u001b[0;32m    503\u001b[0m \u001b[43m        \u001b[49m\u001b[43mattrs\u001b[49m\u001b[38;5;241;43m=\u001b[39;49m\u001b[43mattrs\u001b[49m\u001b[43m,\u001b[49m\n\u001b[0;32m    504\u001b[0m \u001b[43m        \u001b[49m\u001b[43mctx\u001b[49m\u001b[38;5;241;43m=\u001b[39;49m\u001b[43mctx\u001b[49m\u001b[43m)\u001b[49m\n\u001b[0;32m    505\u001b[0m   \u001b[38;5;28;01melse\u001b[39;00m:\n\u001b[0;32m    506\u001b[0m     outputs \u001b[38;5;241m=\u001b[39m execute\u001b[38;5;241m.\u001b[39mexecute_with_cancellation(\n\u001b[0;32m    507\u001b[0m         \u001b[38;5;28mstr\u001b[39m(\u001b[38;5;28mself\u001b[39m\u001b[38;5;241m.\u001b[39msignature\u001b[38;5;241m.\u001b[39mname),\n\u001b[0;32m    508\u001b[0m         num_outputs\u001b[38;5;241m=\u001b[39m\u001b[38;5;28mself\u001b[39m\u001b[38;5;241m.\u001b[39m_num_outputs,\n\u001b[1;32m   (...)\u001b[0m\n\u001b[0;32m    511\u001b[0m         ctx\u001b[38;5;241m=\u001b[39mctx,\n\u001b[0;32m    512\u001b[0m         cancellation_manager\u001b[38;5;241m=\u001b[39mcancellation_manager)\n",
      "File \u001b[1;32m~\\AppData\\Roaming\\Python\\Python39\\site-packages\\tensorflow\\python\\eager\\execute.py:54\u001b[0m, in \u001b[0;36mquick_execute\u001b[1;34m(op_name, num_outputs, inputs, attrs, ctx, name)\u001b[0m\n\u001b[0;32m     52\u001b[0m \u001b[38;5;28;01mtry\u001b[39;00m:\n\u001b[0;32m     53\u001b[0m   ctx\u001b[38;5;241m.\u001b[39mensure_initialized()\n\u001b[1;32m---> 54\u001b[0m   tensors \u001b[38;5;241m=\u001b[39m \u001b[43mpywrap_tfe\u001b[49m\u001b[38;5;241;43m.\u001b[39;49m\u001b[43mTFE_Py_Execute\u001b[49m\u001b[43m(\u001b[49m\u001b[43mctx\u001b[49m\u001b[38;5;241;43m.\u001b[39;49m\u001b[43m_handle\u001b[49m\u001b[43m,\u001b[49m\u001b[43m \u001b[49m\u001b[43mdevice_name\u001b[49m\u001b[43m,\u001b[49m\u001b[43m \u001b[49m\u001b[43mop_name\u001b[49m\u001b[43m,\u001b[49m\n\u001b[0;32m     55\u001b[0m \u001b[43m                                      \u001b[49m\u001b[43minputs\u001b[49m\u001b[43m,\u001b[49m\u001b[43m \u001b[49m\u001b[43mattrs\u001b[49m\u001b[43m,\u001b[49m\u001b[43m \u001b[49m\u001b[43mnum_outputs\u001b[49m\u001b[43m)\u001b[49m\n\u001b[0;32m     56\u001b[0m \u001b[38;5;28;01mexcept\u001b[39;00m core\u001b[38;5;241m.\u001b[39m_NotOkStatusException \u001b[38;5;28;01mas\u001b[39;00m e:\n\u001b[0;32m     57\u001b[0m   \u001b[38;5;28;01mif\u001b[39;00m name \u001b[38;5;129;01mis\u001b[39;00m \u001b[38;5;129;01mnot\u001b[39;00m \u001b[38;5;28;01mNone\u001b[39;00m:\n",
      "\u001b[1;31mKeyboardInterrupt\u001b[0m: "
     ]
    }
   ],
   "source": [
    "model.compile(optimizer='adam',loss='categorical_crossentropy',metrics=['accuracy'])\n",
    "\n",
    "#model.fit(train_image, train_label)\n",
    "\n",
    "history = model.fit(train_image, train_label,batch_size=32, \n",
    "                              steps_per_epoch=train_image.shape[0] // 32, \n",
    "                              max_queue_size=500,\n",
    "                              workers=1,\n",
    "                              validation_data = (val_image,val_label),\n",
    "                              epochs=75, \n",
    "                              verbose=1)"
   ]
  },
  {
   "cell_type": "code",
   "execution_count": null,
   "id": "ca51c0e0",
   "metadata": {},
   "outputs": [],
   "source": [
    "##### Extract the train - intermediate output from CNN\n",
    "intermediate_output = intermediate_layer_model.predict(train_image) \n",
    "intermediate_output = pd.DataFrame(data=intermediate_output)\n",
    "intermediate_output.shape"
   ]
  },
  {
   "cell_type": "code",
   "execution_count": null,
   "id": "9bde5307",
   "metadata": {},
   "outputs": [],
   "source": [
    "# check the shape of test dataset\n",
    "print(val_image.shape)\n",
    "print(val_label.shape)"
   ]
  },
  {
   "cell_type": "code",
   "execution_count": null,
   "id": "8d47c969",
   "metadata": {},
   "outputs": [],
   "source": [
    "#reshape the dataset for XGBoost model building\n",
    "val_data = intermediate_output[7709:]"
   ]
  },
  {
   "cell_type": "code",
   "execution_count": null,
   "id": "acd70a38",
   "metadata": {},
   "outputs": [],
   "source": [
    "# Extract the test - intermediate output from CNN\n",
    "intermediate_test_output = intermediate_layer_model.predict(test_image)\n",
    "intermediate_test_output = pd.DataFrame(data=intermediate_test_output)"
   ]
  },
  {
   "cell_type": "markdown",
   "id": "38b37b85",
   "metadata": {},
   "source": [
    "#### <font color='blue'> 14. XGBooost model creation for intermediate values </font>"
   ]
  },
  {
   "cell_type": "code",
   "execution_count": null,
   "id": "849eefbb",
   "metadata": {
    "scrolled": true
   },
   "outputs": [],
   "source": [
    "#printing shape of intermediate values\n",
    "print(intermediate_output.shape)\n",
    "print(train_label1.shape)\n",
    "print(val_data.shape)\n",
    "print(val_label1.shape)"
   ]
  },
  {
   "cell_type": "code",
   "execution_count": null,
   "id": "030ccfde",
   "metadata": {},
   "outputs": [],
   "source": [
    "12863 - 5154\n"
   ]
  },
  {
   "cell_type": "code",
   "execution_count": null,
   "id": "9d8358af",
   "metadata": {},
   "outputs": [],
   "source": [
    "# #XGBoost model creation & XGBoost evaluate predictions\n",
    "\n",
    "xgb_model = XGBClassifier(seed=0)\n",
    "xgb_model.fit(intermediate_output, train_label1)\n",
    "# make predictions for test data\n",
    "y_pred = xgb_model.predict(val_data)\n",
    "predictions = [round(value) for value in y_pred]\n",
    "# evaluate predictions\n",
    "accuracy = accuracy_score(val_label1, predictions)\n",
    "print(\"Accuracy: %.2f%%\" % (accuracy * 100.0))\n",
    "#xgb_model.score(val_data, val_label1)"
   ]
  },
  {
   "cell_type": "code",
   "execution_count": null,
   "id": "13f4638f",
   "metadata": {},
   "outputs": [],
   "source": []
  },
  {
   "cell_type": "markdown",
   "id": "ab942369",
   "metadata": {},
   "source": [
    "Accuracy of XGBoost seems to be less, this could be due to less validation set, hence lets intorduce K-Fold cross validation to mitigate this issue and increase the accuracy of the model"
   ]
  },
  {
   "cell_type": "code",
   "execution_count": null,
   "id": "36dc82f9",
   "metadata": {},
   "outputs": [],
   "source": [
    "submission_xgb = xgb_model.predict(intermediate_test_output)"
   ]
  },
  {
   "cell_type": "code",
   "execution_count": null,
   "id": "66adb715",
   "metadata": {},
   "outputs": [],
   "source": [
    "#model = list()\n",
    "resample_xgb = list()\n",
    "precision_xgb = list()\n",
    "recall_xgb = list()\n",
    "F1score_xgb = list()\n",
    "AUCROC_xgb = list()"
   ]
  },
  {
   "cell_type": "code",
   "execution_count": null,
   "id": "7e53a1a5",
   "metadata": {},
   "outputs": [],
   "source": [
    "def test_eval( y_test, y_pred, algo=None, sampling=None):\n",
    "    # Test set prediction\n",
    "    #y_prob=clf_model.predict_proba(X_test)\n",
    "    #y_pred=clf_model.predict(X_test)\n",
    "    \n",
    "    #print('Confusion Matrix')\n",
    "    print('='*60)\n",
    "    print('Classification Report')\n",
    "    print('='*60)\n",
    "    print(classification_report(y_test,y_pred),\"\\n\")\n",
    "    #print('AUC-ROC')\n",
    "    #print('='*60)\n",
    "    #print(roc_auc_score(y_test, y_prob[:,1]))\n",
    "          \n",
    "    #model.append(algo)\n",
    "    precision_xgb.append(precision_score(y_test, y_pred))\n",
    "    recall_xgb.append(recall_score(y_test, y_pred))\n",
    "    F1score_xgb.append(f1_score(y_test, y_pred))\n",
    "    #AUCROC.append(roc_auc_score(y_test, y_prob[:,1]))\n",
    "    #resample.append(sampling)"
   ]
  },
  {
   "cell_type": "code",
   "execution_count": null,
   "id": "13dec3d2",
   "metadata": {},
   "outputs": [],
   "source": [
    "test_eval(test_label, submission_xgb)"
   ]
  },
  {
   "cell_type": "markdown",
   "id": "ebca93c3",
   "metadata": {},
   "source": [
    "https://github.com/arpcode/SMOTE-ADA-BOOST-COBRA/blob/main/Notebooks/SmoteAdaBoostedCC.ipynb"
   ]
  },
  {
   "cell_type": "markdown",
   "id": "cc418531",
   "metadata": {},
   "source": [
    "#### <font color='blue'>  K-Fold Validation </font>"
   ]
  },
  {
   "cell_type": "code",
   "execution_count": null,
   "id": "ec15c820",
   "metadata": {},
   "outputs": [],
   "source": [
    "#Importing required libraries\n",
    "from sklearn.datasets import load_breast_cancer\n",
    "import pandas as pd\n",
    "from sklearn.model_selection import KFold \n",
    "from sklearn.linear_model import LogisticRegression\n",
    "from sklearn.metrics import accuracy_score"
   ]
  },
  {
   "cell_type": "markdown",
   "id": "56ceef3d",
   "metadata": {},
   "source": [
    "#### Train Accuracy"
   ]
  },
  {
   "cell_type": "code",
   "execution_count": null,
   "id": "de409efe",
   "metadata": {},
   "outputs": [],
   "source": [
    "#Train Accuracy\n",
    "# k-fold cross validation evaluation of xgboost model\n",
    "from numpy import loadtxt\n",
    "import xgboost\n",
    "from sklearn.model_selection import KFold\n",
    "from sklearn.model_selection import cross_val_score\n",
    "from sklearn.metrics import make_scorer, accuracy_score, precision_score, recall_score, f1_score \n",
    "from sklearn.model_selection import cross_validate\n",
    "from sklearn.model_selection import StratifiedKFold\n",
    "\n",
    "scoring = {'accuracy' : make_scorer(accuracy_score), \n",
    "           'precision' : make_scorer(precision_score),\n",
    "           'recall' : make_scorer(recall_score), \n",
    "           'f1_score' : make_scorer(f1_score)}\n",
    "\n",
    "#kfold = KFold(n_splits=10, random_state=7, shuffle=True)\n",
    "kfold = StratifiedKFold(n_splits=15, random_state=7, shuffle=True)\n",
    "results = cross_val_score(xgb_model, intermediate_output, train_label1, cv=kfold)\n",
    "#Test_results = cross_val_score(xgb_model, intermediate_output, val_label1, cv=kfold)\n",
    "#cv_results = cross_validate(xgb_model, X, y, cv=kfold, scoring=accuracy, verbose=10)\n",
    "print(\"Accuracy: %.2f%%\" % (results.mean()*100))"
   ]
  },
  {
   "cell_type": "markdown",
   "id": "c89a0d8b",
   "metadata": {},
   "source": [
    "#### Test Accuracy"
   ]
  },
  {
   "cell_type": "code",
   "execution_count": null,
   "id": "a3a8e285",
   "metadata": {},
   "outputs": [],
   "source": [
    "#Test Accuracy\n",
    "kfold = StratifiedKFold(n_splits=15, random_state=7, shuffle=True)\n",
    "test_results = cross_val_score(xgb_model, intermediate_test_output, test_label, cv=kfold)\n",
    "#Test_results = cross_val_score(xgb_model, intermediate_output, val_label1, cv=kfold)\n",
    "#cv_results = cross_validate(xgb_model, X, y, cv=kfold, scoring=accuracy, verbose=10)\n",
    "print(\"Accuracy: %.2f%%\" % (test_results.mean()*100))"
   ]
  },
  {
   "cell_type": "code",
   "execution_count": null,
   "id": "a638c5c2",
   "metadata": {},
   "outputs": [],
   "source": [
    "print(train_label1.shape)\n",
    "print(test_label.shape)\n",
    "print(val_label1.shape)"
   ]
  },
  {
   "cell_type": "code",
   "execution_count": null,
   "id": "a06d0c7e",
   "metadata": {},
   "outputs": [],
   "source": [
    "#Hyperparameters of XGB model\n",
    "xgb_model.get_xgb_params()"
   ]
  },
  {
   "cell_type": "markdown",
   "id": "d1ab928b",
   "metadata": {},
   "source": [
    "#### <font color='blue'> Ploting confusion matrix </font>"
   ]
  },
  {
   "cell_type": "code",
   "execution_count": null,
   "id": "d0c78d59",
   "metadata": {},
   "outputs": [],
   "source": [
    "from sklearn import metrics\n",
    "metrics.confusion_matrix(test_label, submission_xgb)"
   ]
  },
  {
   "cell_type": "code",
   "execution_count": null,
   "id": "70043ff9",
   "metadata": {},
   "outputs": [],
   "source": [
    "# TYPE-1 Error = False Positive = 4.66%  # predicted value is postive but it is false\n",
    "# TYPE-2 Error - False Negative = 10.39%  # predicted value is negative but it is true\n"
   ]
  },
  {
   "cell_type": "code",
   "execution_count": null,
   "id": "4bf4395c",
   "metadata": {},
   "outputs": [],
   "source": [
    "group_names = ['True Neg','False Pos','False Neg','True Pos']\n",
    "group_counts = [\"{0:0.0f}\".format(value) for value in\n",
    "                confusion_matrix(test_label, submission_xgb).flatten()]\n",
    "group_percentages = [\"{0:.2%}\".format(value) for value in\n",
    "                     confusion_matrix(test_label, submission_xgb).flatten()/np.sum(confusion_matrix(test_label, submission_xgb))]\n",
    "labels = [f\"{v1}\\n{v2}\\n{v3}\" for v1, v2, v3 in\n",
    "          zip(group_names,group_counts,group_percentages)]\n",
    "labels = np.asarray(labels).reshape(2,2)\n",
    "sns.heatmap(confusion_matrix(test_label, submission_xgb),fmt='', cmap='Blues', annot=labels)"
   ]
  },
  {
   "cell_type": "markdown",
   "id": "0490a789",
   "metadata": {},
   "source": [
    "#### Plotting AUC"
   ]
  },
  {
   "cell_type": "code",
   "execution_count": null,
   "id": "16df4bc7",
   "metadata": {},
   "outputs": [],
   "source": [
    "import numpy as np\n",
    " \n",
    "from sklearn .metrics import roc_auc_score\n",
    " \n",
    "auc = np.round(roc_auc_score(test_label, submission_xgb), 3)\n",
    " \n",
    "print(\"Auc for model is {}\". format(auc))"
   ]
  },
  {
   "cell_type": "code",
   "execution_count": null,
   "id": "b8deb487",
   "metadata": {},
   "outputs": [],
   "source": [
    "import matplotlib.pyplot as plt\n",
    "\n",
    "def plot_roc_curve(true_y, y_prob):\n",
    "    \"\"\"\n",
    "    plots the roc curve based of the probabilities\n",
    "    \"\"\"\n",
    "\n",
    "    fpr, tpr, thresholds = roc_curve(true_y, y_prob)\n",
    "    plt.plot(fpr, tpr)\n",
    "    plt.xlabel('False Positive Rate')\n",
    "    plt.ylabel('True Positive Rate')"
   ]
  },
  {
   "cell_type": "code",
   "execution_count": null,
   "id": "918693dd",
   "metadata": {},
   "outputs": [],
   "source": [
    "plot_roc_curve(test_label, submission_xgb)\n",
    "plt.title(\"AUC-ROC Curve\")"
   ]
  },
  {
   "cell_type": "code",
   "execution_count": null,
   "id": "f10e2ef2",
   "metadata": {},
   "outputs": [],
   "source": []
  }
 ],
 "metadata": {
  "kernelspec": {
   "display_name": "Python 3 (ipykernel)",
   "language": "python",
   "name": "python3"
  },
  "language_info": {
   "codemirror_mode": {
    "name": "ipython",
    "version": 3
   },
   "file_extension": ".py",
   "mimetype": "text/x-python",
   "name": "python",
   "nbconvert_exporter": "python",
   "pygments_lexer": "ipython3",
   "version": "3.9.13"
  }
 },
 "nbformat": 4,
 "nbformat_minor": 5
}
